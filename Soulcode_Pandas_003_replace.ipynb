{
  "nbformat": 4,
  "nbformat_minor": 0,
  "metadata": {
    "colab": {
      "name": "Soulcode_Pandas_003_replace.ipynb",
      "provenance": [],
      "collapsed_sections": [],
      "mount_file_id": "1wJXVFcKCrqfW87M1j5MBqGpWUO15uhYm",
      "authorship_tag": "ABX9TyPoYfIk0PRuX9Xs/iLwiZV/",
      "include_colab_link": true
    },
    "kernelspec": {
      "name": "python3",
      "display_name": "Python 3"
    },
    "language_info": {
      "name": "python"
    }
  },
  "cells": [
    {
      "cell_type": "markdown",
      "metadata": {
        "id": "view-in-github",
        "colab_type": "text"
      },
      "source": [
        "<a href=\"https://colab.research.google.com/github/victorog17/soulcode_aulas_pandas/blob/main/Soulcode_Pandas_003_replace.ipynb\" target=\"_parent\"><img src=\"https://colab.research.google.com/assets/colab-badge.svg\" alt=\"Open In Colab\"/></a>"
      ]
    },
    {
      "cell_type": "markdown",
      "metadata": {
        "id": "CwfvxzU7kWC6"
      },
      "source": [
        "\n",
        "https://drive.google.com/file/d/1gwocrgbxuuQGqCHcD0h1zvQ1nDHznnoR/view?usp=sharing\n",
        "\n",
        "Deve ser convertido neste dataframe os numeros em strings que façam sentido \n",
        "Ex: sexo , raça . as colunas que não façam sentido podem ser dropadas"
      ]
    },
    {
      "cell_type": "code",
      "metadata": {
        "id": "n8w3tvN2YY6C"
      },
      "source": [
        "import pandas as pd"
      ],
      "execution_count": null,
      "outputs": []
    },
    {
      "cell_type": "code",
      "metadata": {
        "colab": {
          "base_uri": "https://localhost:8080/",
          "height": 205
        },
        "id": "5LJD2W9rYdsL",
        "outputId": "0f885680-3f51-477a-ecc5-f2186ab8463a"
      },
      "source": [
        "df = pd.read_csv('/content/drive/MyDrive/Soul_Code_Academy/repositorio_pandas/pesquisa.csv')\n",
        "df.head()"
      ],
      "execution_count": null,
      "outputs": [
        {
          "output_type": "execute_result",
          "data": {
            "text/html": [
              "<div>\n",
              "<style scoped>\n",
              "    .dataframe tbody tr th:only-of-type {\n",
              "        vertical-align: middle;\n",
              "    }\n",
              "\n",
              "    .dataframe tbody tr th {\n",
              "        vertical-align: top;\n",
              "    }\n",
              "\n",
              "    .dataframe thead th {\n",
              "        text-align: right;\n",
              "    }\n",
              "</style>\n",
              "<table border=\"1\" class=\"dataframe\">\n",
              "  <thead>\n",
              "    <tr style=\"text-align: right;\">\n",
              "      <th></th>\n",
              "      <th>id</th>\n",
              "      <th>sexo</th>\n",
              "      <th>raca</th>\n",
              "      <th>origem</th>\n",
              "      <th>tipo</th>\n",
              "      <th>prog</th>\n",
              "      <th>leitura</th>\n",
              "      <th>escrita</th>\n",
              "      <th>matematica</th>\n",
              "      <th>ciencia</th>\n",
              "      <th>sociais</th>\n",
              "    </tr>\n",
              "  </thead>\n",
              "  <tbody>\n",
              "    <tr>\n",
              "      <th>0</th>\n",
              "      <td>70</td>\n",
              "      <td>0</td>\n",
              "      <td>4</td>\n",
              "      <td>1</td>\n",
              "      <td>1</td>\n",
              "      <td>1</td>\n",
              "      <td>57</td>\n",
              "      <td>52</td>\n",
              "      <td>41</td>\n",
              "      <td>47</td>\n",
              "      <td>57</td>\n",
              "    </tr>\n",
              "    <tr>\n",
              "      <th>1</th>\n",
              "      <td>121</td>\n",
              "      <td>1</td>\n",
              "      <td>4</td>\n",
              "      <td>2</td>\n",
              "      <td>1</td>\n",
              "      <td>3</td>\n",
              "      <td>68</td>\n",
              "      <td>59</td>\n",
              "      <td>53</td>\n",
              "      <td>63</td>\n",
              "      <td>61</td>\n",
              "    </tr>\n",
              "    <tr>\n",
              "      <th>2</th>\n",
              "      <td>86</td>\n",
              "      <td>0</td>\n",
              "      <td>4</td>\n",
              "      <td>3</td>\n",
              "      <td>1</td>\n",
              "      <td>1</td>\n",
              "      <td>44</td>\n",
              "      <td>33</td>\n",
              "      <td>54</td>\n",
              "      <td>58</td>\n",
              "      <td>31</td>\n",
              "    </tr>\n",
              "    <tr>\n",
              "      <th>3</th>\n",
              "      <td>141</td>\n",
              "      <td>0</td>\n",
              "      <td>4</td>\n",
              "      <td>3</td>\n",
              "      <td>1</td>\n",
              "      <td>3</td>\n",
              "      <td>63</td>\n",
              "      <td>44</td>\n",
              "      <td>47</td>\n",
              "      <td>53</td>\n",
              "      <td>56</td>\n",
              "    </tr>\n",
              "    <tr>\n",
              "      <th>4</th>\n",
              "      <td>172</td>\n",
              "      <td>0</td>\n",
              "      <td>4</td>\n",
              "      <td>2</td>\n",
              "      <td>1</td>\n",
              "      <td>2</td>\n",
              "      <td>47</td>\n",
              "      <td>52</td>\n",
              "      <td>57</td>\n",
              "      <td>53</td>\n",
              "      <td>61</td>\n",
              "    </tr>\n",
              "  </tbody>\n",
              "</table>\n",
              "</div>"
            ],
            "text/plain": [
              "    id  sexo  raca  origem  ...  escrita  matematica  ciencia  sociais\n",
              "0   70     0     4       1  ...       52          41       47       57\n",
              "1  121     1     4       2  ...       59          53       63       61\n",
              "2   86     0     4       3  ...       33          54       58       31\n",
              "3  141     0     4       3  ...       44          47       53       56\n",
              "4  172     0     4       2  ...       52          57       53       61\n",
              "\n",
              "[5 rows x 11 columns]"
            ]
          },
          "metadata": {},
          "execution_count": 21
        }
      ]
    },
    {
      "cell_type": "code",
      "metadata": {
        "colab": {
          "base_uri": "https://localhost:8080/"
        },
        "id": "4epNKhB7ZDi8",
        "outputId": "2b73176e-e4d8-4871-f02a-30e85b574f77"
      },
      "source": [
        "df.shape"
      ],
      "execution_count": null,
      "outputs": [
        {
          "output_type": "execute_result",
          "data": {
            "text/plain": [
              "(200, 11)"
            ]
          },
          "metadata": {},
          "execution_count": 3
        }
      ]
    },
    {
      "cell_type": "code",
      "metadata": {
        "colab": {
          "base_uri": "https://localhost:8080/"
        },
        "id": "_qT46rT3ZEbK",
        "outputId": "bb337fba-4ba2-4e60-847a-ffb28bbdd179"
      },
      "source": [
        "df['tipo'].value_counts()"
      ],
      "execution_count": null,
      "outputs": [
        {
          "output_type": "execute_result",
          "data": {
            "text/plain": [
              "1    168\n",
              "2     32\n",
              "Name: tipo, dtype: int64"
            ]
          },
          "metadata": {},
          "execution_count": 22
        }
      ]
    },
    {
      "cell_type": "code",
      "metadata": {
        "colab": {
          "base_uri": "https://localhost:8080/",
          "height": 205
        },
        "id": "Xiznr1jhZsMq",
        "outputId": "93fb1957-ce6a-4358-f945-1963bfe402cc"
      },
      "source": [
        "df.head()"
      ],
      "execution_count": null,
      "outputs": [
        {
          "output_type": "execute_result",
          "data": {
            "text/html": [
              "<div>\n",
              "<style scoped>\n",
              "    .dataframe tbody tr th:only-of-type {\n",
              "        vertical-align: middle;\n",
              "    }\n",
              "\n",
              "    .dataframe tbody tr th {\n",
              "        vertical-align: top;\n",
              "    }\n",
              "\n",
              "    .dataframe thead th {\n",
              "        text-align: right;\n",
              "    }\n",
              "</style>\n",
              "<table border=\"1\" class=\"dataframe\">\n",
              "  <thead>\n",
              "    <tr style=\"text-align: right;\">\n",
              "      <th></th>\n",
              "      <th>id</th>\n",
              "      <th>sexo</th>\n",
              "      <th>raca</th>\n",
              "      <th>origem</th>\n",
              "      <th>tipo</th>\n",
              "      <th>leitura</th>\n",
              "      <th>escrita</th>\n",
              "      <th>matematica</th>\n",
              "      <th>ciencia</th>\n",
              "      <th>sociais</th>\n",
              "    </tr>\n",
              "  </thead>\n",
              "  <tbody>\n",
              "    <tr>\n",
              "      <th>0</th>\n",
              "      <td>70</td>\n",
              "      <td>masculino</td>\n",
              "      <td>Preto</td>\n",
              "      <td>PE</td>\n",
              "      <td>destro</td>\n",
              "      <td>57</td>\n",
              "      <td>52</td>\n",
              "      <td>41</td>\n",
              "      <td>47</td>\n",
              "      <td>57</td>\n",
              "    </tr>\n",
              "    <tr>\n",
              "      <th>1</th>\n",
              "      <td>121</td>\n",
              "      <td>feminino</td>\n",
              "      <td>Preto</td>\n",
              "      <td>MG</td>\n",
              "      <td>destro</td>\n",
              "      <td>68</td>\n",
              "      <td>59</td>\n",
              "      <td>53</td>\n",
              "      <td>63</td>\n",
              "      <td>61</td>\n",
              "    </tr>\n",
              "    <tr>\n",
              "      <th>2</th>\n",
              "      <td>86</td>\n",
              "      <td>masculino</td>\n",
              "      <td>Preto</td>\n",
              "      <td>SP</td>\n",
              "      <td>destro</td>\n",
              "      <td>44</td>\n",
              "      <td>33</td>\n",
              "      <td>54</td>\n",
              "      <td>58</td>\n",
              "      <td>31</td>\n",
              "    </tr>\n",
              "    <tr>\n",
              "      <th>3</th>\n",
              "      <td>141</td>\n",
              "      <td>masculino</td>\n",
              "      <td>Preto</td>\n",
              "      <td>SP</td>\n",
              "      <td>destro</td>\n",
              "      <td>63</td>\n",
              "      <td>44</td>\n",
              "      <td>47</td>\n",
              "      <td>53</td>\n",
              "      <td>56</td>\n",
              "    </tr>\n",
              "    <tr>\n",
              "      <th>4</th>\n",
              "      <td>172</td>\n",
              "      <td>masculino</td>\n",
              "      <td>Preto</td>\n",
              "      <td>MG</td>\n",
              "      <td>destro</td>\n",
              "      <td>47</td>\n",
              "      <td>52</td>\n",
              "      <td>57</td>\n",
              "      <td>53</td>\n",
              "      <td>61</td>\n",
              "    </tr>\n",
              "  </tbody>\n",
              "</table>\n",
              "</div>"
            ],
            "text/plain": [
              "    id       sexo   raca origem  ... escrita  matematica  ciencia  sociais\n",
              "0   70  masculino  Preto     PE  ...      52          41       47       57\n",
              "1  121   feminino  Preto     MG  ...      59          53       63       61\n",
              "2   86  masculino  Preto     SP  ...      33          54       58       31\n",
              "3  141  masculino  Preto     SP  ...      44          47       53       56\n",
              "4  172  masculino  Preto     MG  ...      52          57       53       61\n",
              "\n",
              "[5 rows x 10 columns]"
            ]
          },
          "metadata": {},
          "execution_count": 31
        }
      ]
    },
    {
      "cell_type": "code",
      "metadata": {
        "id": "6sCPoRSqZGKN"
      },
      "source": [
        "df['sexo'].replace(0, 'masculino', inplace=True)\n",
        "df['sexo'].replace(1, 'feminino', inplace=True)"
      ],
      "execution_count": null,
      "outputs": []
    },
    {
      "cell_type": "code",
      "metadata": {
        "id": "HKR8UFiWZtkY"
      },
      "source": [
        "df['origem'].replace(1, 'PE', inplace=True)\n",
        "df['origem'].replace(2, 'MG', inplace=True)\n",
        "df['origem'].replace(3, 'SP', inplace=True)"
      ],
      "execution_count": null,
      "outputs": []
    },
    {
      "cell_type": "code",
      "metadata": {
        "id": "0OgcXSuOcD7V"
      },
      "source": [
        "df['raca'].replace(1, 'Amarelo', inplace=True)\n",
        "df['raca'].replace(2, 'Branco', inplace=True)\n",
        "df['raca'].replace(3, 'Pardo', inplace=True)\n",
        "df['raca'].replaceb(4, 'Preto', inplace=True)"
      ],
      "execution_count": null,
      "outputs": []
    },
    {
      "cell_type": "code",
      "metadata": {
        "id": "yS4ZMMjbehLF"
      },
      "source": [
        "df['tipo'].replace(1, 'destro', inplace=True)\n",
        "df['tipo'].replace(2, 'canhoto', inplace=True)"
      ],
      "execution_count": null,
      "outputs": []
    },
    {
      "cell_type": "code",
      "metadata": {
        "id": "loNnHyI6eqhR"
      },
      "source": [
        "df.drop('prog', axis=1, inplace=True)"
      ],
      "execution_count": null,
      "outputs": []
    },
    {
      "cell_type": "code",
      "metadata": {
        "colab": {
          "base_uri": "https://localhost:8080/",
          "height": 205
        },
        "id": "a6CyMPTSfOPk",
        "outputId": "f3ee92fe-693a-49ff-81a6-ab8d1bba7bef"
      },
      "source": [
        "df.head()"
      ],
      "execution_count": null,
      "outputs": [
        {
          "output_type": "execute_result",
          "data": {
            "text/html": [
              "<div>\n",
              "<style scoped>\n",
              "    .dataframe tbody tr th:only-of-type {\n",
              "        vertical-align: middle;\n",
              "    }\n",
              "\n",
              "    .dataframe tbody tr th {\n",
              "        vertical-align: top;\n",
              "    }\n",
              "\n",
              "    .dataframe thead th {\n",
              "        text-align: right;\n",
              "    }\n",
              "</style>\n",
              "<table border=\"1\" class=\"dataframe\">\n",
              "  <thead>\n",
              "    <tr style=\"text-align: right;\">\n",
              "      <th></th>\n",
              "      <th>id</th>\n",
              "      <th>sexo</th>\n",
              "      <th>raca</th>\n",
              "      <th>origem</th>\n",
              "      <th>tipo</th>\n",
              "      <th>leitura</th>\n",
              "      <th>escrita</th>\n",
              "      <th>matematica</th>\n",
              "      <th>ciencia</th>\n",
              "      <th>sociais</th>\n",
              "    </tr>\n",
              "  </thead>\n",
              "  <tbody>\n",
              "    <tr>\n",
              "      <th>0</th>\n",
              "      <td>70</td>\n",
              "      <td>masculino</td>\n",
              "      <td>Preto</td>\n",
              "      <td>PE</td>\n",
              "      <td>destro</td>\n",
              "      <td>57</td>\n",
              "      <td>52</td>\n",
              "      <td>41</td>\n",
              "      <td>47</td>\n",
              "      <td>57</td>\n",
              "    </tr>\n",
              "    <tr>\n",
              "      <th>1</th>\n",
              "      <td>121</td>\n",
              "      <td>feminino</td>\n",
              "      <td>Preto</td>\n",
              "      <td>MG</td>\n",
              "      <td>destro</td>\n",
              "      <td>68</td>\n",
              "      <td>59</td>\n",
              "      <td>53</td>\n",
              "      <td>63</td>\n",
              "      <td>61</td>\n",
              "    </tr>\n",
              "    <tr>\n",
              "      <th>2</th>\n",
              "      <td>86</td>\n",
              "      <td>masculino</td>\n",
              "      <td>Preto</td>\n",
              "      <td>SP</td>\n",
              "      <td>destro</td>\n",
              "      <td>44</td>\n",
              "      <td>33</td>\n",
              "      <td>54</td>\n",
              "      <td>58</td>\n",
              "      <td>31</td>\n",
              "    </tr>\n",
              "    <tr>\n",
              "      <th>3</th>\n",
              "      <td>141</td>\n",
              "      <td>masculino</td>\n",
              "      <td>Preto</td>\n",
              "      <td>SP</td>\n",
              "      <td>destro</td>\n",
              "      <td>63</td>\n",
              "      <td>44</td>\n",
              "      <td>47</td>\n",
              "      <td>53</td>\n",
              "      <td>56</td>\n",
              "    </tr>\n",
              "    <tr>\n",
              "      <th>4</th>\n",
              "      <td>172</td>\n",
              "      <td>masculino</td>\n",
              "      <td>Preto</td>\n",
              "      <td>MG</td>\n",
              "      <td>destro</td>\n",
              "      <td>47</td>\n",
              "      <td>52</td>\n",
              "      <td>57</td>\n",
              "      <td>53</td>\n",
              "      <td>61</td>\n",
              "    </tr>\n",
              "  </tbody>\n",
              "</table>\n",
              "</div>"
            ],
            "text/plain": [
              "    id       sexo   raca origem  ... escrita  matematica  ciencia  sociais\n",
              "0   70  masculino  Preto     PE  ...      52          41       47       57\n",
              "1  121   feminino  Preto     MG  ...      59          53       63       61\n",
              "2   86  masculino  Preto     SP  ...      33          54       58       31\n",
              "3  141  masculino  Preto     SP  ...      44          47       53       56\n",
              "4  172  masculino  Preto     MG  ...      52          57       53       61\n",
              "\n",
              "[5 rows x 10 columns]"
            ]
          },
          "metadata": {},
          "execution_count": 32
        }
      ]
    },
    {
      "cell_type": "code",
      "metadata": {
        "colab": {
          "base_uri": "https://localhost:8080/"
        },
        "id": "v_5sk92wfRnP",
        "outputId": "d41973c0-fe64-4401-977b-6ef4a11e46eb"
      },
      "source": [
        "df.dtypes"
      ],
      "execution_count": null,
      "outputs": [
        {
          "output_type": "execute_result",
          "data": {
            "text/plain": [
              "id             int64\n",
              "sexo          object\n",
              "raca          object\n",
              "origem        object\n",
              "tipo          object\n",
              "leitura        int64\n",
              "escrita        int64\n",
              "matematica     int64\n",
              "ciencia        int64\n",
              "sociais        int64\n",
              "dtype: object"
            ]
          },
          "metadata": {},
          "execution_count": 33
        }
      ]
    },
    {
      "cell_type": "code",
      "metadata": {
        "id": "dn5EdaQkfUkB"
      },
      "source": [
        ""
      ],
      "execution_count": null,
      "outputs": []
    }
  ]
}