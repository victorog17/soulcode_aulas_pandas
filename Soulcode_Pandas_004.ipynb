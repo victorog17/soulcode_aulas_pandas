{
  "nbformat": 4,
  "nbformat_minor": 0,
  "metadata": {
    "colab": {
      "name": "Soulcode_Pandas_004.ipynb",
      "provenance": [],
      "collapsed_sections": [],
      "mount_file_id": "1QFARXfYWLSkcpEbcwS0x-7juTA5EyhFV",
      "authorship_tag": "ABX9TyNje7FETdnH+7BSCv+/fypm",
      "include_colab_link": true
    },
    "kernelspec": {
      "name": "python3",
      "display_name": "Python 3"
    },
    "language_info": {
      "name": "python"
    }
  },
  "cells": [
    {
      "cell_type": "markdown",
      "metadata": {
        "id": "view-in-github",
        "colab_type": "text"
      },
      "source": [
        "<a href=\"https://colab.research.google.com/github/victorog17/soulcode_aulas_pandas/blob/main/Soulcode_Pandas_004.ipynb\" target=\"_parent\"><img src=\"https://colab.research.google.com/assets/colab-badge.svg\" alt=\"Open In Colab\"/></a>"
      ]
    },
    {
      "cell_type": "markdown",
      "metadata": {
        "id": "0pJdgSOWkQ1w"
      },
      "source": [
        "https://drive.google.com/file/d/1FBJFRB5UJfO4fy6X8AKvbSl7OcklCdhn/view?usp=sharing\n",
        "\n",
        "Instruções para essa base: Escolher alguma coluna como padrão para o dataframe , \n",
        "o dataframe deve ter dropada qualquer coluna que não faça sentido a pesquisa , \n",
        "exemplo \"numero da publicação\" , tambem realizar a conversão para lingua portuguesa dos titulos das colunas\n",
        "\n",
        "df = df.rename(columns={'oldName1': 'newName1', 'oldName2': 'newName2'})"
      ]
    },
    {
      "cell_type": "code",
      "metadata": {
        "id": "sTa-ZmWSfcxc"
      },
      "source": [
        "import pandas as pd"
      ],
      "execution_count": null,
      "outputs": []
    },
    {
      "cell_type": "code",
      "metadata": {
        "colab": {
          "base_uri": "https://localhost:8080/",
          "height": 571
        },
        "id": "1e1s3NMggl-T",
        "outputId": "de3ecd2e-9438-4916-ddb7-b387f67b0a90"
      },
      "source": [
        "df = pd.read_csv('/content/drive/MyDrive/Soul_Code_Academy/repositorio_pandas/cadastro.csv')\n",
        "df.head()"
      ],
      "execution_count": null,
      "outputs": [
        {
          "output_type": "execute_result",
          "data": {
            "text/html": [
              "<div>\n",
              "<style scoped>\n",
              "    .dataframe tbody tr th:only-of-type {\n",
              "        vertical-align: middle;\n",
              "    }\n",
              "\n",
              "    .dataframe tbody tr th {\n",
              "        vertical-align: top;\n",
              "    }\n",
              "\n",
              "    .dataframe thead th {\n",
              "        text-align: right;\n",
              "    }\n",
              "</style>\n",
              "<table border=\"1\" class=\"dataframe\">\n",
              "  <thead>\n",
              "    <tr style=\"text-align: right;\">\n",
              "      <th></th>\n",
              "      <th>row no</th>\n",
              "      <th>publication number</th>\n",
              "      <th>kind code</th>\n",
              "      <th>title</th>\n",
              "      <th>priority document</th>\n",
              "      <th>priority country</th>\n",
              "      <th>earliest priority date</th>\n",
              "      <th>earliest priority year</th>\n",
              "      <th>application date</th>\n",
              "      <th>publication date</th>\n",
              "      <th>publication year</th>\n",
              "      <th>applicant</th>\n",
              "      <th>inventors</th>\n",
              "      <th>ipc classes</th>\n",
              "      <th>family members</th>\n",
              "      <th>family size</th>\n",
              "      <th>wo in family</th>\n",
              "      <th>grant or application type families</th>\n",
              "      <th>granted patent</th>\n",
              "    </tr>\n",
              "  </thead>\n",
              "  <tbody>\n",
              "    <tr>\n",
              "      <th>0</th>\n",
              "      <td>1</td>\n",
              "      <td>AU2007202956</td>\n",
              "      <td>B2</td>\n",
              "      <td>Polymorph of a pharmaceutical</td>\n",
              "      <td>AU19990050037</td>\n",
              "      <td>Australia</td>\n",
              "      <td>1999-07-19T00:00:00Z</td>\n",
              "      <td>1999</td>\n",
              "      <td>2007-06-27T00:00:00Z</td>\n",
              "      <td>2007-07-19T00:00:00Z</td>\n",
              "      <td>2007</td>\n",
              "      <td>ABBOTT LAB</td>\n",
              "      <td>SALEKI-GERHARDT AZITA      | ALLEN KIMBERLY A ...</td>\n",
              "      <td>C07D41700</td>\n",
              "      <td>AU2003254711A1 | AU2007202943A1 | AU2003254711B2</td>\n",
              "      <td>3</td>\n",
              "      <td>No</td>\n",
              "      <td>Grant</td>\n",
              "      <td>Yes</td>\n",
              "    </tr>\n",
              "    <tr>\n",
              "      <th>1</th>\n",
              "      <td>2</td>\n",
              "      <td>CA2425495</td>\n",
              "      <td>A1</td>\n",
              "      <td>ANTI-RETROVIRAL ANALYSIS BY MASS SPECTROMETRY</td>\n",
              "      <td>CA2425495</td>\n",
              "      <td>Canada</td>\n",
              "      <td>2003-04-14T00:00:00Z</td>\n",
              "      <td>2003</td>\n",
              "      <td>2003-04-14T00:00:00Z</td>\n",
              "      <td>2004-10-14T00:00:00Z</td>\n",
              "      <td>2004</td>\n",
              "      <td>STEVEN J SOLDIN</td>\n",
              "      <td>SOLDIN STEVEN J    US</td>\n",
              "      <td>H01J04900 | G01N03072</td>\n",
              "      <td>None</td>\n",
              "      <td>1</td>\n",
              "      <td>No</td>\n",
              "      <td>Application</td>\n",
              "      <td>No</td>\n",
              "    </tr>\n",
              "    <tr>\n",
              "      <th>2</th>\n",
              "      <td>3</td>\n",
              "      <td>CN101440091</td>\n",
              "      <td>A</td>\n",
              "      <td>Ritonavir water-soluble derivatives, synthesiz...</td>\n",
              "      <td>CN20081072486</td>\n",
              "      <td>China</td>\n",
              "      <td>2008-12-26T00:00:00Z</td>\n",
              "      <td>2008</td>\n",
              "      <td>2008-12-26T00:00:00Z</td>\n",
              "      <td>2009-05-27T00:00:00Z</td>\n",
              "      <td>2009</td>\n",
              "      <td>XIAMEN UNIVERSITY</td>\n",
              "      <td>JIANFENG ZHENG    CN  | GUOZONG SHI    CN</td>\n",
              "      <td>C07D41714 | A61P03118 | A61K031426</td>\n",
              "      <td>None</td>\n",
              "      <td>1</td>\n",
              "      <td>No</td>\n",
              "      <td>Application</td>\n",
              "      <td>No</td>\n",
              "    </tr>\n",
              "    <tr>\n",
              "      <th>3</th>\n",
              "      <td>4</td>\n",
              "      <td>CN101613325</td>\n",
              "      <td>A</td>\n",
              "      <td>Process for producing 5-hydroxymethylthiazole</td>\n",
              "      <td>CN20081031608</td>\n",
              "      <td>China</td>\n",
              "      <td>2008-06-27T00:00:00Z</td>\n",
              "      <td>2008</td>\n",
              "      <td>2008-06-27T00:00:00Z</td>\n",
              "      <td>2009-12-30T00:00:00Z</td>\n",
              "      <td>2009</td>\n",
              "      <td>CUICENG YE</td>\n",
              "      <td>CUICENG YE      | HONGBO XIAO      | CHUNTAO K...</td>\n",
              "      <td>C07D27724</td>\n",
              "      <td>None</td>\n",
              "      <td>1</td>\n",
              "      <td>No</td>\n",
              "      <td>Application</td>\n",
              "      <td>No</td>\n",
              "    </tr>\n",
              "    <tr>\n",
              "      <th>4</th>\n",
              "      <td>5</td>\n",
              "      <td>CN1247554</td>\n",
              "      <td>C</td>\n",
              "      <td>Process for synthesizing ritonavir</td>\n",
              "      <td>CN20031121091</td>\n",
              "      <td>China</td>\n",
              "      <td>2003-12-24T00:00:00Z</td>\n",
              "      <td>2003</td>\n",
              "      <td>2003-12-24T00:00:00Z</td>\n",
              "      <td>2006-03-29T00:00:00Z</td>\n",
              "      <td>2006</td>\n",
              "      <td>XIAMEN UNIVERSITY</td>\n",
              "      <td>JIN LIREN XU    CN</td>\n",
              "      <td>C07D27728 | A61P03118</td>\n",
              "      <td>CN1554647A</td>\n",
              "      <td>1</td>\n",
              "      <td>No</td>\n",
              "      <td>Grant</td>\n",
              "      <td>Yes</td>\n",
              "    </tr>\n",
              "  </tbody>\n",
              "</table>\n",
              "</div>"
            ],
            "text/plain": [
              "   row no publication number  ... grant or application type families granted patent\n",
              "0       1       AU2007202956  ...                              Grant            Yes\n",
              "1       2          CA2425495  ...                        Application             No\n",
              "2       3        CN101440091  ...                        Application             No\n",
              "3       4        CN101613325  ...                        Application             No\n",
              "4       5          CN1247554  ...                              Grant            Yes\n",
              "\n",
              "[5 rows x 19 columns]"
            ]
          },
          "metadata": {},
          "execution_count": 2
        }
      ]
    },
    {
      "cell_type": "code",
      "metadata": {
        "colab": {
          "base_uri": "https://localhost:8080/"
        },
        "id": "yq0o2CxPhEUe",
        "outputId": "513012b4-70a8-4652-8164-176e3268b156"
      },
      "source": [
        "df.shape"
      ],
      "execution_count": null,
      "outputs": [
        {
          "output_type": "execute_result",
          "data": {
            "text/plain": [
              "(804, 19)"
            ]
          },
          "metadata": {},
          "execution_count": 3
        }
      ]
    },
    {
      "cell_type": "code",
      "metadata": {
        "colab": {
          "base_uri": "https://localhost:8080/"
        },
        "id": "_PhvC66WhH0f",
        "outputId": "353d5b99-ccc5-4e68-9db1-67becbbb5af9"
      },
      "source": [
        "df.dtypes"
      ],
      "execution_count": null,
      "outputs": [
        {
          "output_type": "execute_result",
          "data": {
            "text/plain": [
              "row no                                 int64\n",
              "publication number                    object\n",
              "kind code                             object\n",
              "title                                 object\n",
              "priority document                     object\n",
              "priority country                      object\n",
              "earliest priority date                object\n",
              "earliest priority year                 int64\n",
              "application date                      object\n",
              "publication date                      object\n",
              "publication year                       int64\n",
              "applicant                             object\n",
              "inventors                             object\n",
              "ipc classes                           object\n",
              "family members                        object\n",
              "family size                            int64\n",
              "wo in family                          object\n",
              "grant or application type families    object\n",
              "granted patent                        object\n",
              "dtype: object"
            ]
          },
          "metadata": {},
          "execution_count": 4
        }
      ]
    },
    {
      "cell_type": "code",
      "metadata": {
        "id": "vo_qUNH6hJHy"
      },
      "source": [
        ""
      ],
      "execution_count": null,
      "outputs": []
    }
  ]
}