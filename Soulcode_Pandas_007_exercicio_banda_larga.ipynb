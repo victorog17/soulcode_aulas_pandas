{
  "nbformat": 4,
  "nbformat_minor": 0,
  "metadata": {
    "colab": {
      "name": "Soulcode_Pandas_007_exercicio_banda_larga.ipynb",
      "provenance": [],
      "collapsed_sections": [],
      "mount_file_id": "1AHNPnOEwgislDWyWb-an4fp_yCi62cAs",
      "authorship_tag": "ABX9TyNvA79gmNwOttb1ei3Mxd2k",
      "include_colab_link": true
    },
    "kernelspec": {
      "name": "python3",
      "display_name": "Python 3"
    },
    "language_info": {
      "name": "python"
    }
  },
  "cells": [
    {
      "cell_type": "markdown",
      "metadata": {
        "id": "view-in-github",
        "colab_type": "text"
      },
      "source": [
        "<a href=\"https://colab.research.google.com/github/victorog17/soulcode_aulas_pandas/blob/main/Soulcode_Pandas_007_exercicio_banda_larga.ipynb\" target=\"_parent\"><img src=\"https://colab.research.google.com/assets/colab-badge.svg\" alt=\"Open In Colab\"/></a>"
      ]
    },
    {
      "cell_type": "markdown",
      "metadata": {
        "id": "mlmf9w6gwbTp"
      },
      "source": [
        "**EXERCICIO**\n",
        "\n",
        "Passar 'LTE', 'GSM', 'GPRS', 'OFDMA/TDD', 'EDGE' para 2G/3G/4G.\n",
        "\n",
        "Passar 'FTTH', 'FTTB' para FIBRA.\n",
        "\n",
        "Fazer filtro da tabela com os UFs 'PB', 'CE', 'RN' e combinar com o filtro portadora diferente de pequeno porte."
      ]
    },
    {
      "cell_type": "code",
      "metadata": {
        "id": "lbQ2_vDbHWhZ"
      },
      "source": [
        "import pandas as pd"
      ],
      "execution_count": null,
      "outputs": []
    },
    {
      "cell_type": "code",
      "metadata": {
        "id": "JxuQC5JrHrs3"
      },
      "source": [
        "df = pd.read_csv('https://storage.googleapis.com/dados_turmabc6_soul/Dados/Acessos_Banda_Larga_Fixa_2021.csv', sep=';')"
      ],
      "execution_count": null,
      "outputs": []
    },
    {
      "cell_type": "code",
      "metadata": {
        "colab": {
          "base_uri": "https://localhost:8080/",
          "height": 150
        },
        "id": "oR6KsyP9IxEV",
        "outputId": "6110e6a5-7ac1-4d67-be8f-fa7282918ec4"
      },
      "source": [
        "df.head(1)"
      ],
      "execution_count": null,
      "outputs": [
        {
          "output_type": "execute_result",
          "data": {
            "text/html": [
              "<div>\n",
              "<style scoped>\n",
              "    .dataframe tbody tr th:only-of-type {\n",
              "        vertical-align: middle;\n",
              "    }\n",
              "\n",
              "    .dataframe tbody tr th {\n",
              "        vertical-align: top;\n",
              "    }\n",
              "\n",
              "    .dataframe thead th {\n",
              "        text-align: right;\n",
              "    }\n",
              "</style>\n",
              "<table border=\"1\" class=\"dataframe\">\n",
              "  <thead>\n",
              "    <tr style=\"text-align: right;\">\n",
              "      <th></th>\n",
              "      <th>Ano</th>\n",
              "      <th>Mês</th>\n",
              "      <th>Grupo Econômico</th>\n",
              "      <th>Empresa</th>\n",
              "      <th>CNPJ</th>\n",
              "      <th>Porte da Prestadora</th>\n",
              "      <th>UF</th>\n",
              "      <th>Município</th>\n",
              "      <th>Código IBGE Município</th>\n",
              "      <th>Faixa de Velocidade</th>\n",
              "      <th>Tecnologia</th>\n",
              "      <th>Meio de Acesso</th>\n",
              "      <th>Tipo de Pessoa</th>\n",
              "      <th>Acessos</th>\n",
              "    </tr>\n",
              "  </thead>\n",
              "  <tbody>\n",
              "    <tr>\n",
              "      <th>0</th>\n",
              "      <td>2021</td>\n",
              "      <td>7</td>\n",
              "      <td>ALGAR (CTBC TELECOM)</td>\n",
              "      <td>ALGAR (CTBC TELECOM)</td>\n",
              "      <td>71208516000174</td>\n",
              "      <td>Pequeno Porte</td>\n",
              "      <td>GO</td>\n",
              "      <td>Itumbiara</td>\n",
              "      <td>5211503</td>\n",
              "      <td>2Mbps a 12Mbps</td>\n",
              "      <td>ETHERNET</td>\n",
              "      <td>Fibra</td>\n",
              "      <td>Pessoa Jurídica</td>\n",
              "      <td>10</td>\n",
              "    </tr>\n",
              "  </tbody>\n",
              "</table>\n",
              "</div>"
            ],
            "text/plain": [
              "    Ano  Mês       Grupo Econômico  ... Meio de Acesso   Tipo de Pessoa Acessos\n",
              "0  2021    7  ALGAR (CTBC TELECOM)  ...          Fibra  Pessoa Jurídica      10\n",
              "\n",
              "[1 rows x 14 columns]"
            ]
          },
          "metadata": {},
          "execution_count": 4
        }
      ]
    },
    {
      "cell_type": "code",
      "metadata": {
        "colab": {
          "base_uri": "https://localhost:8080/"
        },
        "id": "vRpF2HHzJZXj",
        "outputId": "d0eefe63-b06f-477e-b0e8-ebedb1f2ce09"
      },
      "source": [
        "df.dtypes"
      ],
      "execution_count": null,
      "outputs": [
        {
          "output_type": "execute_result",
          "data": {
            "text/plain": [
              "Ano                       int64\n",
              "Mês                       int64\n",
              "Grupo Econômico          object\n",
              "Empresa                  object\n",
              "CNPJ                      int64\n",
              "Porte da Prestadora      object\n",
              "UF                       object\n",
              "Município                object\n",
              "Código IBGE Município     int64\n",
              "Faixa de Velocidade      object\n",
              "Tecnologia               object\n",
              "Meio de Acesso           object\n",
              "Tipo de Pessoa           object\n",
              "Acessos                   int64\n",
              "dtype: object"
            ]
          },
          "metadata": {},
          "execution_count": 7
        }
      ]
    },
    {
      "cell_type": "markdown",
      "metadata": {
        "id": "YdDrrKnSJhoB"
      },
      "source": [
        "'LTE', 'GSM', 'GPRS''OFDMA/TDD','EDGE'\n",
        "para 2G/3G/4G\n",
        "\n",
        "'FTTH''FTTB' para FIBRA"
      ]
    },
    {
      "cell_type": "code",
      "metadata": {
        "colab": {
          "base_uri": "https://localhost:8080/"
        },
        "id": "I5VWCurCI7ss",
        "outputId": "99cf2a04-e36c-48b2-f64c-8ba48479abf3"
      },
      "source": [
        "df['Tecnologia'].value_counts()"
      ],
      "execution_count": null,
      "outputs": [
        {
          "output_type": "execute_result",
          "data": {
            "text/plain": [
              "FTTH             986691\n",
              "ETHERNET         643437\n",
              "VSAT             325971\n",
              "ADSL2            285695\n",
              "ADSL1            223195\n",
              "FTTB             193733\n",
              "Wi-Fi            180084\n",
              "HDSL              94891\n",
              "HFC               81315\n",
              "FWA               57558\n",
              "TDMA              45730\n",
              "Indeterminado     28630\n",
              "NR                24833\n",
              "FR                15100\n",
              "DWDM               6403\n",
              "WIMAX              4675\n",
              "LTE                4020\n",
              "Cable Modem        3312\n",
              "VDSL               1424\n",
              "OFDMA/TDD          1387\n",
              "ATM                 808\n",
              "MMDS                659\n",
              "PLC                 360\n",
              "DTH                  54\n",
              "EDGE                 40\n",
              "SDH                  28\n",
              "PDH                  20\n",
              "GSM                   7\n",
              "WCDMA                 2\n",
              "GPRS                  1\n",
              "HSPA                  1\n",
              "Name: Tecnologia, dtype: int64"
            ]
          },
          "metadata": {},
          "execution_count": 6
        }
      ]
    },
    {
      "cell_type": "code",
      "metadata": {
        "id": "M9J3-nd4JUnS"
      },
      "source": [
        "filter1 = df['Tecnologia'].isin(['LTE', 'GSM', 'GPRS', 'OFDMA/TDD', 'EDGE'])\n",
        "df.loc[filter1]"
      ],
      "execution_count": null,
      "outputs": []
    },
    {
      "cell_type": "code",
      "metadata": {
        "id": "4dWDZECdKHGX"
      },
      "source": [
        "df['Tecnologia'].replace(['LTE', 'GSM', 'GPRS', 'OFDMA/TDD', 'EDGE'], '2G/3G/4G', inplace=True)"
      ],
      "execution_count": null,
      "outputs": []
    },
    {
      "cell_type": "code",
      "metadata": {
        "colab": {
          "base_uri": "https://localhost:8080/"
        },
        "id": "TQWNACc-K0Fk",
        "outputId": "9889e822-5a71-4ccc-c393-1caa4da66d5e"
      },
      "source": [
        "df['Tecnologia'].value_counts()"
      ],
      "execution_count": null,
      "outputs": [
        {
          "output_type": "execute_result",
          "data": {
            "text/plain": [
              "FTTH             986691\n",
              "ETHERNET         643437\n",
              "VSAT             325971\n",
              "ADSL2            285695\n",
              "ADSL1            223195\n",
              "FTTB             193733\n",
              "Wi-Fi            180084\n",
              "HDSL              94891\n",
              "HFC               81315\n",
              "FWA               57558\n",
              "TDMA              45730\n",
              "Indeterminado     28630\n",
              "NR                24833\n",
              "FR                15100\n",
              "DWDM               6403\n",
              "2G/3G/4G           5455\n",
              "WIMAX              4675\n",
              "Cable Modem        3312\n",
              "VDSL               1424\n",
              "ATM                 808\n",
              "MMDS                659\n",
              "PLC                 360\n",
              "DTH                  54\n",
              "SDH                  28\n",
              "PDH                  20\n",
              "WCDMA                 2\n",
              "HSPA                  1\n",
              "Name: Tecnologia, dtype: int64"
            ]
          },
          "metadata": {},
          "execution_count": 15
        }
      ]
    },
    {
      "cell_type": "code",
      "metadata": {
        "id": "zV9kk6JQNLlk"
      },
      "source": [
        "df['Tecnologia'].replace(['FTTH', 'FTTB'], 'FIBRA', inplace=True)"
      ],
      "execution_count": null,
      "outputs": []
    },
    {
      "cell_type": "code",
      "metadata": {
        "colab": {
          "base_uri": "https://localhost:8080/",
          "height": 215
        },
        "id": "58pcdu4xK_mo",
        "outputId": "b373b64f-4b28-4601-dc01-bf19ce738245"
      },
      "source": [
        "df.head(2)"
      ],
      "execution_count": null,
      "outputs": [
        {
          "output_type": "execute_result",
          "data": {
            "text/html": [
              "<div>\n",
              "<style scoped>\n",
              "    .dataframe tbody tr th:only-of-type {\n",
              "        vertical-align: middle;\n",
              "    }\n",
              "\n",
              "    .dataframe tbody tr th {\n",
              "        vertical-align: top;\n",
              "    }\n",
              "\n",
              "    .dataframe thead th {\n",
              "        text-align: right;\n",
              "    }\n",
              "</style>\n",
              "<table border=\"1\" class=\"dataframe\">\n",
              "  <thead>\n",
              "    <tr style=\"text-align: right;\">\n",
              "      <th></th>\n",
              "      <th>Ano</th>\n",
              "      <th>Mês</th>\n",
              "      <th>Grupo Econômico</th>\n",
              "      <th>Empresa</th>\n",
              "      <th>CNPJ</th>\n",
              "      <th>Porte da Prestadora</th>\n",
              "      <th>UF</th>\n",
              "      <th>Município</th>\n",
              "      <th>Código IBGE Município</th>\n",
              "      <th>Faixa de Velocidade</th>\n",
              "      <th>Tecnologia</th>\n",
              "      <th>Meio de Acesso</th>\n",
              "      <th>Tipo de Pessoa</th>\n",
              "      <th>Acessos</th>\n",
              "    </tr>\n",
              "  </thead>\n",
              "  <tbody>\n",
              "    <tr>\n",
              "      <th>0</th>\n",
              "      <td>2021</td>\n",
              "      <td>7</td>\n",
              "      <td>ALGAR (CTBC TELECOM)</td>\n",
              "      <td>ALGAR (CTBC TELECOM)</td>\n",
              "      <td>71208516000174</td>\n",
              "      <td>Pequeno Porte</td>\n",
              "      <td>GO</td>\n",
              "      <td>Itumbiara</td>\n",
              "      <td>5211503</td>\n",
              "      <td>2Mbps a 12Mbps</td>\n",
              "      <td>ETHERNET</td>\n",
              "      <td>Fibra</td>\n",
              "      <td>Pessoa Jurídica</td>\n",
              "      <td>10</td>\n",
              "    </tr>\n",
              "    <tr>\n",
              "      <th>1</th>\n",
              "      <td>2021</td>\n",
              "      <td>7</td>\n",
              "      <td>ALGAR (CTBC TELECOM)</td>\n",
              "      <td>ALGAR (CTBC TELECOM)</td>\n",
              "      <td>71208516000174</td>\n",
              "      <td>Pequeno Porte</td>\n",
              "      <td>SP</td>\n",
              "      <td>Morro Agudo</td>\n",
              "      <td>3531902</td>\n",
              "      <td>12Mbps a 34Mbps</td>\n",
              "      <td>ETHERNET</td>\n",
              "      <td>Fibra</td>\n",
              "      <td>Pessoa Jurídica</td>\n",
              "      <td>1</td>\n",
              "    </tr>\n",
              "  </tbody>\n",
              "</table>\n",
              "</div>"
            ],
            "text/plain": [
              "    Ano  Mês       Grupo Econômico  ... Meio de Acesso   Tipo de Pessoa Acessos\n",
              "0  2021    7  ALGAR (CTBC TELECOM)  ...          Fibra  Pessoa Jurídica      10\n",
              "1  2021    7  ALGAR (CTBC TELECOM)  ...          Fibra  Pessoa Jurídica       1\n",
              "\n",
              "[2 rows x 14 columns]"
            ]
          },
          "metadata": {},
          "execution_count": 17
        }
      ]
    },
    {
      "cell_type": "code",
      "metadata": {
        "colab": {
          "base_uri": "https://localhost:8080/"
        },
        "id": "-v6lOomiMT4s",
        "outputId": "b2c99c61-98a5-47d3-fdaf-f5e4e931eb5b"
      },
      "source": [
        "df['Tecnologia'].value_counts()"
      ],
      "execution_count": null,
      "outputs": [
        {
          "output_type": "execute_result",
          "data": {
            "text/plain": [
              "FIBRA            1180424\n",
              "ETHERNET          643437\n",
              "VSAT              325971\n",
              "ADSL2             285695\n",
              "ADSL1             223195\n",
              "Wi-Fi             180084\n",
              "HDSL               94891\n",
              "HFC                81315\n",
              "FWA                57558\n",
              "TDMA               45730\n",
              "Indeterminado      28630\n",
              "NR                 24833\n",
              "FR                 15100\n",
              "DWDM                6403\n",
              "2G/3G/4G            5455\n",
              "WIMAX               4675\n",
              "Cable Modem         3312\n",
              "VDSL                1424\n",
              "ATM                  808\n",
              "MMDS                 659\n",
              "PLC                  360\n",
              "DTH                   54\n",
              "SDH                   28\n",
              "PDH                   20\n",
              "WCDMA                  2\n",
              "HSPA                   1\n",
              "Name: Tecnologia, dtype: int64"
            ]
          },
          "metadata": {},
          "execution_count": 21
        }
      ]
    },
    {
      "cell_type": "code",
      "metadata": {
        "colab": {
          "base_uri": "https://localhost:8080/"
        },
        "id": "Inujw7bIM8b0",
        "outputId": "75917e06-b902-47f4-f192-aa184aa8db3f"
      },
      "source": [
        "df['Porte da Prestadora'].value_counts()"
      ],
      "execution_count": null,
      "outputs": [
        {
          "output_type": "execute_result",
          "data": {
            "text/plain": [
              "Pequeno Porte    1875370\n",
              "Grande Porte     1334694\n",
              "Name: Porte da Prestadora, dtype: int64"
            ]
          },
          "metadata": {},
          "execution_count": 28
        }
      ]
    },
    {
      "cell_type": "code",
      "metadata": {
        "id": "ddlT3S6KNwIW"
      },
      "source": [
        "filter0 = (df['UF'] == 'PB') | (df['UF'] == 'CE') | (df['UF'] == 'RN')\n",
        "filter2 = df['Porte da Prestadora'] != 'Pequeno Porte'"
      ],
      "execution_count": null,
      "outputs": []
    },
    {
      "cell_type": "code",
      "metadata": {
        "colab": {
          "base_uri": "https://localhost:8080/",
          "height": 649
        },
        "id": "QbVD5xaaOl20",
        "outputId": "e1e16fa1-5bc7-46c8-cada-4d5fc682dca9"
      },
      "source": [
        "df.loc[filter0 & filter2]"
      ],
      "execution_count": null,
      "outputs": [
        {
          "output_type": "execute_result",
          "data": {
            "text/html": [
              "<div>\n",
              "<style scoped>\n",
              "    .dataframe tbody tr th:only-of-type {\n",
              "        vertical-align: middle;\n",
              "    }\n",
              "\n",
              "    .dataframe tbody tr th {\n",
              "        vertical-align: top;\n",
              "    }\n",
              "\n",
              "    .dataframe thead th {\n",
              "        text-align: right;\n",
              "    }\n",
              "</style>\n",
              "<table border=\"1\" class=\"dataframe\">\n",
              "  <thead>\n",
              "    <tr style=\"text-align: right;\">\n",
              "      <th></th>\n",
              "      <th>Ano</th>\n",
              "      <th>Mês</th>\n",
              "      <th>Grupo Econômico</th>\n",
              "      <th>Empresa</th>\n",
              "      <th>CNPJ</th>\n",
              "      <th>Porte da Prestadora</th>\n",
              "      <th>UF</th>\n",
              "      <th>Município</th>\n",
              "      <th>Código IBGE Município</th>\n",
              "      <th>Faixa de Velocidade</th>\n",
              "      <th>Tecnologia</th>\n",
              "      <th>Meio de Acesso</th>\n",
              "      <th>Tipo de Pessoa</th>\n",
              "      <th>Acessos</th>\n",
              "    </tr>\n",
              "  </thead>\n",
              "  <tbody>\n",
              "    <tr>\n",
              "      <th>238</th>\n",
              "      <td>2021</td>\n",
              "      <td>7</td>\n",
              "      <td>TELECOM AMERICAS</td>\n",
              "      <td>CLARO</td>\n",
              "      <td>40432544000147</td>\n",
              "      <td>Grande Porte</td>\n",
              "      <td>PB</td>\n",
              "      <td>Mamanguape</td>\n",
              "      <td>2508901</td>\n",
              "      <td>512kbps a 2Mbps</td>\n",
              "      <td>FIBRA</td>\n",
              "      <td>Fibra</td>\n",
              "      <td>Pessoa Jurídica</td>\n",
              "      <td>4</td>\n",
              "    </tr>\n",
              "    <tr>\n",
              "      <th>261</th>\n",
              "      <td>2021</td>\n",
              "      <td>7</td>\n",
              "      <td>TELECOM AMERICAS</td>\n",
              "      <td>CLARO</td>\n",
              "      <td>40432544000147</td>\n",
              "      <td>Grande Porte</td>\n",
              "      <td>RN</td>\n",
              "      <td>Mossoró</td>\n",
              "      <td>2408003</td>\n",
              "      <td>&gt; 34Mbps</td>\n",
              "      <td>FIBRA</td>\n",
              "      <td>Fibra</td>\n",
              "      <td>Pessoa Jurídica</td>\n",
              "      <td>2</td>\n",
              "    </tr>\n",
              "    <tr>\n",
              "      <th>283</th>\n",
              "      <td>2021</td>\n",
              "      <td>7</td>\n",
              "      <td>TELECOM AMERICAS</td>\n",
              "      <td>CLARO</td>\n",
              "      <td>40432544000147</td>\n",
              "      <td>Grande Porte</td>\n",
              "      <td>PB</td>\n",
              "      <td>Cajazeiras</td>\n",
              "      <td>2503704</td>\n",
              "      <td>512kbps a 2Mbps</td>\n",
              "      <td>FIBRA</td>\n",
              "      <td>Fibra</td>\n",
              "      <td>Pessoa Jurídica</td>\n",
              "      <td>6</td>\n",
              "    </tr>\n",
              "    <tr>\n",
              "      <th>289</th>\n",
              "      <td>2021</td>\n",
              "      <td>7</td>\n",
              "      <td>TELECOM AMERICAS</td>\n",
              "      <td>CLARO</td>\n",
              "      <td>40432544000147</td>\n",
              "      <td>Grande Porte</td>\n",
              "      <td>CE</td>\n",
              "      <td>Fortaleza</td>\n",
              "      <td>2304400</td>\n",
              "      <td>0Kbps a 512Kbps</td>\n",
              "      <td>FIBRA</td>\n",
              "      <td>Fibra</td>\n",
              "      <td>Pessoa Jurídica</td>\n",
              "      <td>1</td>\n",
              "    </tr>\n",
              "    <tr>\n",
              "      <th>315</th>\n",
              "      <td>2021</td>\n",
              "      <td>7</td>\n",
              "      <td>TELECOM AMERICAS</td>\n",
              "      <td>CLARO</td>\n",
              "      <td>40432544000147</td>\n",
              "      <td>Grande Porte</td>\n",
              "      <td>CE</td>\n",
              "      <td>Fortaleza</td>\n",
              "      <td>2304400</td>\n",
              "      <td>0Kbps a 512Kbps</td>\n",
              "      <td>FIBRA</td>\n",
              "      <td>Fibra</td>\n",
              "      <td>Pessoa Jurídica</td>\n",
              "      <td>17</td>\n",
              "    </tr>\n",
              "    <tr>\n",
              "      <th>...</th>\n",
              "      <td>...</td>\n",
              "      <td>...</td>\n",
              "      <td>...</td>\n",
              "      <td>...</td>\n",
              "      <td>...</td>\n",
              "      <td>...</td>\n",
              "      <td>...</td>\n",
              "      <td>...</td>\n",
              "      <td>...</td>\n",
              "      <td>...</td>\n",
              "      <td>...</td>\n",
              "      <td>...</td>\n",
              "      <td>...</td>\n",
              "      <td>...</td>\n",
              "    </tr>\n",
              "    <tr>\n",
              "      <th>3208906</th>\n",
              "      <td>2021</td>\n",
              "      <td>1</td>\n",
              "      <td>OI</td>\n",
              "      <td>OI</td>\n",
              "      <td>33000118000179</td>\n",
              "      <td>Grande Porte</td>\n",
              "      <td>CE</td>\n",
              "      <td>Pacoti</td>\n",
              "      <td>2309805</td>\n",
              "      <td>512kbps a 2Mbps</td>\n",
              "      <td>ADSL1</td>\n",
              "      <td>Cabo Metálico</td>\n",
              "      <td>Pessoa Física</td>\n",
              "      <td>4</td>\n",
              "    </tr>\n",
              "    <tr>\n",
              "      <th>3208973</th>\n",
              "      <td>2021</td>\n",
              "      <td>1</td>\n",
              "      <td>TELEFÔNICA</td>\n",
              "      <td>VIVO</td>\n",
              "      <td>2558157000162</td>\n",
              "      <td>Grande Porte</td>\n",
              "      <td>PB</td>\n",
              "      <td>Santa Rita</td>\n",
              "      <td>2513703</td>\n",
              "      <td>2Mbps a 12Mbps</td>\n",
              "      <td>ETHERNET</td>\n",
              "      <td>Cabo Metálico</td>\n",
              "      <td>Pessoa Jurídica</td>\n",
              "      <td>1</td>\n",
              "    </tr>\n",
              "    <tr>\n",
              "      <th>3209052</th>\n",
              "      <td>2021</td>\n",
              "      <td>1</td>\n",
              "      <td>OI</td>\n",
              "      <td>OI</td>\n",
              "      <td>33000118000179</td>\n",
              "      <td>Grande Porte</td>\n",
              "      <td>PB</td>\n",
              "      <td>Araçagi</td>\n",
              "      <td>2500809</td>\n",
              "      <td>512kbps a 2Mbps</td>\n",
              "      <td>ADSL1</td>\n",
              "      <td>Cabo Metálico</td>\n",
              "      <td>Pessoa Física</td>\n",
              "      <td>5</td>\n",
              "    </tr>\n",
              "    <tr>\n",
              "      <th>3209544</th>\n",
              "      <td>2021</td>\n",
              "      <td>1</td>\n",
              "      <td>OI</td>\n",
              "      <td>OI</td>\n",
              "      <td>33000118000179</td>\n",
              "      <td>Grande Porte</td>\n",
              "      <td>RN</td>\n",
              "      <td>Touros</td>\n",
              "      <td>2414407</td>\n",
              "      <td>512kbps a 2Mbps</td>\n",
              "      <td>ADSL1</td>\n",
              "      <td>Fibra</td>\n",
              "      <td>Pessoa Jurídica</td>\n",
              "      <td>1</td>\n",
              "    </tr>\n",
              "    <tr>\n",
              "      <th>3209558</th>\n",
              "      <td>2021</td>\n",
              "      <td>1</td>\n",
              "      <td>OI</td>\n",
              "      <td>OI</td>\n",
              "      <td>33000118000179</td>\n",
              "      <td>Grande Porte</td>\n",
              "      <td>RN</td>\n",
              "      <td>Jardim de Angicos</td>\n",
              "      <td>2405504</td>\n",
              "      <td>512kbps a 2Mbps</td>\n",
              "      <td>ADSL1</td>\n",
              "      <td>Fibra</td>\n",
              "      <td>Pessoa Jurídica</td>\n",
              "      <td>2</td>\n",
              "    </tr>\n",
              "  </tbody>\n",
              "</table>\n",
              "<p>83333 rows × 14 columns</p>\n",
              "</div>"
            ],
            "text/plain": [
              "          Ano  Mês   Grupo Econômico  ... Meio de Acesso   Tipo de Pessoa Acessos\n",
              "238      2021    7  TELECOM AMERICAS  ...          Fibra  Pessoa Jurídica       4\n",
              "261      2021    7  TELECOM AMERICAS  ...          Fibra  Pessoa Jurídica       2\n",
              "283      2021    7  TELECOM AMERICAS  ...          Fibra  Pessoa Jurídica       6\n",
              "289      2021    7  TELECOM AMERICAS  ...          Fibra  Pessoa Jurídica       1\n",
              "315      2021    7  TELECOM AMERICAS  ...          Fibra  Pessoa Jurídica      17\n",
              "...       ...  ...               ...  ...            ...              ...     ...\n",
              "3208906  2021    1                OI  ...  Cabo Metálico    Pessoa Física       4\n",
              "3208973  2021    1        TELEFÔNICA  ...  Cabo Metálico  Pessoa Jurídica       1\n",
              "3209052  2021    1                OI  ...  Cabo Metálico    Pessoa Física       5\n",
              "3209544  2021    1                OI  ...          Fibra  Pessoa Jurídica       1\n",
              "3209558  2021    1                OI  ...          Fibra  Pessoa Jurídica       2\n",
              "\n",
              "[83333 rows x 14 columns]"
            ]
          },
          "metadata": {},
          "execution_count": 43
        }
      ]
    },
    {
      "cell_type": "code",
      "metadata": {
        "id": "Gc7sbVwgOoUo"
      },
      "source": [
        ""
      ],
      "execution_count": null,
      "outputs": []
    }
  ]
}