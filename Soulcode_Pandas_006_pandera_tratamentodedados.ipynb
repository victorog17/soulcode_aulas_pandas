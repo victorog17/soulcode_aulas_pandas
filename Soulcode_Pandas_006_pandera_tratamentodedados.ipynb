{
  "nbformat": 4,
  "nbformat_minor": 0,
  "metadata": {
    "colab": {
      "name": "Soulcode_Pandas_006_pandera_tratamentodedados.ipynb",
      "provenance": [],
      "collapsed_sections": [],
      "mount_file_id": "1w-Iwa6Mj4ts1sQPHgdY0Lg_jsKrJXFE1",
      "authorship_tag": "ABX9TyOa9Tqk24v4IkXqHa5wbOwX",
      "include_colab_link": true
    },
    "kernelspec": {
      "name": "python3",
      "display_name": "Python 3"
    },
    "language_info": {
      "name": "python"
    }
  },
  "cells": [
    {
      "cell_type": "markdown",
      "metadata": {
        "id": "view-in-github",
        "colab_type": "text"
      },
      "source": [
        "<a href=\"https://colab.research.google.com/github/victorog17/soulcode_aulas_pandas/blob/main/Soulcode_Pandas_006_pandera_tratamentodedados.ipynb\" target=\"_parent\"><img src=\"https://colab.research.google.com/assets/colab-badge.svg\" alt=\"Open In Colab\"/></a>"
      ]
    },
    {
      "cell_type": "markdown",
      "metadata": {
        "id": "KwW506dd4jMP"
      },
      "source": [
        "**BIBLIOTECAS**"
      ]
    },
    {
      "cell_type": "code",
      "metadata": {
        "id": "aku04rtDO-Hl"
      },
      "source": [
        "pip install pandera"
      ],
      "execution_count": null,
      "outputs": []
    },
    {
      "cell_type": "code",
      "metadata": {
        "id": "tPhofI1SYRJy"
      },
      "source": [
        "import pandas as pd\n",
        "import pandera as pa"
      ],
      "execution_count": null,
      "outputs": []
    },
    {
      "cell_type": "markdown",
      "metadata": {
        "id": "ii81hvkM4m4W"
      },
      "source": [
        "**EXTRAÇÃO DOS DADOS DE UMA/VARIAS FONTE(S)**"
      ]
    },
    {
      "cell_type": "code",
      "metadata": {
        "colab": {
          "base_uri": "https://localhost:8080/",
          "height": 243
        },
        "id": "-P5MnMqoZeDA",
        "outputId": "4f32e527-6d88-4701-8194-c572e773f275"
      },
      "source": [
        "df = pd.read_csv('/content/drive/MyDrive/Soul_Code_Academy/repositorio_pandas/ocorrencia_2010_2020 - ocorrencia_2010_2020.csv', sep=';', parse_dates=['ocorrencia_dia'], dayfirst=True)\n",
        "df.head()"
      ],
      "execution_count": null,
      "outputs": [
        {
          "output_type": "execute_result",
          "data": {
            "text/html": [
              "<div>\n",
              "<style scoped>\n",
              "    .dataframe tbody tr th:only-of-type {\n",
              "        vertical-align: middle;\n",
              "    }\n",
              "\n",
              "    .dataframe tbody tr th {\n",
              "        vertical-align: top;\n",
              "    }\n",
              "\n",
              "    .dataframe thead th {\n",
              "        text-align: right;\n",
              "    }\n",
              "</style>\n",
              "<table border=\"1\" class=\"dataframe\">\n",
              "  <thead>\n",
              "    <tr style=\"text-align: right;\">\n",
              "      <th></th>\n",
              "      <th>codigo_ocorrencia</th>\n",
              "      <th>codigo_ocorrencia2</th>\n",
              "      <th>ocorrencia_classificacao</th>\n",
              "      <th>ocorrencia_cidade</th>\n",
              "      <th>ocorrencia_uf</th>\n",
              "      <th>ocorrencia_aerodromo</th>\n",
              "      <th>ocorrencia_dia</th>\n",
              "      <th>ocorrencia_hora</th>\n",
              "      <th>total_recomendacoes</th>\n",
              "    </tr>\n",
              "  </thead>\n",
              "  <tbody>\n",
              "    <tr>\n",
              "      <th>0</th>\n",
              "      <td>40211</td>\n",
              "      <td>40211</td>\n",
              "      <td>INCIDENTE</td>\n",
              "      <td>RIO DE JANEIRO</td>\n",
              "      <td>RJ</td>\n",
              "      <td>****</td>\n",
              "      <td>2010-01-03</td>\n",
              "      <td>12:00:00</td>\n",
              "      <td>0</td>\n",
              "    </tr>\n",
              "    <tr>\n",
              "      <th>1</th>\n",
              "      <td>40349</td>\n",
              "      <td>40349</td>\n",
              "      <td>INCIDENTE</td>\n",
              "      <td>BELÉM</td>\n",
              "      <td>PA</td>\n",
              "      <td>SBBE</td>\n",
              "      <td>2010-01-03</td>\n",
              "      <td>11:05:00</td>\n",
              "      <td>0</td>\n",
              "    </tr>\n",
              "    <tr>\n",
              "      <th>2</th>\n",
              "      <td>40351</td>\n",
              "      <td>40351</td>\n",
              "      <td>INCIDENTE</td>\n",
              "      <td>RIO DE JANEIRO</td>\n",
              "      <td>RJ</td>\n",
              "      <td>SBRJ</td>\n",
              "      <td>2010-01-03</td>\n",
              "      <td>03:00:00</td>\n",
              "      <td>0</td>\n",
              "    </tr>\n",
              "    <tr>\n",
              "      <th>3</th>\n",
              "      <td>39527</td>\n",
              "      <td>39527</td>\n",
              "      <td>ACIDENTE</td>\n",
              "      <td>LUCAS DO RIO VERDE</td>\n",
              "      <td>MT</td>\n",
              "      <td>****</td>\n",
              "      <td>2010-01-04</td>\n",
              "      <td>17:30:00</td>\n",
              "      <td>0</td>\n",
              "    </tr>\n",
              "    <tr>\n",
              "      <th>4</th>\n",
              "      <td>40324</td>\n",
              "      <td>40324</td>\n",
              "      <td>INCIDENTE</td>\n",
              "      <td>PELOTAS</td>\n",
              "      <td>RS</td>\n",
              "      <td>SBPK</td>\n",
              "      <td>2010-01-05</td>\n",
              "      <td>19:25:00</td>\n",
              "      <td>0</td>\n",
              "    </tr>\n",
              "  </tbody>\n",
              "</table>\n",
              "</div>"
            ],
            "text/plain": [
              "   codigo_ocorrencia  codigo_ocorrencia2  ... ocorrencia_hora total_recomendacoes\n",
              "0              40211               40211  ...        12:00:00                   0\n",
              "1              40349               40349  ...        11:05:00                   0\n",
              "2              40351               40351  ...        03:00:00                   0\n",
              "3              39527               39527  ...        17:30:00                   0\n",
              "4              40324               40324  ...        19:25:00                   0\n",
              "\n",
              "[5 rows x 9 columns]"
            ]
          },
          "metadata": {},
          "execution_count": 59
        }
      ]
    },
    {
      "cell_type": "code",
      "metadata": {
        "colab": {
          "base_uri": "https://localhost:8080/"
        },
        "id": "yrPmmWT_aF4E",
        "outputId": "374506e6-aa04-44e0-ad33-6333e5106398"
      },
      "source": [
        "df.dtypes"
      ],
      "execution_count": null,
      "outputs": [
        {
          "output_type": "execute_result",
          "data": {
            "text/plain": [
              "codigo_ocorrencia                    int64\n",
              "codigo_ocorrencia2                   int64\n",
              "ocorrencia_classificacao            object\n",
              "ocorrencia_cidade                   object\n",
              "ocorrencia_uf                       object\n",
              "ocorrencia_aerodromo                object\n",
              "ocorrencia_dia              datetime64[ns]\n",
              "ocorrencia_hora                     object\n",
              "total_recomendacoes                  int64\n",
              "dtype: object"
            ]
          },
          "metadata": {},
          "execution_count": 60
        }
      ]
    },
    {
      "cell_type": "code",
      "metadata": {
        "colab": {
          "base_uri": "https://localhost:8080/"
        },
        "id": "w1DhsMJSaHDl",
        "outputId": "7ea27c7d-23fb-47d1-a35f-12fd6472c5a4"
      },
      "source": [
        "pd.unique(df['ocorrencia_uf'])"
      ],
      "execution_count": null,
      "outputs": [
        {
          "output_type": "execute_result",
          "data": {
            "text/plain": [
              "array(['RJ', 'PA', 'MT', 'RS', 'BA', 'AM', 'PR', 'MG', 'SP', 'DF', 'AC',\n",
              "       'TO', 'SC', 'GO', 'MA', 'ES', 'PE', 'RR', 'MS', 'CE', 'AP', 'AL',\n",
              "       'RO', 'SE', 'PB', 'PI', 'RN', '**'], dtype=object)"
            ]
          },
          "metadata": {},
          "execution_count": 61
        }
      ]
    },
    {
      "cell_type": "code",
      "metadata": {
        "colab": {
          "base_uri": "https://localhost:8080/",
          "height": 118
        },
        "id": "S9_Gx8eLmxUU",
        "outputId": "0c99a372-1bd7-449f-aaa4-3462899add1d"
      },
      "source": [
        "df.loc[df['ocorrencia_uf'] == '**']"
      ],
      "execution_count": null,
      "outputs": [
        {
          "output_type": "execute_result",
          "data": {
            "text/html": [
              "<div>\n",
              "<style scoped>\n",
              "    .dataframe tbody tr th:only-of-type {\n",
              "        vertical-align: middle;\n",
              "    }\n",
              "\n",
              "    .dataframe tbody tr th {\n",
              "        vertical-align: top;\n",
              "    }\n",
              "\n",
              "    .dataframe thead th {\n",
              "        text-align: right;\n",
              "    }\n",
              "</style>\n",
              "<table border=\"1\" class=\"dataframe\">\n",
              "  <thead>\n",
              "    <tr style=\"text-align: right;\">\n",
              "      <th></th>\n",
              "      <th>codigo_ocorrencia</th>\n",
              "      <th>codigo_ocorrencia2</th>\n",
              "      <th>ocorrencia_classificacao</th>\n",
              "      <th>ocorrencia_cidade</th>\n",
              "      <th>ocorrencia_uf</th>\n",
              "      <th>ocorrencia_aerodromo</th>\n",
              "      <th>ocorrencia_dia</th>\n",
              "      <th>ocorrencia_hora</th>\n",
              "      <th>total_recomendacoes</th>\n",
              "    </tr>\n",
              "  </thead>\n",
              "  <tbody>\n",
              "    <tr>\n",
              "      <th>2227</th>\n",
              "      <td>49474</td>\n",
              "      <td>49474</td>\n",
              "      <td>ACIDENTE</td>\n",
              "      <td>ÁGUAS INTERNACIONAIS</td>\n",
              "      <td>**</td>\n",
              "      <td>****</td>\n",
              "      <td>2013-09-02</td>\n",
              "      <td>02:54:00</td>\n",
              "      <td>0</td>\n",
              "    </tr>\n",
              "  </tbody>\n",
              "</table>\n",
              "</div>"
            ],
            "text/plain": [
              "      codigo_ocorrencia  ...  total_recomendacoes\n",
              "2227              49474  ...                    0\n",
              "\n",
              "[1 rows x 9 columns]"
            ]
          },
          "metadata": {},
          "execution_count": 62
        }
      ]
    },
    {
      "cell_type": "code",
      "metadata": {
        "id": "W47KJZXSkdsN"
      },
      "source": [
        "dfback = df.copy()"
      ],
      "execution_count": null,
      "outputs": []
    },
    {
      "cell_type": "code",
      "metadata": {
        "colab": {
          "base_uri": "https://localhost:8080/",
          "height": 243
        },
        "id": "TU_cq5sDk6eG",
        "outputId": "033aa9d5-9a9f-4d0e-9d61-20a3c14f0947"
      },
      "source": [
        "dfback.head()"
      ],
      "execution_count": null,
      "outputs": [
        {
          "output_type": "execute_result",
          "data": {
            "text/html": [
              "<div>\n",
              "<style scoped>\n",
              "    .dataframe tbody tr th:only-of-type {\n",
              "        vertical-align: middle;\n",
              "    }\n",
              "\n",
              "    .dataframe tbody tr th {\n",
              "        vertical-align: top;\n",
              "    }\n",
              "\n",
              "    .dataframe thead th {\n",
              "        text-align: right;\n",
              "    }\n",
              "</style>\n",
              "<table border=\"1\" class=\"dataframe\">\n",
              "  <thead>\n",
              "    <tr style=\"text-align: right;\">\n",
              "      <th></th>\n",
              "      <th>codigo_ocorrencia</th>\n",
              "      <th>codigo_ocorrencia2</th>\n",
              "      <th>ocorrencia_classificacao</th>\n",
              "      <th>ocorrencia_cidade</th>\n",
              "      <th>ocorrencia_uf</th>\n",
              "      <th>ocorrencia_aerodromo</th>\n",
              "      <th>ocorrencia_dia</th>\n",
              "      <th>ocorrencia_hora</th>\n",
              "      <th>total_recomendacoes</th>\n",
              "    </tr>\n",
              "  </thead>\n",
              "  <tbody>\n",
              "    <tr>\n",
              "      <th>0</th>\n",
              "      <td>40211</td>\n",
              "      <td>40211</td>\n",
              "      <td>INCIDENTE</td>\n",
              "      <td>RIO DE JANEIRO</td>\n",
              "      <td>RJ</td>\n",
              "      <td>****</td>\n",
              "      <td>2010-01-03</td>\n",
              "      <td>12:00:00</td>\n",
              "      <td>0</td>\n",
              "    </tr>\n",
              "    <tr>\n",
              "      <th>1</th>\n",
              "      <td>40349</td>\n",
              "      <td>40349</td>\n",
              "      <td>INCIDENTE</td>\n",
              "      <td>BELÉM</td>\n",
              "      <td>PA</td>\n",
              "      <td>SBBE</td>\n",
              "      <td>2010-01-03</td>\n",
              "      <td>11:05:00</td>\n",
              "      <td>0</td>\n",
              "    </tr>\n",
              "    <tr>\n",
              "      <th>2</th>\n",
              "      <td>40351</td>\n",
              "      <td>40351</td>\n",
              "      <td>INCIDENTE</td>\n",
              "      <td>RIO DE JANEIRO</td>\n",
              "      <td>RJ</td>\n",
              "      <td>SBRJ</td>\n",
              "      <td>2010-01-03</td>\n",
              "      <td>03:00:00</td>\n",
              "      <td>0</td>\n",
              "    </tr>\n",
              "    <tr>\n",
              "      <th>3</th>\n",
              "      <td>39527</td>\n",
              "      <td>39527</td>\n",
              "      <td>ACIDENTE</td>\n",
              "      <td>LUCAS DO RIO VERDE</td>\n",
              "      <td>MT</td>\n",
              "      <td>****</td>\n",
              "      <td>2010-01-04</td>\n",
              "      <td>17:30:00</td>\n",
              "      <td>0</td>\n",
              "    </tr>\n",
              "    <tr>\n",
              "      <th>4</th>\n",
              "      <td>40324</td>\n",
              "      <td>40324</td>\n",
              "      <td>INCIDENTE</td>\n",
              "      <td>PELOTAS</td>\n",
              "      <td>RS</td>\n",
              "      <td>SBPK</td>\n",
              "      <td>2010-01-05</td>\n",
              "      <td>19:25:00</td>\n",
              "      <td>0</td>\n",
              "    </tr>\n",
              "  </tbody>\n",
              "</table>\n",
              "</div>"
            ],
            "text/plain": [
              "   codigo_ocorrencia  codigo_ocorrencia2  ... ocorrencia_hora total_recomendacoes\n",
              "0              40211               40211  ...        12:00:00                   0\n",
              "1              40349               40349  ...        11:05:00                   0\n",
              "2              40351               40351  ...        03:00:00                   0\n",
              "3              39527               39527  ...        17:30:00                   0\n",
              "4              40324               40324  ...        19:25:00                   0\n",
              "\n",
              "[5 rows x 9 columns]"
            ]
          },
          "metadata": {},
          "execution_count": 70
        }
      ]
    },
    {
      "cell_type": "markdown",
      "metadata": {
        "id": "7-NgxHcCe4hY"
      },
      "source": [
        "Incosistencias:\n",
        "\n",
        "'**', \n",
        "\n",
        "'****', \n",
        "\n",
        "'####', \n",
        "\n",
        "'###!', \n",
        "\n",
        "'*****'\n",
        "\n",
        "A considerar: aerodromos '5JTI', '9PAA', '9PFC', '9PFX', '9PHD', '9PSD',"
      ]
    },
    {
      "cell_type": "code",
      "metadata": {
        "colab": {
          "base_uri": "https://localhost:8080/",
          "height": 163
        },
        "id": "liKt0j985iNu",
        "outputId": "aea37d2a-ee91-41fe-894e-80297086dc1c"
      },
      "source": [
        "df.loc[df['ocorrencia_aerodromo'] == '9PAA']"
      ],
      "execution_count": null,
      "outputs": [
        {
          "output_type": "execute_result",
          "data": {
            "text/html": [
              "<div>\n",
              "<style scoped>\n",
              "    .dataframe tbody tr th:only-of-type {\n",
              "        vertical-align: middle;\n",
              "    }\n",
              "\n",
              "    .dataframe tbody tr th {\n",
              "        vertical-align: top;\n",
              "    }\n",
              "\n",
              "    .dataframe thead th {\n",
              "        text-align: right;\n",
              "    }\n",
              "</style>\n",
              "<table border=\"1\" class=\"dataframe\">\n",
              "  <thead>\n",
              "    <tr style=\"text-align: right;\">\n",
              "      <th></th>\n",
              "      <th>codigo_ocorrencia</th>\n",
              "      <th>codigo_ocorrencia2</th>\n",
              "      <th>ocorrencia_classificacao</th>\n",
              "      <th>ocorrencia_cidade</th>\n",
              "      <th>ocorrencia_uf</th>\n",
              "      <th>ocorrencia_aerodromo</th>\n",
              "      <th>ocorrencia_dia</th>\n",
              "      <th>ocorrencia_hora</th>\n",
              "      <th>total_recomendacoes</th>\n",
              "    </tr>\n",
              "  </thead>\n",
              "  <tbody>\n",
              "    <tr>\n",
              "      <th>3708</th>\n",
              "      <td>65543</td>\n",
              "      <td>65543</td>\n",
              "      <td>INCIDENTE</td>\n",
              "      <td>MACAÉ</td>\n",
              "      <td>RJ</td>\n",
              "      <td>9PAA</td>\n",
              "      <td>2016-08-05</td>\n",
              "      <td>18:00:00</td>\n",
              "      <td>0</td>\n",
              "    </tr>\n",
              "    <tr>\n",
              "      <th>5470</th>\n",
              "      <td>79380</td>\n",
              "      <td>79380</td>\n",
              "      <td>INCIDENTE</td>\n",
              "      <td>RIO DE JANEIRO</td>\n",
              "      <td>RJ</td>\n",
              "      <td>9PAA</td>\n",
              "      <td>2020-06-09</td>\n",
              "      <td>14:35:00</td>\n",
              "      <td>0</td>\n",
              "    </tr>\n",
              "    <tr>\n",
              "      <th>5710</th>\n",
              "      <td>79714</td>\n",
              "      <td>79714</td>\n",
              "      <td>INCIDENTE</td>\n",
              "      <td>RIO DE JANEIRO</td>\n",
              "      <td>RJ</td>\n",
              "      <td>9PAA</td>\n",
              "      <td>2020-12-08</td>\n",
              "      <td>14:50:00</td>\n",
              "      <td>0</td>\n",
              "    </tr>\n",
              "  </tbody>\n",
              "</table>\n",
              "</div>"
            ],
            "text/plain": [
              "      codigo_ocorrencia  ...  total_recomendacoes\n",
              "3708              65543  ...                    0\n",
              "5470              79380  ...                    0\n",
              "5710              79714  ...                    0\n",
              "\n",
              "[3 rows x 9 columns]"
            ]
          },
          "metadata": {},
          "execution_count": 65
        }
      ]
    },
    {
      "cell_type": "markdown",
      "metadata": {
        "id": "2bC1A_dZq7at"
      },
      "source": [
        "**LIMPEZA/TRATAMENTO DOS DADOS**"
      ]
    },
    {
      "cell_type": "code",
      "metadata": {
        "id": "-kOKGnoTbFIk"
      },
      "source": [
        "df.replace(['**', '****', '*****', '####', '###!'], pd.NA, inplace=True)"
      ],
      "execution_count": null,
      "outputs": []
    },
    {
      "cell_type": "code",
      "metadata": {
        "colab": {
          "base_uri": "https://localhost:8080/"
        },
        "id": "T4oRmVf1pjSC",
        "outputId": "1985e9fa-1f89-45e1-c52b-6ec8b4bad305"
      },
      "source": [
        "df.isna().sum()"
      ],
      "execution_count": null,
      "outputs": [
        {
          "output_type": "execute_result",
          "data": {
            "text/plain": [
              "codigo_ocorrencia              0\n",
              "codigo_ocorrencia2             0\n",
              "ocorrencia_classificacao       0\n",
              "ocorrencia_cidade              0\n",
              "ocorrencia_uf                  1\n",
              "ocorrencia_aerodromo        2349\n",
              "ocorrencia_dia                 0\n",
              "ocorrencia_hora                1\n",
              "total_recomendacoes            0\n",
              "dtype: int64"
            ]
          },
          "metadata": {},
          "execution_count": 67
        }
      ]
    },
    {
      "cell_type": "code",
      "metadata": {
        "id": "ihJhU8MTpgz-"
      },
      "source": [
        "df.drop_duplicates()"
      ],
      "execution_count": null,
      "outputs": []
    },
    {
      "cell_type": "code",
      "metadata": {
        "colab": {
          "base_uri": "https://localhost:8080/"
        },
        "id": "6fb3tv0x4e9q",
        "outputId": "2d387004-26fa-47cd-8240-3bdd38305c0c"
      },
      "source": [
        "df.dtypes"
      ],
      "execution_count": null,
      "outputs": [
        {
          "output_type": "execute_result",
          "data": {
            "text/plain": [
              "codigo_ocorrencia                    int64\n",
              "codigo_ocorrencia2                   int64\n",
              "ocorrencia_classificacao            object\n",
              "ocorrencia_cidade                   object\n",
              "ocorrencia_uf                       object\n",
              "ocorrencia_aerodromo                object\n",
              "ocorrencia_dia              datetime64[ns]\n",
              "ocorrencia_hora                     object\n",
              "total_recomendacoes                  int64\n",
              "dtype: object"
            ]
          },
          "metadata": {},
          "execution_count": 84
        }
      ]
    },
    {
      "cell_type": "markdown",
      "metadata": {
        "id": "roGcDOmnQTi7"
      },
      "source": [
        "**VALIDAÇÃO DE DADOS**"
      ]
    },
    {
      "cell_type": "code",
      "metadata": {
        "id": "Ep7gLRQuPywg"
      },
      "source": [
        "schema = pa.DataFrameSchema(\n",
        "    columns = {\n",
        "        \"codigo_ocorrencia\":pa.Column(pa.Int),\n",
        "        \"codigo_ocorrencia2\":pa.Column(pa.Int),\n",
        "        \"ocorrencia_classificacao\":pa.Column(pa.String),\n",
        "        \"ocorrencia_cidade\":pa.Column(pa.String),\n",
        "        \"ocorrencia_uf\":pa.Column(pa.String, pa.Check.str_length(2,2), nullable=True),\n",
        "        \"ocorrencia_aerodromo\":pa.Column(pa.String, pa.Check.str_length(4,4), nullable=True),\n",
        "        \"ocorrencia_dia\":pa.Column(pa.DateTime),\n",
        "        \"ocorrencia_hora\":pa.Column(pa.String, pa.Check.str_matches(r'^([0-1]?[0-9]|[2][0-3]):([0-5][0-9]):([0-5][0-9])?$'), nullable=True),\n",
        "        \"total_recomendacoes\":pa.Column(pa.Int)\n",
        "    }\n",
        ")"
      ],
      "execution_count": null,
      "outputs": []
    },
    {
      "cell_type": "code",
      "metadata": {
        "id": "jbieHJ4YRrVw"
      },
      "source": [
        "schema.validate(df)"
      ],
      "execution_count": null,
      "outputs": []
    },
    {
      "cell_type": "markdown",
      "metadata": {
        "id": "R0T_LwIerXUm"
      },
      "source": [
        "**FILTROS**"
      ]
    },
    {
      "cell_type": "code",
      "metadata": {
        "colab": {
          "base_uri": "https://localhost:8080/"
        },
        "id": "pIJRqFtMRtqV",
        "outputId": "9784f07a-c03c-4209-ab8e-17589808c644"
      },
      "source": [
        "df.isnull().sum()"
      ],
      "execution_count": null,
      "outputs": [
        {
          "output_type": "execute_result",
          "data": {
            "text/plain": [
              "codigo_ocorrencia              0\n",
              "codigo_ocorrencia2             0\n",
              "ocorrencia_classificacao       0\n",
              "ocorrencia_cidade              0\n",
              "ocorrencia_uf                  1\n",
              "ocorrencia_aerodromo        2349\n",
              "ocorrencia_dia                 0\n",
              "ocorrencia_hora                1\n",
              "total_recomendacoes            0\n",
              "dtype: int64"
            ]
          },
          "metadata": {},
          "execution_count": 102
        }
      ]
    },
    {
      "cell_type": "code",
      "metadata": {
        "id": "wwTx1ac8rbmG"
      },
      "source": [
        "filter = df['ocorrencia_uf'].isnull()"
      ],
      "execution_count": null,
      "outputs": []
    },
    {
      "cell_type": "code",
      "metadata": {
        "colab": {
          "base_uri": "https://localhost:8080/",
          "height": 118
        },
        "id": "5E1yBuIwr22i",
        "outputId": "59dfa065-f00c-46f2-a73c-1df578974b5b"
      },
      "source": [
        "df.loc[filter]"
      ],
      "execution_count": null,
      "outputs": [
        {
          "output_type": "execute_result",
          "data": {
            "text/html": [
              "<div>\n",
              "<style scoped>\n",
              "    .dataframe tbody tr th:only-of-type {\n",
              "        vertical-align: middle;\n",
              "    }\n",
              "\n",
              "    .dataframe tbody tr th {\n",
              "        vertical-align: top;\n",
              "    }\n",
              "\n",
              "    .dataframe thead th {\n",
              "        text-align: right;\n",
              "    }\n",
              "</style>\n",
              "<table border=\"1\" class=\"dataframe\">\n",
              "  <thead>\n",
              "    <tr style=\"text-align: right;\">\n",
              "      <th></th>\n",
              "      <th>codigo_ocorrencia</th>\n",
              "      <th>codigo_ocorrencia2</th>\n",
              "      <th>ocorrencia_classificacao</th>\n",
              "      <th>ocorrencia_cidade</th>\n",
              "      <th>ocorrencia_uf</th>\n",
              "      <th>ocorrencia_aerodromo</th>\n",
              "      <th>ocorrencia_dia</th>\n",
              "      <th>ocorrencia_hora</th>\n",
              "      <th>total_recomendacoes</th>\n",
              "    </tr>\n",
              "  </thead>\n",
              "  <tbody>\n",
              "    <tr>\n",
              "      <th>2227</th>\n",
              "      <td>49474</td>\n",
              "      <td>49474</td>\n",
              "      <td>ACIDENTE</td>\n",
              "      <td>ÁGUAS INTERNACIONAIS</td>\n",
              "      <td>&lt;NA&gt;</td>\n",
              "      <td>&lt;NA&gt;</td>\n",
              "      <td>2013-09-02</td>\n",
              "      <td>02:54:00</td>\n",
              "      <td>0</td>\n",
              "    </tr>\n",
              "  </tbody>\n",
              "</table>\n",
              "</div>"
            ],
            "text/plain": [
              "      codigo_ocorrencia  ...  total_recomendacoes\n",
              "2227              49474  ...                    0\n",
              "\n",
              "[1 rows x 9 columns]"
            ]
          },
          "metadata": {},
          "execution_count": 110
        }
      ]
    },
    {
      "cell_type": "code",
      "metadata": {
        "colab": {
          "base_uri": "https://localhost:8080/"
        },
        "id": "PwbI4XHQr59s",
        "outputId": "809fa295-97a3-41b8-adc4-a2ca1779ab5a"
      },
      "source": [
        "df.count()"
      ],
      "execution_count": null,
      "outputs": [
        {
          "output_type": "execute_result",
          "data": {
            "text/plain": [
              "codigo_ocorrencia           5752\n",
              "codigo_ocorrencia2          5752\n",
              "ocorrencia_classificacao    5752\n",
              "ocorrencia_cidade           5752\n",
              "ocorrencia_uf               5751\n",
              "ocorrencia_aerodromo        3403\n",
              "ocorrencia_dia              5752\n",
              "ocorrencia_hora             5751\n",
              "total_recomendacoes         5752\n",
              "dtype: int64"
            ]
          },
          "metadata": {},
          "execution_count": 111
        }
      ]
    },
    {
      "cell_type": "code",
      "metadata": {
        "id": "OWzAdqA9v-c2"
      },
      "source": [
        "filter1 = df['total_recomendacoes'] > 11\n",
        "df.loc[filter1]"
      ],
      "execution_count": null,
      "outputs": []
    },
    {
      "cell_type": "code",
      "metadata": {
        "id": "6frQAXCxwwJh"
      },
      "source": [
        "df.loc[filter1, ['ocorrencia_cidade', 'ocorrencia_dia', 'total_recomendacoes']]"
      ],
      "execution_count": null,
      "outputs": []
    },
    {
      "cell_type": "code",
      "metadata": {
        "id": "HHxjm7Sxwx-Q"
      },
      "source": [
        "filter2 = df['ocorrencia_classificacao'] == 'ACIDENTE'\n",
        "filter3 = df['ocorrencia_uf'] == 'RJ'"
      ],
      "execution_count": null,
      "outputs": []
    },
    {
      "cell_type": "code",
      "metadata": {
        "id": "1rm3iqT2zJPV"
      },
      "source": [
        "df.loc[filter2 & filter3]"
      ],
      "execution_count": null,
      "outputs": []
    },
    {
      "cell_type": "code",
      "metadata": {
        "id": "AtFf2EdMzW0Q"
      },
      "source": [
        "df.loc[filter2 | filter3]"
      ],
      "execution_count": null,
      "outputs": []
    },
    {
      "cell_type": "code",
      "metadata": {
        "id": "NTb1lkYg0m6f"
      },
      "source": [
        "filter4 = df['ocorrencia_classificacao'].isin(['ACIDENTE', 'INCIDENTE'])\n",
        "filter5 = df['ocorrencia_uf'] == 'SP'"
      ],
      "execution_count": null,
      "outputs": []
    },
    {
      "cell_type": "code",
      "metadata": {
        "id": "3jbN1MkP4Q2a"
      },
      "source": [
        "df.loc[filter4 & filter5]"
      ],
      "execution_count": null,
      "outputs": []
    },
    {
      "cell_type": "code",
      "metadata": {
        "id": "3pmR6-Gi4UXe"
      },
      "source": [
        "#filtroLetra = df['ocorrencia_cidade'].str[0] == 'C'\n",
        "filtroLetra = df['ocorrencia_cidade'].str[-2:] == 'RA'\n",
        "df.loc[filtroLetra]"
      ],
      "execution_count": null,
      "outputs": []
    },
    {
      "cell_type": "code",
      "metadata": {
        "id": "XmfV4Ynv5O3v"
      },
      "source": [
        "#filtroContem = df['ocorrencia_cidade'].str.contains('RIO | MA')\n",
        "filtroContem = df['ocorrencia_cidade'].str.contains('RIO')\n",
        "df.loc[filtroContem]"
      ],
      "execution_count": null,
      "outputs": []
    },
    {
      "cell_type": "code",
      "metadata": {
        "colab": {
          "base_uri": "https://localhost:8080/"
        },
        "id": "myqB7Vvc7XcC",
        "outputId": "13e99c7c-18db-48f2-9bbc-7657f7d48b70"
      },
      "source": [
        "filtroData = df['ocorrencia_dia'].dt.year == 2018\n",
        "df.loc[filtroData & filter5 & filter2].shape"
      ],
      "execution_count": null,
      "outputs": [
        {
          "output_type": "execute_result",
          "data": {
            "text/plain": [
              "(27, 9)"
            ]
          },
          "metadata": {},
          "execution_count": 138
        }
      ]
    },
    {
      "cell_type": "code",
      "metadata": {
        "id": "LX72ZET-8xs2"
      },
      "source": [
        ""
      ],
      "execution_count": null,
      "outputs": []
    }
  ]
}