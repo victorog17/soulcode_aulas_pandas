{
  "nbformat": 4,
  "nbformat_minor": 0,
  "metadata": {
    "colab": {
      "name": "Soulcode_Pandas_005.ipynb",
      "provenance": [],
      "collapsed_sections": [],
      "authorship_tag": "ABX9TyOyfQRxeiDnla97kKlgluXO",
      "include_colab_link": true
    },
    "kernelspec": {
      "name": "python3",
      "display_name": "Python 3"
    },
    "language_info": {
      "name": "python"
    }
  },
  "cells": [
    {
      "cell_type": "markdown",
      "metadata": {
        "id": "view-in-github",
        "colab_type": "text"
      },
      "source": [
        "<a href=\"https://colab.research.google.com/github/victorog17/soulcode_aulas_pandas/blob/main/Soulcode_Pandas_005.ipynb\" target=\"_parent\"><img src=\"https://colab.research.google.com/assets/colab-badge.svg\" alt=\"Open In Colab\"/></a>"
      ]
    },
    {
      "cell_type": "code",
      "metadata": {
        "id": "r7Ga8_kOKtRz"
      },
      "source": [
        "import pandas as pd"
      ],
      "execution_count": null,
      "outputs": []
    },
    {
      "cell_type": "code",
      "metadata": {
        "colab": {
          "base_uri": "https://localhost:8080/",
          "height": 413
        },
        "id": "rcdZZWM9K0Ip",
        "outputId": "666ae0e2-4a3f-48ee-eac5-d49509a6ed97"
      },
      "source": [
        "df = pd.read_csv('https://storage.googleapis.com/dados_turmabc6_soul/Dados/Acessos_Banda_Larga_Fixa_2021.csv', sep=';')\n",
        "df.head()"
      ],
      "execution_count": null,
      "outputs": [
        {
          "output_type": "execute_result",
          "data": {
            "text/html": [
              "<div>\n",
              "<style scoped>\n",
              "    .dataframe tbody tr th:only-of-type {\n",
              "        vertical-align: middle;\n",
              "    }\n",
              "\n",
              "    .dataframe tbody tr th {\n",
              "        vertical-align: top;\n",
              "    }\n",
              "\n",
              "    .dataframe thead th {\n",
              "        text-align: right;\n",
              "    }\n",
              "</style>\n",
              "<table border=\"1\" class=\"dataframe\">\n",
              "  <thead>\n",
              "    <tr style=\"text-align: right;\">\n",
              "      <th></th>\n",
              "      <th>Ano</th>\n",
              "      <th>Mês</th>\n",
              "      <th>Grupo Econômico</th>\n",
              "      <th>Empresa</th>\n",
              "      <th>CNPJ</th>\n",
              "      <th>Porte da Prestadora</th>\n",
              "      <th>UF</th>\n",
              "      <th>Município</th>\n",
              "      <th>Código IBGE Município</th>\n",
              "      <th>Faixa de Velocidade</th>\n",
              "      <th>Tecnologia</th>\n",
              "      <th>Meio de Acesso</th>\n",
              "      <th>Tipo de Pessoa</th>\n",
              "      <th>Acessos</th>\n",
              "    </tr>\n",
              "  </thead>\n",
              "  <tbody>\n",
              "    <tr>\n",
              "      <th>0</th>\n",
              "      <td>2021</td>\n",
              "      <td>7</td>\n",
              "      <td>ALGAR (CTBC TELECOM)</td>\n",
              "      <td>ALGAR (CTBC TELECOM)</td>\n",
              "      <td>71208516000174</td>\n",
              "      <td>Pequeno Porte</td>\n",
              "      <td>GO</td>\n",
              "      <td>Itumbiara</td>\n",
              "      <td>5211503</td>\n",
              "      <td>2Mbps a 12Mbps</td>\n",
              "      <td>ETHERNET</td>\n",
              "      <td>Fibra</td>\n",
              "      <td>Pessoa Jurídica</td>\n",
              "      <td>10</td>\n",
              "    </tr>\n",
              "    <tr>\n",
              "      <th>1</th>\n",
              "      <td>2021</td>\n",
              "      <td>7</td>\n",
              "      <td>ALGAR (CTBC TELECOM)</td>\n",
              "      <td>ALGAR (CTBC TELECOM)</td>\n",
              "      <td>71208516000174</td>\n",
              "      <td>Pequeno Porte</td>\n",
              "      <td>SP</td>\n",
              "      <td>Morro Agudo</td>\n",
              "      <td>3531902</td>\n",
              "      <td>12Mbps a 34Mbps</td>\n",
              "      <td>ETHERNET</td>\n",
              "      <td>Fibra</td>\n",
              "      <td>Pessoa Jurídica</td>\n",
              "      <td>1</td>\n",
              "    </tr>\n",
              "    <tr>\n",
              "      <th>2</th>\n",
              "      <td>2021</td>\n",
              "      <td>7</td>\n",
              "      <td>ALGAR (CTBC TELECOM)</td>\n",
              "      <td>ALGAR (CTBC TELECOM)</td>\n",
              "      <td>71208516000174</td>\n",
              "      <td>Pequeno Porte</td>\n",
              "      <td>SP</td>\n",
              "      <td>São Joaquim da Barra</td>\n",
              "      <td>3549409</td>\n",
              "      <td>&gt; 34Mbps</td>\n",
              "      <td>ETHERNET</td>\n",
              "      <td>Fibra</td>\n",
              "      <td>Pessoa Jurídica</td>\n",
              "      <td>2</td>\n",
              "    </tr>\n",
              "    <tr>\n",
              "      <th>3</th>\n",
              "      <td>2021</td>\n",
              "      <td>7</td>\n",
              "      <td>OUTROS</td>\n",
              "      <td>Telecomunicacoes Brasileiras S.A. Telebras</td>\n",
              "      <td>336701000104</td>\n",
              "      <td>Pequeno Porte</td>\n",
              "      <td>MS</td>\n",
              "      <td>Coxim</td>\n",
              "      <td>5003306</td>\n",
              "      <td>&gt; 34Mbps</td>\n",
              "      <td>DWDM</td>\n",
              "      <td>Fibra</td>\n",
              "      <td>Pessoa Jurídica</td>\n",
              "      <td>2</td>\n",
              "    </tr>\n",
              "    <tr>\n",
              "      <th>4</th>\n",
              "      <td>2021</td>\n",
              "      <td>7</td>\n",
              "      <td>ALGAR (CTBC TELECOM)</td>\n",
              "      <td>ALGAR (CTBC TELECOM)</td>\n",
              "      <td>71208516000174</td>\n",
              "      <td>Pequeno Porte</td>\n",
              "      <td>MG</td>\n",
              "      <td>Delta</td>\n",
              "      <td>3121258</td>\n",
              "      <td>512kbps a 2Mbps</td>\n",
              "      <td>ETHERNET</td>\n",
              "      <td>Fibra</td>\n",
              "      <td>Pessoa Jurídica</td>\n",
              "      <td>3</td>\n",
              "    </tr>\n",
              "  </tbody>\n",
              "</table>\n",
              "</div>"
            ],
            "text/plain": [
              "    Ano  Mês       Grupo Econômico  ... Meio de Acesso   Tipo de Pessoa Acessos\n",
              "0  2021    7  ALGAR (CTBC TELECOM)  ...          Fibra  Pessoa Jurídica      10\n",
              "1  2021    7  ALGAR (CTBC TELECOM)  ...          Fibra  Pessoa Jurídica       1\n",
              "2  2021    7  ALGAR (CTBC TELECOM)  ...          Fibra  Pessoa Jurídica       2\n",
              "3  2021    7                OUTROS  ...          Fibra  Pessoa Jurídica       2\n",
              "4  2021    7  ALGAR (CTBC TELECOM)  ...          Fibra  Pessoa Jurídica       3\n",
              "\n",
              "[5 rows x 14 columns]"
            ]
          },
          "metadata": {},
          "execution_count": 2
        }
      ]
    },
    {
      "cell_type": "code",
      "metadata": {
        "colab": {
          "base_uri": "https://localhost:8080/"
        },
        "id": "bedumC22LAzw",
        "outputId": "92421b38-cf0a-4b11-9ee3-7184779f589b"
      },
      "source": [
        "df.shape"
      ],
      "execution_count": null,
      "outputs": [
        {
          "output_type": "execute_result",
          "data": {
            "text/plain": [
              "(3210064, 14)"
            ]
          },
          "metadata": {},
          "execution_count": 4
        }
      ]
    },
    {
      "cell_type": "code",
      "metadata": {
        "colab": {
          "base_uri": "https://localhost:8080/"
        },
        "id": "edfXdV5BLbyX",
        "outputId": "ad28b01d-f047-4987-85e5-3091c97c5e18"
      },
      "source": [
        "df['UF'].value_counts()"
      ],
      "execution_count": null,
      "outputs": [
        {
          "output_type": "execute_result",
          "data": {
            "text/plain": [
              "SP    594313\n",
              "MG    473806\n",
              "RS    362200\n",
              "SC    253285\n",
              "PR    252780\n",
              "BA    171483\n",
              "RJ    134312\n",
              "GO    121880\n",
              "CE    105302\n",
              "PE     91623\n",
              "MT     76220\n",
              "ES     68026\n",
              "PB     67490\n",
              "MA     62613\n",
              "RN     58134\n",
              "PA     57867\n",
              "PI     45240\n",
              "MS     42193\n",
              "AL     30643\n",
              "TO     30175\n",
              "SE     29323\n",
              "RO     25859\n",
              "AM     19167\n",
              "DF     15749\n",
              "AC      8584\n",
              "AP      6713\n",
              "RR      5084\n",
              "Name: UF, dtype: int64"
            ]
          },
          "metadata": {},
          "execution_count": 6
        }
      ]
    },
    {
      "cell_type": "code",
      "metadata": {
        "id": "2gkUYx1aNSjT",
        "colab": {
          "base_uri": "https://localhost:8080/",
          "height": 433
        },
        "outputId": "460f7265-6d7a-46ff-926d-0c4c6cf5760c"
      },
      "source": [
        "df['backup_grupo_economico'] = df['Grupo Econômico']\n",
        "df.head()"
      ],
      "execution_count": null,
      "outputs": [
        {
          "output_type": "execute_result",
          "data": {
            "text/html": [
              "<div>\n",
              "<style scoped>\n",
              "    .dataframe tbody tr th:only-of-type {\n",
              "        vertical-align: middle;\n",
              "    }\n",
              "\n",
              "    .dataframe tbody tr th {\n",
              "        vertical-align: top;\n",
              "    }\n",
              "\n",
              "    .dataframe thead th {\n",
              "        text-align: right;\n",
              "    }\n",
              "</style>\n",
              "<table border=\"1\" class=\"dataframe\">\n",
              "  <thead>\n",
              "    <tr style=\"text-align: right;\">\n",
              "      <th></th>\n",
              "      <th>Ano</th>\n",
              "      <th>Mês</th>\n",
              "      <th>Grupo Econômico</th>\n",
              "      <th>Empresa</th>\n",
              "      <th>CNPJ</th>\n",
              "      <th>Porte da Prestadora</th>\n",
              "      <th>UF</th>\n",
              "      <th>Município</th>\n",
              "      <th>Código IBGE Município</th>\n",
              "      <th>Faixa de Velocidade</th>\n",
              "      <th>Tecnologia</th>\n",
              "      <th>Meio de Acesso</th>\n",
              "      <th>Tipo de Pessoa</th>\n",
              "      <th>Acessos</th>\n",
              "      <th>backup_grupo_economico</th>\n",
              "    </tr>\n",
              "  </thead>\n",
              "  <tbody>\n",
              "    <tr>\n",
              "      <th>0</th>\n",
              "      <td>2021</td>\n",
              "      <td>7</td>\n",
              "      <td>ALGAR (CTBC TELECOM)</td>\n",
              "      <td>ALGAR (CTBC TELECOM)</td>\n",
              "      <td>71208516000174</td>\n",
              "      <td>Pequeno Porte</td>\n",
              "      <td>GO</td>\n",
              "      <td>Itumbiara</td>\n",
              "      <td>5211503</td>\n",
              "      <td>2Mbps a 12Mbps</td>\n",
              "      <td>ETHERNET</td>\n",
              "      <td>Fibra</td>\n",
              "      <td>Pessoa Jurídica</td>\n",
              "      <td>10</td>\n",
              "      <td>ALGAR (CTBC TELECOM)</td>\n",
              "    </tr>\n",
              "    <tr>\n",
              "      <th>1</th>\n",
              "      <td>2021</td>\n",
              "      <td>7</td>\n",
              "      <td>ALGAR (CTBC TELECOM)</td>\n",
              "      <td>ALGAR (CTBC TELECOM)</td>\n",
              "      <td>71208516000174</td>\n",
              "      <td>Pequeno Porte</td>\n",
              "      <td>SP</td>\n",
              "      <td>Morro Agudo</td>\n",
              "      <td>3531902</td>\n",
              "      <td>12Mbps a 34Mbps</td>\n",
              "      <td>ETHERNET</td>\n",
              "      <td>Fibra</td>\n",
              "      <td>Pessoa Jurídica</td>\n",
              "      <td>1</td>\n",
              "      <td>ALGAR (CTBC TELECOM)</td>\n",
              "    </tr>\n",
              "    <tr>\n",
              "      <th>2</th>\n",
              "      <td>2021</td>\n",
              "      <td>7</td>\n",
              "      <td>ALGAR (CTBC TELECOM)</td>\n",
              "      <td>ALGAR (CTBC TELECOM)</td>\n",
              "      <td>71208516000174</td>\n",
              "      <td>Pequeno Porte</td>\n",
              "      <td>SP</td>\n",
              "      <td>São Joaquim da Barra</td>\n",
              "      <td>3549409</td>\n",
              "      <td>&gt; 34Mbps</td>\n",
              "      <td>ETHERNET</td>\n",
              "      <td>Fibra</td>\n",
              "      <td>Pessoa Jurídica</td>\n",
              "      <td>2</td>\n",
              "      <td>ALGAR (CTBC TELECOM)</td>\n",
              "    </tr>\n",
              "    <tr>\n",
              "      <th>3</th>\n",
              "      <td>2021</td>\n",
              "      <td>7</td>\n",
              "      <td>OUTROS</td>\n",
              "      <td>Telecomunicacoes Brasileiras S.A. Telebras</td>\n",
              "      <td>336701000104</td>\n",
              "      <td>Pequeno Porte</td>\n",
              "      <td>MS</td>\n",
              "      <td>Coxim</td>\n",
              "      <td>5003306</td>\n",
              "      <td>&gt; 34Mbps</td>\n",
              "      <td>DWDM</td>\n",
              "      <td>Fibra</td>\n",
              "      <td>Pessoa Jurídica</td>\n",
              "      <td>2</td>\n",
              "      <td>OUTROS</td>\n",
              "    </tr>\n",
              "    <tr>\n",
              "      <th>4</th>\n",
              "      <td>2021</td>\n",
              "      <td>7</td>\n",
              "      <td>ALGAR (CTBC TELECOM)</td>\n",
              "      <td>ALGAR (CTBC TELECOM)</td>\n",
              "      <td>71208516000174</td>\n",
              "      <td>Pequeno Porte</td>\n",
              "      <td>MG</td>\n",
              "      <td>Delta</td>\n",
              "      <td>3121258</td>\n",
              "      <td>512kbps a 2Mbps</td>\n",
              "      <td>ETHERNET</td>\n",
              "      <td>Fibra</td>\n",
              "      <td>Pessoa Jurídica</td>\n",
              "      <td>3</td>\n",
              "      <td>ALGAR (CTBC TELECOM)</td>\n",
              "    </tr>\n",
              "  </tbody>\n",
              "</table>\n",
              "</div>"
            ],
            "text/plain": [
              "    Ano  Mês  ... Acessos backup_grupo_economico\n",
              "0  2021    7  ...      10   ALGAR (CTBC TELECOM)\n",
              "1  2021    7  ...       1   ALGAR (CTBC TELECOM)\n",
              "2  2021    7  ...       2   ALGAR (CTBC TELECOM)\n",
              "3  2021    7  ...       2                 OUTROS\n",
              "4  2021    7  ...       3   ALGAR (CTBC TELECOM)\n",
              "\n",
              "[5 rows x 15 columns]"
            ]
          },
          "metadata": {},
          "execution_count": 5
        }
      ]
    },
    {
      "cell_type": "code",
      "metadata": {
        "id": "ZA9SPqhy5NXH"
      },
      "source": [
        ""
      ],
      "execution_count": null,
      "outputs": []
    }
  ]
}