{
  "nbformat": 4,
  "nbformat_minor": 0,
  "metadata": {
    "colab": {
      "name": "Soulcode_Pandas_008_groupby.ipynb",
      "provenance": [],
      "collapsed_sections": [],
      "mount_file_id": "1w-Iwa6Mj4ts1sQPHgdY0Lg_jsKrJXFE1",
      "authorship_tag": "ABX9TyOwoX01ugdlVtMXNGm54nxo",
      "include_colab_link": true
    },
    "kernelspec": {
      "name": "python3",
      "display_name": "Python 3"
    },
    "language_info": {
      "name": "python"
    }
  },
  "cells": [
    {
      "cell_type": "markdown",
      "metadata": {
        "id": "view-in-github",
        "colab_type": "text"
      },
      "source": [
        "<a href=\"https://colab.research.google.com/github/victorog17/soulcode_aulas_pandas/blob/main/Soulcode_Pandas_008_groupby.ipynb\" target=\"_parent\"><img src=\"https://colab.research.google.com/assets/colab-badge.svg\" alt=\"Open In Colab\"/></a>"
      ]
    },
    {
      "cell_type": "markdown",
      "metadata": {
        "id": "KwW506dd4jMP"
      },
      "source": [
        "**BIBLIOTECAS**"
      ]
    },
    {
      "cell_type": "code",
      "metadata": {
        "id": "aku04rtDO-Hl"
      },
      "source": [
        "pip install pandera"
      ],
      "execution_count": null,
      "outputs": []
    },
    {
      "cell_type": "code",
      "metadata": {
        "id": "tPhofI1SYRJy"
      },
      "source": [
        "import pandas as pd\n",
        "import pandera as pa"
      ],
      "execution_count": 3,
      "outputs": []
    },
    {
      "cell_type": "markdown",
      "metadata": {
        "id": "ii81hvkM4m4W"
      },
      "source": [
        "**EXTRAÇÃO DOS DADOS DE UMA/VARIAS FONTE(S)**"
      ]
    },
    {
      "cell_type": "code",
      "metadata": {
        "colab": {
          "base_uri": "https://localhost:8080/",
          "height": 243
        },
        "id": "-P5MnMqoZeDA",
        "outputId": "569940ff-ea2c-4f17-e4ba-f971d2c900e3"
      },
      "source": [
        "df = pd.read_csv('/content/drive/MyDrive/Soul_Code_Academy/repositorio_pandas/ocorrencia_2010_2020 - ocorrencia_2010_2020.csv', sep=';', parse_dates=['ocorrencia_dia'], dayfirst=True)\n",
        "df.head()"
      ],
      "execution_count": 4,
      "outputs": [
        {
          "output_type": "execute_result",
          "data": {
            "text/html": [
              "<div>\n",
              "<style scoped>\n",
              "    .dataframe tbody tr th:only-of-type {\n",
              "        vertical-align: middle;\n",
              "    }\n",
              "\n",
              "    .dataframe tbody tr th {\n",
              "        vertical-align: top;\n",
              "    }\n",
              "\n",
              "    .dataframe thead th {\n",
              "        text-align: right;\n",
              "    }\n",
              "</style>\n",
              "<table border=\"1\" class=\"dataframe\">\n",
              "  <thead>\n",
              "    <tr style=\"text-align: right;\">\n",
              "      <th></th>\n",
              "      <th>codigo_ocorrencia</th>\n",
              "      <th>codigo_ocorrencia2</th>\n",
              "      <th>ocorrencia_classificacao</th>\n",
              "      <th>ocorrencia_cidade</th>\n",
              "      <th>ocorrencia_uf</th>\n",
              "      <th>ocorrencia_aerodromo</th>\n",
              "      <th>ocorrencia_dia</th>\n",
              "      <th>ocorrencia_hora</th>\n",
              "      <th>total_recomendacoes</th>\n",
              "    </tr>\n",
              "  </thead>\n",
              "  <tbody>\n",
              "    <tr>\n",
              "      <th>0</th>\n",
              "      <td>40211</td>\n",
              "      <td>40211</td>\n",
              "      <td>INCIDENTE</td>\n",
              "      <td>RIO DE JANEIRO</td>\n",
              "      <td>RJ</td>\n",
              "      <td>****</td>\n",
              "      <td>2010-01-03</td>\n",
              "      <td>12:00:00</td>\n",
              "      <td>0</td>\n",
              "    </tr>\n",
              "    <tr>\n",
              "      <th>1</th>\n",
              "      <td>40349</td>\n",
              "      <td>40349</td>\n",
              "      <td>INCIDENTE</td>\n",
              "      <td>BELÉM</td>\n",
              "      <td>PA</td>\n",
              "      <td>SBBE</td>\n",
              "      <td>2010-01-03</td>\n",
              "      <td>11:05:00</td>\n",
              "      <td>0</td>\n",
              "    </tr>\n",
              "    <tr>\n",
              "      <th>2</th>\n",
              "      <td>40351</td>\n",
              "      <td>40351</td>\n",
              "      <td>INCIDENTE</td>\n",
              "      <td>RIO DE JANEIRO</td>\n",
              "      <td>RJ</td>\n",
              "      <td>SBRJ</td>\n",
              "      <td>2010-01-03</td>\n",
              "      <td>03:00:00</td>\n",
              "      <td>0</td>\n",
              "    </tr>\n",
              "    <tr>\n",
              "      <th>3</th>\n",
              "      <td>39527</td>\n",
              "      <td>39527</td>\n",
              "      <td>ACIDENTE</td>\n",
              "      <td>LUCAS DO RIO VERDE</td>\n",
              "      <td>MT</td>\n",
              "      <td>****</td>\n",
              "      <td>2010-01-04</td>\n",
              "      <td>17:30:00</td>\n",
              "      <td>0</td>\n",
              "    </tr>\n",
              "    <tr>\n",
              "      <th>4</th>\n",
              "      <td>40324</td>\n",
              "      <td>40324</td>\n",
              "      <td>INCIDENTE</td>\n",
              "      <td>PELOTAS</td>\n",
              "      <td>RS</td>\n",
              "      <td>SBPK</td>\n",
              "      <td>2010-01-05</td>\n",
              "      <td>19:25:00</td>\n",
              "      <td>0</td>\n",
              "    </tr>\n",
              "  </tbody>\n",
              "</table>\n",
              "</div>"
            ],
            "text/plain": [
              "   codigo_ocorrencia  codigo_ocorrencia2  ... ocorrencia_hora total_recomendacoes\n",
              "0              40211               40211  ...        12:00:00                   0\n",
              "1              40349               40349  ...        11:05:00                   0\n",
              "2              40351               40351  ...        03:00:00                   0\n",
              "3              39527               39527  ...        17:30:00                   0\n",
              "4              40324               40324  ...        19:25:00                   0\n",
              "\n",
              "[5 rows x 9 columns]"
            ]
          },
          "metadata": {},
          "execution_count": 4
        }
      ]
    },
    {
      "cell_type": "code",
      "metadata": {
        "colab": {
          "base_uri": "https://localhost:8080/"
        },
        "id": "yrPmmWT_aF4E",
        "outputId": "368993db-cfbb-4c25-90b7-52964c8ab33f"
      },
      "source": [
        "df.dtypes"
      ],
      "execution_count": 5,
      "outputs": [
        {
          "output_type": "execute_result",
          "data": {
            "text/plain": [
              "codigo_ocorrencia                    int64\n",
              "codigo_ocorrencia2                   int64\n",
              "ocorrencia_classificacao            object\n",
              "ocorrencia_cidade                   object\n",
              "ocorrencia_uf                       object\n",
              "ocorrencia_aerodromo                object\n",
              "ocorrencia_dia              datetime64[ns]\n",
              "ocorrencia_hora                     object\n",
              "total_recomendacoes                  int64\n",
              "dtype: object"
            ]
          },
          "metadata": {},
          "execution_count": 5
        }
      ]
    },
    {
      "cell_type": "code",
      "metadata": {
        "colab": {
          "base_uri": "https://localhost:8080/"
        },
        "id": "w1DhsMJSaHDl",
        "outputId": "1b6c78c1-188a-4ad5-a26b-ddec145d7a89"
      },
      "source": [
        "pd.unique(df['ocorrencia_uf'])"
      ],
      "execution_count": 6,
      "outputs": [
        {
          "output_type": "execute_result",
          "data": {
            "text/plain": [
              "array(['RJ', 'PA', 'MT', 'RS', 'BA', 'AM', 'PR', 'MG', 'SP', 'DF', 'AC',\n",
              "       'TO', 'SC', 'GO', 'MA', 'ES', 'PE', 'RR', 'MS', 'CE', 'AP', 'AL',\n",
              "       'RO', 'SE', 'PB', 'PI', 'RN', '**'], dtype=object)"
            ]
          },
          "metadata": {},
          "execution_count": 6
        }
      ]
    },
    {
      "cell_type": "code",
      "metadata": {
        "colab": {
          "base_uri": "https://localhost:8080/",
          "height": 118
        },
        "id": "S9_Gx8eLmxUU",
        "outputId": "f9b4bfa9-bf09-4495-ed76-4c7edd7b003a"
      },
      "source": [
        "df.loc[df['ocorrencia_uf'] == '**']"
      ],
      "execution_count": 7,
      "outputs": [
        {
          "output_type": "execute_result",
          "data": {
            "text/html": [
              "<div>\n",
              "<style scoped>\n",
              "    .dataframe tbody tr th:only-of-type {\n",
              "        vertical-align: middle;\n",
              "    }\n",
              "\n",
              "    .dataframe tbody tr th {\n",
              "        vertical-align: top;\n",
              "    }\n",
              "\n",
              "    .dataframe thead th {\n",
              "        text-align: right;\n",
              "    }\n",
              "</style>\n",
              "<table border=\"1\" class=\"dataframe\">\n",
              "  <thead>\n",
              "    <tr style=\"text-align: right;\">\n",
              "      <th></th>\n",
              "      <th>codigo_ocorrencia</th>\n",
              "      <th>codigo_ocorrencia2</th>\n",
              "      <th>ocorrencia_classificacao</th>\n",
              "      <th>ocorrencia_cidade</th>\n",
              "      <th>ocorrencia_uf</th>\n",
              "      <th>ocorrencia_aerodromo</th>\n",
              "      <th>ocorrencia_dia</th>\n",
              "      <th>ocorrencia_hora</th>\n",
              "      <th>total_recomendacoes</th>\n",
              "    </tr>\n",
              "  </thead>\n",
              "  <tbody>\n",
              "    <tr>\n",
              "      <th>2227</th>\n",
              "      <td>49474</td>\n",
              "      <td>49474</td>\n",
              "      <td>ACIDENTE</td>\n",
              "      <td>ÁGUAS INTERNACIONAIS</td>\n",
              "      <td>**</td>\n",
              "      <td>****</td>\n",
              "      <td>2013-09-02</td>\n",
              "      <td>02:54:00</td>\n",
              "      <td>0</td>\n",
              "    </tr>\n",
              "  </tbody>\n",
              "</table>\n",
              "</div>"
            ],
            "text/plain": [
              "      codigo_ocorrencia  ...  total_recomendacoes\n",
              "2227              49474  ...                    0\n",
              "\n",
              "[1 rows x 9 columns]"
            ]
          },
          "metadata": {},
          "execution_count": 7
        }
      ]
    },
    {
      "cell_type": "code",
      "metadata": {
        "id": "W47KJZXSkdsN"
      },
      "source": [
        "dfback = df.copy()"
      ],
      "execution_count": 8,
      "outputs": []
    },
    {
      "cell_type": "code",
      "metadata": {
        "colab": {
          "base_uri": "https://localhost:8080/",
          "height": 243
        },
        "id": "TU_cq5sDk6eG",
        "outputId": "e5aa350f-5c87-495f-e90f-cf01e62029ad"
      },
      "source": [
        "dfback.head()"
      ],
      "execution_count": 9,
      "outputs": [
        {
          "output_type": "execute_result",
          "data": {
            "text/html": [
              "<div>\n",
              "<style scoped>\n",
              "    .dataframe tbody tr th:only-of-type {\n",
              "        vertical-align: middle;\n",
              "    }\n",
              "\n",
              "    .dataframe tbody tr th {\n",
              "        vertical-align: top;\n",
              "    }\n",
              "\n",
              "    .dataframe thead th {\n",
              "        text-align: right;\n",
              "    }\n",
              "</style>\n",
              "<table border=\"1\" class=\"dataframe\">\n",
              "  <thead>\n",
              "    <tr style=\"text-align: right;\">\n",
              "      <th></th>\n",
              "      <th>codigo_ocorrencia</th>\n",
              "      <th>codigo_ocorrencia2</th>\n",
              "      <th>ocorrencia_classificacao</th>\n",
              "      <th>ocorrencia_cidade</th>\n",
              "      <th>ocorrencia_uf</th>\n",
              "      <th>ocorrencia_aerodromo</th>\n",
              "      <th>ocorrencia_dia</th>\n",
              "      <th>ocorrencia_hora</th>\n",
              "      <th>total_recomendacoes</th>\n",
              "    </tr>\n",
              "  </thead>\n",
              "  <tbody>\n",
              "    <tr>\n",
              "      <th>0</th>\n",
              "      <td>40211</td>\n",
              "      <td>40211</td>\n",
              "      <td>INCIDENTE</td>\n",
              "      <td>RIO DE JANEIRO</td>\n",
              "      <td>RJ</td>\n",
              "      <td>****</td>\n",
              "      <td>2010-01-03</td>\n",
              "      <td>12:00:00</td>\n",
              "      <td>0</td>\n",
              "    </tr>\n",
              "    <tr>\n",
              "      <th>1</th>\n",
              "      <td>40349</td>\n",
              "      <td>40349</td>\n",
              "      <td>INCIDENTE</td>\n",
              "      <td>BELÉM</td>\n",
              "      <td>PA</td>\n",
              "      <td>SBBE</td>\n",
              "      <td>2010-01-03</td>\n",
              "      <td>11:05:00</td>\n",
              "      <td>0</td>\n",
              "    </tr>\n",
              "    <tr>\n",
              "      <th>2</th>\n",
              "      <td>40351</td>\n",
              "      <td>40351</td>\n",
              "      <td>INCIDENTE</td>\n",
              "      <td>RIO DE JANEIRO</td>\n",
              "      <td>RJ</td>\n",
              "      <td>SBRJ</td>\n",
              "      <td>2010-01-03</td>\n",
              "      <td>03:00:00</td>\n",
              "      <td>0</td>\n",
              "    </tr>\n",
              "    <tr>\n",
              "      <th>3</th>\n",
              "      <td>39527</td>\n",
              "      <td>39527</td>\n",
              "      <td>ACIDENTE</td>\n",
              "      <td>LUCAS DO RIO VERDE</td>\n",
              "      <td>MT</td>\n",
              "      <td>****</td>\n",
              "      <td>2010-01-04</td>\n",
              "      <td>17:30:00</td>\n",
              "      <td>0</td>\n",
              "    </tr>\n",
              "    <tr>\n",
              "      <th>4</th>\n",
              "      <td>40324</td>\n",
              "      <td>40324</td>\n",
              "      <td>INCIDENTE</td>\n",
              "      <td>PELOTAS</td>\n",
              "      <td>RS</td>\n",
              "      <td>SBPK</td>\n",
              "      <td>2010-01-05</td>\n",
              "      <td>19:25:00</td>\n",
              "      <td>0</td>\n",
              "    </tr>\n",
              "  </tbody>\n",
              "</table>\n",
              "</div>"
            ],
            "text/plain": [
              "   codigo_ocorrencia  codigo_ocorrencia2  ... ocorrencia_hora total_recomendacoes\n",
              "0              40211               40211  ...        12:00:00                   0\n",
              "1              40349               40349  ...        11:05:00                   0\n",
              "2              40351               40351  ...        03:00:00                   0\n",
              "3              39527               39527  ...        17:30:00                   0\n",
              "4              40324               40324  ...        19:25:00                   0\n",
              "\n",
              "[5 rows x 9 columns]"
            ]
          },
          "metadata": {},
          "execution_count": 9
        }
      ]
    },
    {
      "cell_type": "markdown",
      "metadata": {
        "id": "7-NgxHcCe4hY"
      },
      "source": [
        "Incosistencias:\n",
        "\n",
        "`'**', '****', '####', '###!', '*****'`\n",
        "\n",
        "A considerar: aerodromos '5JTI', '9PAA', '9PFC', '9PFX', '9PHD', '9PSD',"
      ]
    },
    {
      "cell_type": "code",
      "metadata": {
        "colab": {
          "base_uri": "https://localhost:8080/",
          "height": 163
        },
        "id": "liKt0j985iNu",
        "outputId": "795162c3-75b8-4b06-86a6-f005d4d73cf1"
      },
      "source": [
        "df.loc[df['ocorrencia_aerodromo'] == '9PAA']"
      ],
      "execution_count": 10,
      "outputs": [
        {
          "output_type": "execute_result",
          "data": {
            "text/html": [
              "<div>\n",
              "<style scoped>\n",
              "    .dataframe tbody tr th:only-of-type {\n",
              "        vertical-align: middle;\n",
              "    }\n",
              "\n",
              "    .dataframe tbody tr th {\n",
              "        vertical-align: top;\n",
              "    }\n",
              "\n",
              "    .dataframe thead th {\n",
              "        text-align: right;\n",
              "    }\n",
              "</style>\n",
              "<table border=\"1\" class=\"dataframe\">\n",
              "  <thead>\n",
              "    <tr style=\"text-align: right;\">\n",
              "      <th></th>\n",
              "      <th>codigo_ocorrencia</th>\n",
              "      <th>codigo_ocorrencia2</th>\n",
              "      <th>ocorrencia_classificacao</th>\n",
              "      <th>ocorrencia_cidade</th>\n",
              "      <th>ocorrencia_uf</th>\n",
              "      <th>ocorrencia_aerodromo</th>\n",
              "      <th>ocorrencia_dia</th>\n",
              "      <th>ocorrencia_hora</th>\n",
              "      <th>total_recomendacoes</th>\n",
              "    </tr>\n",
              "  </thead>\n",
              "  <tbody>\n",
              "    <tr>\n",
              "      <th>3708</th>\n",
              "      <td>65543</td>\n",
              "      <td>65543</td>\n",
              "      <td>INCIDENTE</td>\n",
              "      <td>MACAÉ</td>\n",
              "      <td>RJ</td>\n",
              "      <td>9PAA</td>\n",
              "      <td>2016-08-05</td>\n",
              "      <td>18:00:00</td>\n",
              "      <td>0</td>\n",
              "    </tr>\n",
              "    <tr>\n",
              "      <th>5470</th>\n",
              "      <td>79380</td>\n",
              "      <td>79380</td>\n",
              "      <td>INCIDENTE</td>\n",
              "      <td>RIO DE JANEIRO</td>\n",
              "      <td>RJ</td>\n",
              "      <td>9PAA</td>\n",
              "      <td>2020-06-09</td>\n",
              "      <td>14:35:00</td>\n",
              "      <td>0</td>\n",
              "    </tr>\n",
              "    <tr>\n",
              "      <th>5710</th>\n",
              "      <td>79714</td>\n",
              "      <td>79714</td>\n",
              "      <td>INCIDENTE</td>\n",
              "      <td>RIO DE JANEIRO</td>\n",
              "      <td>RJ</td>\n",
              "      <td>9PAA</td>\n",
              "      <td>2020-12-08</td>\n",
              "      <td>14:50:00</td>\n",
              "      <td>0</td>\n",
              "    </tr>\n",
              "  </tbody>\n",
              "</table>\n",
              "</div>"
            ],
            "text/plain": [
              "      codigo_ocorrencia  ...  total_recomendacoes\n",
              "3708              65543  ...                    0\n",
              "5470              79380  ...                    0\n",
              "5710              79714  ...                    0\n",
              "\n",
              "[3 rows x 9 columns]"
            ]
          },
          "metadata": {},
          "execution_count": 10
        }
      ]
    },
    {
      "cell_type": "markdown",
      "metadata": {
        "id": "2bC1A_dZq7at"
      },
      "source": [
        "**LIMPEZA/TRATAMENTO DOS DADOS**"
      ]
    },
    {
      "cell_type": "code",
      "metadata": {
        "id": "-kOKGnoTbFIk"
      },
      "source": [
        "df.replace(['**', '****', '*****', '####', '###!'], pd.NA, inplace=True)"
      ],
      "execution_count": 11,
      "outputs": []
    },
    {
      "cell_type": "code",
      "metadata": {
        "colab": {
          "base_uri": "https://localhost:8080/"
        },
        "id": "T4oRmVf1pjSC",
        "outputId": "0925b3a2-413f-4f6f-9557-eb764788cab9"
      },
      "source": [
        "df.isna().sum()"
      ],
      "execution_count": 12,
      "outputs": [
        {
          "output_type": "execute_result",
          "data": {
            "text/plain": [
              "codigo_ocorrencia              0\n",
              "codigo_ocorrencia2             0\n",
              "ocorrencia_classificacao       0\n",
              "ocorrencia_cidade              0\n",
              "ocorrencia_uf                  1\n",
              "ocorrencia_aerodromo        2349\n",
              "ocorrencia_dia                 0\n",
              "ocorrencia_hora                1\n",
              "total_recomendacoes            0\n",
              "dtype: int64"
            ]
          },
          "metadata": {},
          "execution_count": 12
        }
      ]
    },
    {
      "cell_type": "code",
      "metadata": {
        "id": "ihJhU8MTpgz-",
        "colab": {
          "base_uri": "https://localhost:8080/",
          "height": 476
        },
        "outputId": "8544b8f4-0773-4675-8add-899ed2825074"
      },
      "source": [
        "df.drop_duplicates()"
      ],
      "execution_count": 13,
      "outputs": [
        {
          "output_type": "execute_result",
          "data": {
            "text/html": [
              "<div>\n",
              "<style scoped>\n",
              "    .dataframe tbody tr th:only-of-type {\n",
              "        vertical-align: middle;\n",
              "    }\n",
              "\n",
              "    .dataframe tbody tr th {\n",
              "        vertical-align: top;\n",
              "    }\n",
              "\n",
              "    .dataframe thead th {\n",
              "        text-align: right;\n",
              "    }\n",
              "</style>\n",
              "<table border=\"1\" class=\"dataframe\">\n",
              "  <thead>\n",
              "    <tr style=\"text-align: right;\">\n",
              "      <th></th>\n",
              "      <th>codigo_ocorrencia</th>\n",
              "      <th>codigo_ocorrencia2</th>\n",
              "      <th>ocorrencia_classificacao</th>\n",
              "      <th>ocorrencia_cidade</th>\n",
              "      <th>ocorrencia_uf</th>\n",
              "      <th>ocorrencia_aerodromo</th>\n",
              "      <th>ocorrencia_dia</th>\n",
              "      <th>ocorrencia_hora</th>\n",
              "      <th>total_recomendacoes</th>\n",
              "    </tr>\n",
              "  </thead>\n",
              "  <tbody>\n",
              "    <tr>\n",
              "      <th>0</th>\n",
              "      <td>40211</td>\n",
              "      <td>40211</td>\n",
              "      <td>INCIDENTE</td>\n",
              "      <td>RIO DE JANEIRO</td>\n",
              "      <td>RJ</td>\n",
              "      <td>&lt;NA&gt;</td>\n",
              "      <td>2010-01-03</td>\n",
              "      <td>12:00:00</td>\n",
              "      <td>0</td>\n",
              "    </tr>\n",
              "    <tr>\n",
              "      <th>1</th>\n",
              "      <td>40349</td>\n",
              "      <td>40349</td>\n",
              "      <td>INCIDENTE</td>\n",
              "      <td>BELÉM</td>\n",
              "      <td>PA</td>\n",
              "      <td>SBBE</td>\n",
              "      <td>2010-01-03</td>\n",
              "      <td>11:05:00</td>\n",
              "      <td>0</td>\n",
              "    </tr>\n",
              "    <tr>\n",
              "      <th>2</th>\n",
              "      <td>40351</td>\n",
              "      <td>40351</td>\n",
              "      <td>INCIDENTE</td>\n",
              "      <td>RIO DE JANEIRO</td>\n",
              "      <td>RJ</td>\n",
              "      <td>SBRJ</td>\n",
              "      <td>2010-01-03</td>\n",
              "      <td>03:00:00</td>\n",
              "      <td>0</td>\n",
              "    </tr>\n",
              "    <tr>\n",
              "      <th>3</th>\n",
              "      <td>39527</td>\n",
              "      <td>39527</td>\n",
              "      <td>ACIDENTE</td>\n",
              "      <td>LUCAS DO RIO VERDE</td>\n",
              "      <td>MT</td>\n",
              "      <td>&lt;NA&gt;</td>\n",
              "      <td>2010-01-04</td>\n",
              "      <td>17:30:00</td>\n",
              "      <td>0</td>\n",
              "    </tr>\n",
              "    <tr>\n",
              "      <th>4</th>\n",
              "      <td>40324</td>\n",
              "      <td>40324</td>\n",
              "      <td>INCIDENTE</td>\n",
              "      <td>PELOTAS</td>\n",
              "      <td>RS</td>\n",
              "      <td>SBPK</td>\n",
              "      <td>2010-01-05</td>\n",
              "      <td>19:25:00</td>\n",
              "      <td>0</td>\n",
              "    </tr>\n",
              "    <tr>\n",
              "      <th>...</th>\n",
              "      <td>...</td>\n",
              "      <td>...</td>\n",
              "      <td>...</td>\n",
              "      <td>...</td>\n",
              "      <td>...</td>\n",
              "      <td>...</td>\n",
              "      <td>...</td>\n",
              "      <td>...</td>\n",
              "      <td>...</td>\n",
              "    </tr>\n",
              "    <tr>\n",
              "      <th>5747</th>\n",
              "      <td>79804</td>\n",
              "      <td>79804</td>\n",
              "      <td>INCIDENTE</td>\n",
              "      <td>CAMPINAS</td>\n",
              "      <td>SP</td>\n",
              "      <td>SBKP</td>\n",
              "      <td>2020-12-29</td>\n",
              "      <td>19:00:00</td>\n",
              "      <td>0</td>\n",
              "    </tr>\n",
              "    <tr>\n",
              "      <th>5748</th>\n",
              "      <td>79757</td>\n",
              "      <td>79757</td>\n",
              "      <td>INCIDENTE GRAVE</td>\n",
              "      <td>LAGOA DA CONFUSÃO</td>\n",
              "      <td>TO</td>\n",
              "      <td>&lt;NA&gt;</td>\n",
              "      <td>2020-12-30</td>\n",
              "      <td>18:30:00</td>\n",
              "      <td>0</td>\n",
              "    </tr>\n",
              "    <tr>\n",
              "      <th>5749</th>\n",
              "      <td>79802</td>\n",
              "      <td>79802</td>\n",
              "      <td>INCIDENTE</td>\n",
              "      <td>RIO DE JANEIRO</td>\n",
              "      <td>RJ</td>\n",
              "      <td>SBGL</td>\n",
              "      <td>2020-12-30</td>\n",
              "      <td>00:54:00</td>\n",
              "      <td>0</td>\n",
              "    </tr>\n",
              "    <tr>\n",
              "      <th>5750</th>\n",
              "      <td>79756</td>\n",
              "      <td>79756</td>\n",
              "      <td>INCIDENTE GRAVE</td>\n",
              "      <td>VICENTINA</td>\n",
              "      <td>MS</td>\n",
              "      <td>&lt;NA&gt;</td>\n",
              "      <td>2020-12-31</td>\n",
              "      <td>09:00:00</td>\n",
              "      <td>0</td>\n",
              "    </tr>\n",
              "    <tr>\n",
              "      <th>5751</th>\n",
              "      <td>79844</td>\n",
              "      <td>79844</td>\n",
              "      <td>INCIDENTE</td>\n",
              "      <td>RIO DE JANEIRO</td>\n",
              "      <td>RJ</td>\n",
              "      <td>SBJR</td>\n",
              "      <td>2020-12-31</td>\n",
              "      <td>13:24:00</td>\n",
              "      <td>0</td>\n",
              "    </tr>\n",
              "  </tbody>\n",
              "</table>\n",
              "<p>5752 rows × 9 columns</p>\n",
              "</div>"
            ],
            "text/plain": [
              "      codigo_ocorrencia  ...  total_recomendacoes\n",
              "0                 40211  ...                    0\n",
              "1                 40349  ...                    0\n",
              "2                 40351  ...                    0\n",
              "3                 39527  ...                    0\n",
              "4                 40324  ...                    0\n",
              "...                 ...  ...                  ...\n",
              "5747              79804  ...                    0\n",
              "5748              79757  ...                    0\n",
              "5749              79802  ...                    0\n",
              "5750              79756  ...                    0\n",
              "5751              79844  ...                    0\n",
              "\n",
              "[5752 rows x 9 columns]"
            ]
          },
          "metadata": {},
          "execution_count": 13
        }
      ]
    },
    {
      "cell_type": "code",
      "metadata": {
        "colab": {
          "base_uri": "https://localhost:8080/"
        },
        "id": "6fb3tv0x4e9q",
        "outputId": "817c0f0f-84ce-407d-f4d6-0f5779753c8f"
      },
      "source": [
        "df.dtypes"
      ],
      "execution_count": 14,
      "outputs": [
        {
          "output_type": "execute_result",
          "data": {
            "text/plain": [
              "codigo_ocorrencia                    int64\n",
              "codigo_ocorrencia2                   int64\n",
              "ocorrencia_classificacao            object\n",
              "ocorrencia_cidade                   object\n",
              "ocorrencia_uf                       object\n",
              "ocorrencia_aerodromo                object\n",
              "ocorrencia_dia              datetime64[ns]\n",
              "ocorrencia_hora                     object\n",
              "total_recomendacoes                  int64\n",
              "dtype: object"
            ]
          },
          "metadata": {},
          "execution_count": 14
        }
      ]
    },
    {
      "cell_type": "markdown",
      "metadata": {
        "id": "roGcDOmnQTi7"
      },
      "source": [
        "**VALIDAÇÃO DE DADOS**"
      ]
    },
    {
      "cell_type": "code",
      "metadata": {
        "id": "Ep7gLRQuPywg"
      },
      "source": [
        "schema = pa.DataFrameSchema(\n",
        "    columns = {\n",
        "        \"codigo_ocorrencia\":pa.Column(pa.Int),\n",
        "        \"codigo_ocorrencia2\":pa.Column(pa.Int),\n",
        "        \"ocorrencia_classificacao\":pa.Column(pa.String),\n",
        "        \"ocorrencia_cidade\":pa.Column(pa.String),\n",
        "        \"ocorrencia_uf\":pa.Column(pa.String, pa.Check.str_length(2,2), nullable=True),\n",
        "        \"ocorrencia_aerodromo\":pa.Column(pa.String, pa.Check.str_length(4,4), nullable=True),\n",
        "        \"ocorrencia_dia\":pa.Column(pa.DateTime),\n",
        "        \"ocorrencia_hora\":pa.Column(pa.String, pa.Check.str_matches(r'^([0-1]?[0-9]|[2][0-3]):([0-5][0-9]):([0-5][0-9])?$'), nullable=True),\n",
        "        \"total_recomendacoes\":pa.Column(pa.Int)\n",
        "    }\n",
        ")"
      ],
      "execution_count": 15,
      "outputs": []
    },
    {
      "cell_type": "code",
      "metadata": {
        "id": "jbieHJ4YRrVw",
        "colab": {
          "base_uri": "https://localhost:8080/",
          "height": 476
        },
        "outputId": "34c227a6-bac3-4474-ab06-6b1cc9214fa2"
      },
      "source": [
        "schema.validate(df)"
      ],
      "execution_count": 16,
      "outputs": [
        {
          "output_type": "execute_result",
          "data": {
            "text/html": [
              "<div>\n",
              "<style scoped>\n",
              "    .dataframe tbody tr th:only-of-type {\n",
              "        vertical-align: middle;\n",
              "    }\n",
              "\n",
              "    .dataframe tbody tr th {\n",
              "        vertical-align: top;\n",
              "    }\n",
              "\n",
              "    .dataframe thead th {\n",
              "        text-align: right;\n",
              "    }\n",
              "</style>\n",
              "<table border=\"1\" class=\"dataframe\">\n",
              "  <thead>\n",
              "    <tr style=\"text-align: right;\">\n",
              "      <th></th>\n",
              "      <th>codigo_ocorrencia</th>\n",
              "      <th>codigo_ocorrencia2</th>\n",
              "      <th>ocorrencia_classificacao</th>\n",
              "      <th>ocorrencia_cidade</th>\n",
              "      <th>ocorrencia_uf</th>\n",
              "      <th>ocorrencia_aerodromo</th>\n",
              "      <th>ocorrencia_dia</th>\n",
              "      <th>ocorrencia_hora</th>\n",
              "      <th>total_recomendacoes</th>\n",
              "    </tr>\n",
              "  </thead>\n",
              "  <tbody>\n",
              "    <tr>\n",
              "      <th>0</th>\n",
              "      <td>40211</td>\n",
              "      <td>40211</td>\n",
              "      <td>INCIDENTE</td>\n",
              "      <td>RIO DE JANEIRO</td>\n",
              "      <td>RJ</td>\n",
              "      <td>&lt;NA&gt;</td>\n",
              "      <td>2010-01-03</td>\n",
              "      <td>12:00:00</td>\n",
              "      <td>0</td>\n",
              "    </tr>\n",
              "    <tr>\n",
              "      <th>1</th>\n",
              "      <td>40349</td>\n",
              "      <td>40349</td>\n",
              "      <td>INCIDENTE</td>\n",
              "      <td>BELÉM</td>\n",
              "      <td>PA</td>\n",
              "      <td>SBBE</td>\n",
              "      <td>2010-01-03</td>\n",
              "      <td>11:05:00</td>\n",
              "      <td>0</td>\n",
              "    </tr>\n",
              "    <tr>\n",
              "      <th>2</th>\n",
              "      <td>40351</td>\n",
              "      <td>40351</td>\n",
              "      <td>INCIDENTE</td>\n",
              "      <td>RIO DE JANEIRO</td>\n",
              "      <td>RJ</td>\n",
              "      <td>SBRJ</td>\n",
              "      <td>2010-01-03</td>\n",
              "      <td>03:00:00</td>\n",
              "      <td>0</td>\n",
              "    </tr>\n",
              "    <tr>\n",
              "      <th>3</th>\n",
              "      <td>39527</td>\n",
              "      <td>39527</td>\n",
              "      <td>ACIDENTE</td>\n",
              "      <td>LUCAS DO RIO VERDE</td>\n",
              "      <td>MT</td>\n",
              "      <td>&lt;NA&gt;</td>\n",
              "      <td>2010-01-04</td>\n",
              "      <td>17:30:00</td>\n",
              "      <td>0</td>\n",
              "    </tr>\n",
              "    <tr>\n",
              "      <th>4</th>\n",
              "      <td>40324</td>\n",
              "      <td>40324</td>\n",
              "      <td>INCIDENTE</td>\n",
              "      <td>PELOTAS</td>\n",
              "      <td>RS</td>\n",
              "      <td>SBPK</td>\n",
              "      <td>2010-01-05</td>\n",
              "      <td>19:25:00</td>\n",
              "      <td>0</td>\n",
              "    </tr>\n",
              "    <tr>\n",
              "      <th>...</th>\n",
              "      <td>...</td>\n",
              "      <td>...</td>\n",
              "      <td>...</td>\n",
              "      <td>...</td>\n",
              "      <td>...</td>\n",
              "      <td>...</td>\n",
              "      <td>...</td>\n",
              "      <td>...</td>\n",
              "      <td>...</td>\n",
              "    </tr>\n",
              "    <tr>\n",
              "      <th>5747</th>\n",
              "      <td>79804</td>\n",
              "      <td>79804</td>\n",
              "      <td>INCIDENTE</td>\n",
              "      <td>CAMPINAS</td>\n",
              "      <td>SP</td>\n",
              "      <td>SBKP</td>\n",
              "      <td>2020-12-29</td>\n",
              "      <td>19:00:00</td>\n",
              "      <td>0</td>\n",
              "    </tr>\n",
              "    <tr>\n",
              "      <th>5748</th>\n",
              "      <td>79757</td>\n",
              "      <td>79757</td>\n",
              "      <td>INCIDENTE GRAVE</td>\n",
              "      <td>LAGOA DA CONFUSÃO</td>\n",
              "      <td>TO</td>\n",
              "      <td>&lt;NA&gt;</td>\n",
              "      <td>2020-12-30</td>\n",
              "      <td>18:30:00</td>\n",
              "      <td>0</td>\n",
              "    </tr>\n",
              "    <tr>\n",
              "      <th>5749</th>\n",
              "      <td>79802</td>\n",
              "      <td>79802</td>\n",
              "      <td>INCIDENTE</td>\n",
              "      <td>RIO DE JANEIRO</td>\n",
              "      <td>RJ</td>\n",
              "      <td>SBGL</td>\n",
              "      <td>2020-12-30</td>\n",
              "      <td>00:54:00</td>\n",
              "      <td>0</td>\n",
              "    </tr>\n",
              "    <tr>\n",
              "      <th>5750</th>\n",
              "      <td>79756</td>\n",
              "      <td>79756</td>\n",
              "      <td>INCIDENTE GRAVE</td>\n",
              "      <td>VICENTINA</td>\n",
              "      <td>MS</td>\n",
              "      <td>&lt;NA&gt;</td>\n",
              "      <td>2020-12-31</td>\n",
              "      <td>09:00:00</td>\n",
              "      <td>0</td>\n",
              "    </tr>\n",
              "    <tr>\n",
              "      <th>5751</th>\n",
              "      <td>79844</td>\n",
              "      <td>79844</td>\n",
              "      <td>INCIDENTE</td>\n",
              "      <td>RIO DE JANEIRO</td>\n",
              "      <td>RJ</td>\n",
              "      <td>SBJR</td>\n",
              "      <td>2020-12-31</td>\n",
              "      <td>13:24:00</td>\n",
              "      <td>0</td>\n",
              "    </tr>\n",
              "  </tbody>\n",
              "</table>\n",
              "<p>5752 rows × 9 columns</p>\n",
              "</div>"
            ],
            "text/plain": [
              "      codigo_ocorrencia  ...  total_recomendacoes\n",
              "0                 40211  ...                    0\n",
              "1                 40349  ...                    0\n",
              "2                 40351  ...                    0\n",
              "3                 39527  ...                    0\n",
              "4                 40324  ...                    0\n",
              "...                 ...  ...                  ...\n",
              "5747              79804  ...                    0\n",
              "5748              79757  ...                    0\n",
              "5749              79802  ...                    0\n",
              "5750              79756  ...                    0\n",
              "5751              79844  ...                    0\n",
              "\n",
              "[5752 rows x 9 columns]"
            ]
          },
          "metadata": {},
          "execution_count": 16
        }
      ]
    },
    {
      "cell_type": "markdown",
      "metadata": {
        "id": "R0T_LwIerXUm"
      },
      "source": [
        "**FILTROS**"
      ]
    },
    {
      "cell_type": "code",
      "metadata": {
        "colab": {
          "base_uri": "https://localhost:8080/"
        },
        "id": "pIJRqFtMRtqV",
        "outputId": "b5134231-35f7-440a-a137-c405595df52f"
      },
      "source": [
        "df.isnull().sum()"
      ],
      "execution_count": 17,
      "outputs": [
        {
          "output_type": "execute_result",
          "data": {
            "text/plain": [
              "codigo_ocorrencia              0\n",
              "codigo_ocorrencia2             0\n",
              "ocorrencia_classificacao       0\n",
              "ocorrencia_cidade              0\n",
              "ocorrencia_uf                  1\n",
              "ocorrencia_aerodromo        2349\n",
              "ocorrencia_dia                 0\n",
              "ocorrencia_hora                1\n",
              "total_recomendacoes            0\n",
              "dtype: int64"
            ]
          },
          "metadata": {},
          "execution_count": 17
        }
      ]
    },
    {
      "cell_type": "code",
      "metadata": {
        "id": "wwTx1ac8rbmG"
      },
      "source": [
        "filter = df['ocorrencia_uf'].isnull()"
      ],
      "execution_count": 18,
      "outputs": []
    },
    {
      "cell_type": "code",
      "metadata": {
        "colab": {
          "base_uri": "https://localhost:8080/",
          "height": 118
        },
        "id": "5E1yBuIwr22i",
        "outputId": "afdb4bb4-a422-4ff5-cd3e-11595471283b"
      },
      "source": [
        "df.loc[filter]"
      ],
      "execution_count": 19,
      "outputs": [
        {
          "output_type": "execute_result",
          "data": {
            "text/html": [
              "<div>\n",
              "<style scoped>\n",
              "    .dataframe tbody tr th:only-of-type {\n",
              "        vertical-align: middle;\n",
              "    }\n",
              "\n",
              "    .dataframe tbody tr th {\n",
              "        vertical-align: top;\n",
              "    }\n",
              "\n",
              "    .dataframe thead th {\n",
              "        text-align: right;\n",
              "    }\n",
              "</style>\n",
              "<table border=\"1\" class=\"dataframe\">\n",
              "  <thead>\n",
              "    <tr style=\"text-align: right;\">\n",
              "      <th></th>\n",
              "      <th>codigo_ocorrencia</th>\n",
              "      <th>codigo_ocorrencia2</th>\n",
              "      <th>ocorrencia_classificacao</th>\n",
              "      <th>ocorrencia_cidade</th>\n",
              "      <th>ocorrencia_uf</th>\n",
              "      <th>ocorrencia_aerodromo</th>\n",
              "      <th>ocorrencia_dia</th>\n",
              "      <th>ocorrencia_hora</th>\n",
              "      <th>total_recomendacoes</th>\n",
              "    </tr>\n",
              "  </thead>\n",
              "  <tbody>\n",
              "    <tr>\n",
              "      <th>2227</th>\n",
              "      <td>49474</td>\n",
              "      <td>49474</td>\n",
              "      <td>ACIDENTE</td>\n",
              "      <td>ÁGUAS INTERNACIONAIS</td>\n",
              "      <td>&lt;NA&gt;</td>\n",
              "      <td>&lt;NA&gt;</td>\n",
              "      <td>2013-09-02</td>\n",
              "      <td>02:54:00</td>\n",
              "      <td>0</td>\n",
              "    </tr>\n",
              "  </tbody>\n",
              "</table>\n",
              "</div>"
            ],
            "text/plain": [
              "      codigo_ocorrencia  ...  total_recomendacoes\n",
              "2227              49474  ...                    0\n",
              "\n",
              "[1 rows x 9 columns]"
            ]
          },
          "metadata": {},
          "execution_count": 19
        }
      ]
    },
    {
      "cell_type": "code",
      "metadata": {
        "colab": {
          "base_uri": "https://localhost:8080/"
        },
        "id": "PwbI4XHQr59s",
        "outputId": "db6079fd-966a-4947-fda5-981dfe4fe1ff"
      },
      "source": [
        "df.count()"
      ],
      "execution_count": 20,
      "outputs": [
        {
          "output_type": "execute_result",
          "data": {
            "text/plain": [
              "codigo_ocorrencia           5752\n",
              "codigo_ocorrencia2          5752\n",
              "ocorrencia_classificacao    5752\n",
              "ocorrencia_cidade           5752\n",
              "ocorrencia_uf               5751\n",
              "ocorrencia_aerodromo        3403\n",
              "ocorrencia_dia              5752\n",
              "ocorrencia_hora             5751\n",
              "total_recomendacoes         5752\n",
              "dtype: int64"
            ]
          },
          "metadata": {},
          "execution_count": 20
        }
      ]
    },
    {
      "cell_type": "code",
      "metadata": {
        "id": "OWzAdqA9v-c2",
        "colab": {
          "base_uri": "https://localhost:8080/",
          "height": 225
        },
        "outputId": "5656aceb-efe6-48c4-a3b1-9eebcc37b4be"
      },
      "source": [
        "filter1 = df['total_recomendacoes'] > 11\n",
        "df.loc[filter1]"
      ],
      "execution_count": 21,
      "outputs": [
        {
          "output_type": "execute_result",
          "data": {
            "text/html": [
              "<div>\n",
              "<style scoped>\n",
              "    .dataframe tbody tr th:only-of-type {\n",
              "        vertical-align: middle;\n",
              "    }\n",
              "\n",
              "    .dataframe tbody tr th {\n",
              "        vertical-align: top;\n",
              "    }\n",
              "\n",
              "    .dataframe thead th {\n",
              "        text-align: right;\n",
              "    }\n",
              "</style>\n",
              "<table border=\"1\" class=\"dataframe\">\n",
              "  <thead>\n",
              "    <tr style=\"text-align: right;\">\n",
              "      <th></th>\n",
              "      <th>codigo_ocorrencia</th>\n",
              "      <th>codigo_ocorrencia2</th>\n",
              "      <th>ocorrencia_classificacao</th>\n",
              "      <th>ocorrencia_cidade</th>\n",
              "      <th>ocorrencia_uf</th>\n",
              "      <th>ocorrencia_aerodromo</th>\n",
              "      <th>ocorrencia_dia</th>\n",
              "      <th>ocorrencia_hora</th>\n",
              "      <th>total_recomendacoes</th>\n",
              "    </tr>\n",
              "  </thead>\n",
              "  <tbody>\n",
              "    <tr>\n",
              "      <th>326</th>\n",
              "      <td>42250</td>\n",
              "      <td>42250</td>\n",
              "      <td>ACIDENTE</td>\n",
              "      <td>RIO DE JANEIRO</td>\n",
              "      <td>RJ</td>\n",
              "      <td>SBRJ</td>\n",
              "      <td>2010-08-12</td>\n",
              "      <td>12:26:00</td>\n",
              "      <td>19</td>\n",
              "    </tr>\n",
              "    <tr>\n",
              "      <th>872</th>\n",
              "      <td>44796</td>\n",
              "      <td>44796</td>\n",
              "      <td>ACIDENTE</td>\n",
              "      <td>RECIFE</td>\n",
              "      <td>PE</td>\n",
              "      <td>SBRF</td>\n",
              "      <td>2011-07-13</td>\n",
              "      <td>09:54:00</td>\n",
              "      <td>23</td>\n",
              "    </tr>\n",
              "    <tr>\n",
              "      <th>1062</th>\n",
              "      <td>45554</td>\n",
              "      <td>45554</td>\n",
              "      <td>INCIDENTE GRAVE</td>\n",
              "      <td>UBERLÂNDIA</td>\n",
              "      <td>MG</td>\n",
              "      <td>SBUL</td>\n",
              "      <td>2011-11-15</td>\n",
              "      <td>02:15:00</td>\n",
              "      <td>20</td>\n",
              "    </tr>\n",
              "    <tr>\n",
              "      <th>2795</th>\n",
              "      <td>52265</td>\n",
              "      <td>52265</td>\n",
              "      <td>ACIDENTE</td>\n",
              "      <td>SANTOS</td>\n",
              "      <td>SP</td>\n",
              "      <td>&lt;NA&gt;</td>\n",
              "      <td>2014-08-13</td>\n",
              "      <td>13:03:00</td>\n",
              "      <td>13</td>\n",
              "    </tr>\n",
              "    <tr>\n",
              "      <th>3930</th>\n",
              "      <td>66432</td>\n",
              "      <td>66432</td>\n",
              "      <td>INCIDENTE GRAVE</td>\n",
              "      <td>VITÓRIA</td>\n",
              "      <td>ES</td>\n",
              "      <td>&lt;NA&gt;</td>\n",
              "      <td>2017-02-21</td>\n",
              "      <td>11:47:00</td>\n",
              "      <td>12</td>\n",
              "    </tr>\n",
              "  </tbody>\n",
              "</table>\n",
              "</div>"
            ],
            "text/plain": [
              "      codigo_ocorrencia  ...  total_recomendacoes\n",
              "326               42250  ...                   19\n",
              "872               44796  ...                   23\n",
              "1062              45554  ...                   20\n",
              "2795              52265  ...                   13\n",
              "3930              66432  ...                   12\n",
              "\n",
              "[5 rows x 9 columns]"
            ]
          },
          "metadata": {},
          "execution_count": 21
        }
      ]
    },
    {
      "cell_type": "code",
      "metadata": {
        "id": "6frQAXCxwwJh",
        "colab": {
          "base_uri": "https://localhost:8080/",
          "height": 205
        },
        "outputId": "da130db1-1218-44a0-f8dd-e720bee254f3"
      },
      "source": [
        "df.loc[filter1, ['ocorrencia_cidade', 'ocorrencia_dia', 'total_recomendacoes']]"
      ],
      "execution_count": 22,
      "outputs": [
        {
          "output_type": "execute_result",
          "data": {
            "text/html": [
              "<div>\n",
              "<style scoped>\n",
              "    .dataframe tbody tr th:only-of-type {\n",
              "        vertical-align: middle;\n",
              "    }\n",
              "\n",
              "    .dataframe tbody tr th {\n",
              "        vertical-align: top;\n",
              "    }\n",
              "\n",
              "    .dataframe thead th {\n",
              "        text-align: right;\n",
              "    }\n",
              "</style>\n",
              "<table border=\"1\" class=\"dataframe\">\n",
              "  <thead>\n",
              "    <tr style=\"text-align: right;\">\n",
              "      <th></th>\n",
              "      <th>ocorrencia_cidade</th>\n",
              "      <th>ocorrencia_dia</th>\n",
              "      <th>total_recomendacoes</th>\n",
              "    </tr>\n",
              "  </thead>\n",
              "  <tbody>\n",
              "    <tr>\n",
              "      <th>326</th>\n",
              "      <td>RIO DE JANEIRO</td>\n",
              "      <td>2010-08-12</td>\n",
              "      <td>19</td>\n",
              "    </tr>\n",
              "    <tr>\n",
              "      <th>872</th>\n",
              "      <td>RECIFE</td>\n",
              "      <td>2011-07-13</td>\n",
              "      <td>23</td>\n",
              "    </tr>\n",
              "    <tr>\n",
              "      <th>1062</th>\n",
              "      <td>UBERLÂNDIA</td>\n",
              "      <td>2011-11-15</td>\n",
              "      <td>20</td>\n",
              "    </tr>\n",
              "    <tr>\n",
              "      <th>2795</th>\n",
              "      <td>SANTOS</td>\n",
              "      <td>2014-08-13</td>\n",
              "      <td>13</td>\n",
              "    </tr>\n",
              "    <tr>\n",
              "      <th>3930</th>\n",
              "      <td>VITÓRIA</td>\n",
              "      <td>2017-02-21</td>\n",
              "      <td>12</td>\n",
              "    </tr>\n",
              "  </tbody>\n",
              "</table>\n",
              "</div>"
            ],
            "text/plain": [
              "     ocorrencia_cidade ocorrencia_dia  total_recomendacoes\n",
              "326     RIO DE JANEIRO     2010-08-12                   19\n",
              "872             RECIFE     2011-07-13                   23\n",
              "1062        UBERLÂNDIA     2011-11-15                   20\n",
              "2795            SANTOS     2014-08-13                   13\n",
              "3930           VITÓRIA     2017-02-21                   12"
            ]
          },
          "metadata": {},
          "execution_count": 22
        }
      ]
    },
    {
      "cell_type": "code",
      "metadata": {
        "id": "HHxjm7Sxwx-Q"
      },
      "source": [
        "filter2 = df['ocorrencia_classificacao'] == 'ACIDENTE'\n",
        "filter3 = df['ocorrencia_uf'] == 'RJ'"
      ],
      "execution_count": 23,
      "outputs": []
    },
    {
      "cell_type": "code",
      "metadata": {
        "id": "1rm3iqT2zJPV",
        "colab": {
          "base_uri": "https://localhost:8080/",
          "height": 459
        },
        "outputId": "6cf22158-f282-42be-acc5-055c94f7986c"
      },
      "source": [
        "df.loc[filter2 & filter3]"
      ],
      "execution_count": 24,
      "outputs": [
        {
          "output_type": "execute_result",
          "data": {
            "text/html": [
              "<div>\n",
              "<style scoped>\n",
              "    .dataframe tbody tr th:only-of-type {\n",
              "        vertical-align: middle;\n",
              "    }\n",
              "\n",
              "    .dataframe tbody tr th {\n",
              "        vertical-align: top;\n",
              "    }\n",
              "\n",
              "    .dataframe thead th {\n",
              "        text-align: right;\n",
              "    }\n",
              "</style>\n",
              "<table border=\"1\" class=\"dataframe\">\n",
              "  <thead>\n",
              "    <tr style=\"text-align: right;\">\n",
              "      <th></th>\n",
              "      <th>codigo_ocorrencia</th>\n",
              "      <th>codigo_ocorrencia2</th>\n",
              "      <th>ocorrencia_classificacao</th>\n",
              "      <th>ocorrencia_cidade</th>\n",
              "      <th>ocorrencia_uf</th>\n",
              "      <th>ocorrencia_aerodromo</th>\n",
              "      <th>ocorrencia_dia</th>\n",
              "      <th>ocorrencia_hora</th>\n",
              "      <th>total_recomendacoes</th>\n",
              "    </tr>\n",
              "  </thead>\n",
              "  <tbody>\n",
              "    <tr>\n",
              "      <th>31</th>\n",
              "      <td>39323</td>\n",
              "      <td>39323</td>\n",
              "      <td>ACIDENTE</td>\n",
              "      <td>CASIMIRO DE ABREU</td>\n",
              "      <td>RJ</td>\n",
              "      <td>&lt;NA&gt;</td>\n",
              "      <td>2010-01-24</td>\n",
              "      <td>16:15:00</td>\n",
              "      <td>0</td>\n",
              "    </tr>\n",
              "    <tr>\n",
              "      <th>49</th>\n",
              "      <td>39295</td>\n",
              "      <td>39295</td>\n",
              "      <td>ACIDENTE</td>\n",
              "      <td>RIO DE JANEIRO</td>\n",
              "      <td>RJ</td>\n",
              "      <td>&lt;NA&gt;</td>\n",
              "      <td>2010-02-06</td>\n",
              "      <td>21:09:00</td>\n",
              "      <td>0</td>\n",
              "    </tr>\n",
              "    <tr>\n",
              "      <th>149</th>\n",
              "      <td>40447</td>\n",
              "      <td>40447</td>\n",
              "      <td>ACIDENTE</td>\n",
              "      <td>MANGARATIBA</td>\n",
              "      <td>RJ</td>\n",
              "      <td>&lt;NA&gt;</td>\n",
              "      <td>2010-04-21</td>\n",
              "      <td>18:55:00</td>\n",
              "      <td>0</td>\n",
              "    </tr>\n",
              "    <tr>\n",
              "      <th>155</th>\n",
              "      <td>40554</td>\n",
              "      <td>40554</td>\n",
              "      <td>ACIDENTE</td>\n",
              "      <td>RESENDE</td>\n",
              "      <td>RJ</td>\n",
              "      <td>&lt;NA&gt;</td>\n",
              "      <td>2010-04-27</td>\n",
              "      <td>18:47:00</td>\n",
              "      <td>8</td>\n",
              "    </tr>\n",
              "    <tr>\n",
              "      <th>248</th>\n",
              "      <td>41729</td>\n",
              "      <td>41729</td>\n",
              "      <td>ACIDENTE</td>\n",
              "      <td>RIO DE JANEIRO</td>\n",
              "      <td>RJ</td>\n",
              "      <td>&lt;NA&gt;</td>\n",
              "      <td>2010-06-25</td>\n",
              "      <td>13:05:00</td>\n",
              "      <td>0</td>\n",
              "    </tr>\n",
              "    <tr>\n",
              "      <th>...</th>\n",
              "      <td>...</td>\n",
              "      <td>...</td>\n",
              "      <td>...</td>\n",
              "      <td>...</td>\n",
              "      <td>...</td>\n",
              "      <td>...</td>\n",
              "      <td>...</td>\n",
              "      <td>...</td>\n",
              "      <td>...</td>\n",
              "    </tr>\n",
              "    <tr>\n",
              "      <th>4966</th>\n",
              "      <td>78744</td>\n",
              "      <td>78744</td>\n",
              "      <td>ACIDENTE</td>\n",
              "      <td>ITABORAÍ</td>\n",
              "      <td>RJ</td>\n",
              "      <td>&lt;NA&gt;</td>\n",
              "      <td>2019-06-22</td>\n",
              "      <td>12:45:00</td>\n",
              "      <td>0</td>\n",
              "    </tr>\n",
              "    <tr>\n",
              "      <th>5411</th>\n",
              "      <td>79309</td>\n",
              "      <td>79309</td>\n",
              "      <td>ACIDENTE</td>\n",
              "      <td>RIO DE JANEIRO</td>\n",
              "      <td>RJ</td>\n",
              "      <td>&lt;NA&gt;</td>\n",
              "      <td>2020-04-17</td>\n",
              "      <td>14:30:00</td>\n",
              "      <td>0</td>\n",
              "    </tr>\n",
              "    <tr>\n",
              "      <th>5503</th>\n",
              "      <td>79430</td>\n",
              "      <td>79430</td>\n",
              "      <td>ACIDENTE</td>\n",
              "      <td>RIO DE JANEIRO</td>\n",
              "      <td>RJ</td>\n",
              "      <td>&lt;NA&gt;</td>\n",
              "      <td>2020-07-06</td>\n",
              "      <td>17:40:00</td>\n",
              "      <td>0</td>\n",
              "    </tr>\n",
              "    <tr>\n",
              "      <th>5636</th>\n",
              "      <td>79621</td>\n",
              "      <td>79621</td>\n",
              "      <td>ACIDENTE</td>\n",
              "      <td>RIO CLARO</td>\n",
              "      <td>RJ</td>\n",
              "      <td>&lt;NA&gt;</td>\n",
              "      <td>2020-10-15</td>\n",
              "      <td>11:00:00</td>\n",
              "      <td>0</td>\n",
              "    </tr>\n",
              "    <tr>\n",
              "      <th>5716</th>\n",
              "      <td>79724</td>\n",
              "      <td>79724</td>\n",
              "      <td>ACIDENTE</td>\n",
              "      <td>ANGRA DOS REIS</td>\n",
              "      <td>RJ</td>\n",
              "      <td>&lt;NA&gt;</td>\n",
              "      <td>2020-12-11</td>\n",
              "      <td>21:15:00</td>\n",
              "      <td>0</td>\n",
              "    </tr>\n",
              "  </tbody>\n",
              "</table>\n",
              "<p>74 rows × 9 columns</p>\n",
              "</div>"
            ],
            "text/plain": [
              "      codigo_ocorrencia  ...  total_recomendacoes\n",
              "31                39323  ...                    0\n",
              "49                39295  ...                    0\n",
              "149               40447  ...                    0\n",
              "155               40554  ...                    8\n",
              "248               41729  ...                    0\n",
              "...                 ...  ...                  ...\n",
              "4966              78744  ...                    0\n",
              "5411              79309  ...                    0\n",
              "5503              79430  ...                    0\n",
              "5636              79621  ...                    0\n",
              "5716              79724  ...                    0\n",
              "\n",
              "[74 rows x 9 columns]"
            ]
          },
          "metadata": {},
          "execution_count": 24
        }
      ]
    },
    {
      "cell_type": "code",
      "metadata": {
        "id": "AtFf2EdMzW0Q",
        "colab": {
          "base_uri": "https://localhost:8080/",
          "height": 494
        },
        "outputId": "4a4c3380-2278-4c5b-e7c7-8fa8db4fb945"
      },
      "source": [
        "df.loc[filter2 | filter3]"
      ],
      "execution_count": 25,
      "outputs": [
        {
          "output_type": "execute_result",
          "data": {
            "text/html": [
              "<div>\n",
              "<style scoped>\n",
              "    .dataframe tbody tr th:only-of-type {\n",
              "        vertical-align: middle;\n",
              "    }\n",
              "\n",
              "    .dataframe tbody tr th {\n",
              "        vertical-align: top;\n",
              "    }\n",
              "\n",
              "    .dataframe thead th {\n",
              "        text-align: right;\n",
              "    }\n",
              "</style>\n",
              "<table border=\"1\" class=\"dataframe\">\n",
              "  <thead>\n",
              "    <tr style=\"text-align: right;\">\n",
              "      <th></th>\n",
              "      <th>codigo_ocorrencia</th>\n",
              "      <th>codigo_ocorrencia2</th>\n",
              "      <th>ocorrencia_classificacao</th>\n",
              "      <th>ocorrencia_cidade</th>\n",
              "      <th>ocorrencia_uf</th>\n",
              "      <th>ocorrencia_aerodromo</th>\n",
              "      <th>ocorrencia_dia</th>\n",
              "      <th>ocorrencia_hora</th>\n",
              "      <th>total_recomendacoes</th>\n",
              "    </tr>\n",
              "  </thead>\n",
              "  <tbody>\n",
              "    <tr>\n",
              "      <th>0</th>\n",
              "      <td>40211</td>\n",
              "      <td>40211</td>\n",
              "      <td>INCIDENTE</td>\n",
              "      <td>RIO DE JANEIRO</td>\n",
              "      <td>RJ</td>\n",
              "      <td>&lt;NA&gt;</td>\n",
              "      <td>2010-01-03</td>\n",
              "      <td>12:00:00</td>\n",
              "      <td>0</td>\n",
              "    </tr>\n",
              "    <tr>\n",
              "      <th>2</th>\n",
              "      <td>40351</td>\n",
              "      <td>40351</td>\n",
              "      <td>INCIDENTE</td>\n",
              "      <td>RIO DE JANEIRO</td>\n",
              "      <td>RJ</td>\n",
              "      <td>SBRJ</td>\n",
              "      <td>2010-01-03</td>\n",
              "      <td>03:00:00</td>\n",
              "      <td>0</td>\n",
              "    </tr>\n",
              "    <tr>\n",
              "      <th>3</th>\n",
              "      <td>39527</td>\n",
              "      <td>39527</td>\n",
              "      <td>ACIDENTE</td>\n",
              "      <td>LUCAS DO RIO VERDE</td>\n",
              "      <td>MT</td>\n",
              "      <td>&lt;NA&gt;</td>\n",
              "      <td>2010-01-04</td>\n",
              "      <td>17:30:00</td>\n",
              "      <td>0</td>\n",
              "    </tr>\n",
              "    <tr>\n",
              "      <th>11</th>\n",
              "      <td>40069</td>\n",
              "      <td>40069</td>\n",
              "      <td>ACIDENTE</td>\n",
              "      <td>SÃO PAULO</td>\n",
              "      <td>SP</td>\n",
              "      <td>SBMT</td>\n",
              "      <td>2010-01-10</td>\n",
              "      <td>14:50:00</td>\n",
              "      <td>8</td>\n",
              "    </tr>\n",
              "    <tr>\n",
              "      <th>13</th>\n",
              "      <td>39507</td>\n",
              "      <td>39507</td>\n",
              "      <td>ACIDENTE</td>\n",
              "      <td>PRIMAVERA DO LESTE</td>\n",
              "      <td>MT</td>\n",
              "      <td>&lt;NA&gt;</td>\n",
              "      <td>2010-01-11</td>\n",
              "      <td>17:00:00</td>\n",
              "      <td>2</td>\n",
              "    </tr>\n",
              "    <tr>\n",
              "      <th>...</th>\n",
              "      <td>...</td>\n",
              "      <td>...</td>\n",
              "      <td>...</td>\n",
              "      <td>...</td>\n",
              "      <td>...</td>\n",
              "      <td>...</td>\n",
              "      <td>...</td>\n",
              "      <td>...</td>\n",
              "      <td>...</td>\n",
              "    </tr>\n",
              "    <tr>\n",
              "      <th>5740</th>\n",
              "      <td>79751</td>\n",
              "      <td>79751</td>\n",
              "      <td>ACIDENTE</td>\n",
              "      <td>PRESIDENTE CASTELO BRANCO</td>\n",
              "      <td>PR</td>\n",
              "      <td>SSXO</td>\n",
              "      <td>2020-12-27</td>\n",
              "      <td>12:30:00</td>\n",
              "      <td>0</td>\n",
              "    </tr>\n",
              "    <tr>\n",
              "      <th>5743</th>\n",
              "      <td>79824</td>\n",
              "      <td>79824</td>\n",
              "      <td>ACIDENTE</td>\n",
              "      <td>RIO PARANAÍBA</td>\n",
              "      <td>MG</td>\n",
              "      <td>SNRP</td>\n",
              "      <td>2020-12-28</td>\n",
              "      <td>17:00:00</td>\n",
              "      <td>0</td>\n",
              "    </tr>\n",
              "    <tr>\n",
              "      <th>5745</th>\n",
              "      <td>79755</td>\n",
              "      <td>79755</td>\n",
              "      <td>ACIDENTE</td>\n",
              "      <td>MATO RICO</td>\n",
              "      <td>PR</td>\n",
              "      <td>&lt;NA&gt;</td>\n",
              "      <td>2020-12-29</td>\n",
              "      <td>10:30:00</td>\n",
              "      <td>0</td>\n",
              "    </tr>\n",
              "    <tr>\n",
              "      <th>5749</th>\n",
              "      <td>79802</td>\n",
              "      <td>79802</td>\n",
              "      <td>INCIDENTE</td>\n",
              "      <td>RIO DE JANEIRO</td>\n",
              "      <td>RJ</td>\n",
              "      <td>SBGL</td>\n",
              "      <td>2020-12-30</td>\n",
              "      <td>00:54:00</td>\n",
              "      <td>0</td>\n",
              "    </tr>\n",
              "    <tr>\n",
              "      <th>5751</th>\n",
              "      <td>79844</td>\n",
              "      <td>79844</td>\n",
              "      <td>INCIDENTE</td>\n",
              "      <td>RIO DE JANEIRO</td>\n",
              "      <td>RJ</td>\n",
              "      <td>SBJR</td>\n",
              "      <td>2020-12-31</td>\n",
              "      <td>13:24:00</td>\n",
              "      <td>0</td>\n",
              "    </tr>\n",
              "  </tbody>\n",
              "</table>\n",
              "<p>2286 rows × 9 columns</p>\n",
              "</div>"
            ],
            "text/plain": [
              "      codigo_ocorrencia  ...  total_recomendacoes\n",
              "0                 40211  ...                    0\n",
              "2                 40351  ...                    0\n",
              "3                 39527  ...                    0\n",
              "11                40069  ...                    8\n",
              "13                39507  ...                    2\n",
              "...                 ...  ...                  ...\n",
              "5740              79751  ...                    0\n",
              "5743              79824  ...                    0\n",
              "5745              79755  ...                    0\n",
              "5749              79802  ...                    0\n",
              "5751              79844  ...                    0\n",
              "\n",
              "[2286 rows x 9 columns]"
            ]
          },
          "metadata": {},
          "execution_count": 25
        }
      ]
    },
    {
      "cell_type": "code",
      "metadata": {
        "id": "NTb1lkYg0m6f"
      },
      "source": [
        "filter4 = df['ocorrencia_classificacao'].isin(['ACIDENTE', 'INCIDENTE'])\n",
        "filter5 = df['ocorrencia_uf'] == 'SP'"
      ],
      "execution_count": 26,
      "outputs": []
    },
    {
      "cell_type": "code",
      "metadata": {
        "id": "3jbN1MkP4Q2a",
        "colab": {
          "base_uri": "https://localhost:8080/",
          "height": 442
        },
        "outputId": "6e6582b3-779c-4983-aa71-131766900801"
      },
      "source": [
        "df.loc[filter4 & filter5]"
      ],
      "execution_count": 27,
      "outputs": [
        {
          "output_type": "execute_result",
          "data": {
            "text/html": [
              "<div>\n",
              "<style scoped>\n",
              "    .dataframe tbody tr th:only-of-type {\n",
              "        vertical-align: middle;\n",
              "    }\n",
              "\n",
              "    .dataframe tbody tr th {\n",
              "        vertical-align: top;\n",
              "    }\n",
              "\n",
              "    .dataframe thead th {\n",
              "        text-align: right;\n",
              "    }\n",
              "</style>\n",
              "<table border=\"1\" class=\"dataframe\">\n",
              "  <thead>\n",
              "    <tr style=\"text-align: right;\">\n",
              "      <th></th>\n",
              "      <th>codigo_ocorrencia</th>\n",
              "      <th>codigo_ocorrencia2</th>\n",
              "      <th>ocorrencia_classificacao</th>\n",
              "      <th>ocorrencia_cidade</th>\n",
              "      <th>ocorrencia_uf</th>\n",
              "      <th>ocorrencia_aerodromo</th>\n",
              "      <th>ocorrencia_dia</th>\n",
              "      <th>ocorrencia_hora</th>\n",
              "      <th>total_recomendacoes</th>\n",
              "    </tr>\n",
              "  </thead>\n",
              "  <tbody>\n",
              "    <tr>\n",
              "      <th>11</th>\n",
              "      <td>40069</td>\n",
              "      <td>40069</td>\n",
              "      <td>ACIDENTE</td>\n",
              "      <td>SÃO PAULO</td>\n",
              "      <td>SP</td>\n",
              "      <td>SBMT</td>\n",
              "      <td>2010-01-10</td>\n",
              "      <td>14:50:00</td>\n",
              "      <td>8</td>\n",
              "    </tr>\n",
              "    <tr>\n",
              "      <th>16</th>\n",
              "      <td>39809</td>\n",
              "      <td>39809</td>\n",
              "      <td>INCIDENTE</td>\n",
              "      <td>SÃO PAULO</td>\n",
              "      <td>SP</td>\n",
              "      <td>&lt;NA&gt;</td>\n",
              "      <td>2010-01-15</td>\n",
              "      <td>15:00:00</td>\n",
              "      <td>0</td>\n",
              "    </tr>\n",
              "    <tr>\n",
              "      <th>18</th>\n",
              "      <td>39828</td>\n",
              "      <td>39828</td>\n",
              "      <td>INCIDENTE</td>\n",
              "      <td>SANTOS</td>\n",
              "      <td>SP</td>\n",
              "      <td>&lt;NA&gt;</td>\n",
              "      <td>2010-01-15</td>\n",
              "      <td>17:45:00</td>\n",
              "      <td>0</td>\n",
              "    </tr>\n",
              "    <tr>\n",
              "      <th>26</th>\n",
              "      <td>39847</td>\n",
              "      <td>39847</td>\n",
              "      <td>INCIDENTE</td>\n",
              "      <td>SOROCABA</td>\n",
              "      <td>SP</td>\n",
              "      <td>&lt;NA&gt;</td>\n",
              "      <td>2010-01-20</td>\n",
              "      <td>13:10:00</td>\n",
              "      <td>0</td>\n",
              "    </tr>\n",
              "    <tr>\n",
              "      <th>27</th>\n",
              "      <td>39768</td>\n",
              "      <td>39768</td>\n",
              "      <td>INCIDENTE</td>\n",
              "      <td>CAMPINAS</td>\n",
              "      <td>SP</td>\n",
              "      <td>&lt;NA&gt;</td>\n",
              "      <td>2010-01-21</td>\n",
              "      <td>20:45:00</td>\n",
              "      <td>0</td>\n",
              "    </tr>\n",
              "    <tr>\n",
              "      <th>...</th>\n",
              "      <td>...</td>\n",
              "      <td>...</td>\n",
              "      <td>...</td>\n",
              "      <td>...</td>\n",
              "      <td>...</td>\n",
              "      <td>...</td>\n",
              "      <td>...</td>\n",
              "      <td>...</td>\n",
              "      <td>...</td>\n",
              "    </tr>\n",
              "    <tr>\n",
              "      <th>5683</th>\n",
              "      <td>79730</td>\n",
              "      <td>79730</td>\n",
              "      <td>INCIDENTE</td>\n",
              "      <td>SÃO PAULO</td>\n",
              "      <td>SP</td>\n",
              "      <td>&lt;NA&gt;</td>\n",
              "      <td>2020-11-17</td>\n",
              "      <td>16:00:00</td>\n",
              "      <td>0</td>\n",
              "    </tr>\n",
              "    <tr>\n",
              "      <th>5696</th>\n",
              "      <td>79692</td>\n",
              "      <td>79692</td>\n",
              "      <td>ACIDENTE</td>\n",
              "      <td>CATANDUVA</td>\n",
              "      <td>SP</td>\n",
              "      <td>SDCD</td>\n",
              "      <td>2020-11-28</td>\n",
              "      <td>12:50:00</td>\n",
              "      <td>0</td>\n",
              "    </tr>\n",
              "    <tr>\n",
              "      <th>5700</th>\n",
              "      <td>79699</td>\n",
              "      <td>79699</td>\n",
              "      <td>INCIDENTE</td>\n",
              "      <td>GUARULHOS</td>\n",
              "      <td>SP</td>\n",
              "      <td>SBGR</td>\n",
              "      <td>2020-11-30</td>\n",
              "      <td>17:00:00</td>\n",
              "      <td>0</td>\n",
              "    </tr>\n",
              "    <tr>\n",
              "      <th>5742</th>\n",
              "      <td>79800</td>\n",
              "      <td>79800</td>\n",
              "      <td>INCIDENTE</td>\n",
              "      <td>SÃO PAULO</td>\n",
              "      <td>SP</td>\n",
              "      <td>SBMT</td>\n",
              "      <td>2020-12-28</td>\n",
              "      <td>10:15:00</td>\n",
              "      <td>0</td>\n",
              "    </tr>\n",
              "    <tr>\n",
              "      <th>5747</th>\n",
              "      <td>79804</td>\n",
              "      <td>79804</td>\n",
              "      <td>INCIDENTE</td>\n",
              "      <td>CAMPINAS</td>\n",
              "      <td>SP</td>\n",
              "      <td>SBKP</td>\n",
              "      <td>2020-12-29</td>\n",
              "      <td>19:00:00</td>\n",
              "      <td>0</td>\n",
              "    </tr>\n",
              "  </tbody>\n",
              "</table>\n",
              "<p>1236 rows × 9 columns</p>\n",
              "</div>"
            ],
            "text/plain": [
              "      codigo_ocorrencia  ...  total_recomendacoes\n",
              "11                40069  ...                    8\n",
              "16                39809  ...                    0\n",
              "18                39828  ...                    0\n",
              "26                39847  ...                    0\n",
              "27                39768  ...                    0\n",
              "...                 ...  ...                  ...\n",
              "5683              79730  ...                    0\n",
              "5696              79692  ...                    0\n",
              "5700              79699  ...                    0\n",
              "5742              79800  ...                    0\n",
              "5747              79804  ...                    0\n",
              "\n",
              "[1236 rows x 9 columns]"
            ]
          },
          "metadata": {},
          "execution_count": 27
        }
      ]
    },
    {
      "cell_type": "code",
      "metadata": {
        "id": "3pmR6-Gi4UXe",
        "colab": {
          "base_uri": "https://localhost:8080/",
          "height": 442
        },
        "outputId": "9f19a83b-0afd-454f-df6e-5791f8a85e67"
      },
      "source": [
        "#filtroLetra = df['ocorrencia_cidade'].str[0] == 'C'\n",
        "filtroLetra = df['ocorrencia_cidade'].str[-2:] == 'RA'\n",
        "df.loc[filtroLetra]"
      ],
      "execution_count": 28,
      "outputs": [
        {
          "output_type": "execute_result",
          "data": {
            "text/html": [
              "<div>\n",
              "<style scoped>\n",
              "    .dataframe tbody tr th:only-of-type {\n",
              "        vertical-align: middle;\n",
              "    }\n",
              "\n",
              "    .dataframe tbody tr th {\n",
              "        vertical-align: top;\n",
              "    }\n",
              "\n",
              "    .dataframe thead th {\n",
              "        text-align: right;\n",
              "    }\n",
              "</style>\n",
              "<table border=\"1\" class=\"dataframe\">\n",
              "  <thead>\n",
              "    <tr style=\"text-align: right;\">\n",
              "      <th></th>\n",
              "      <th>codigo_ocorrencia</th>\n",
              "      <th>codigo_ocorrencia2</th>\n",
              "      <th>ocorrencia_classificacao</th>\n",
              "      <th>ocorrencia_cidade</th>\n",
              "      <th>ocorrencia_uf</th>\n",
              "      <th>ocorrencia_aerodromo</th>\n",
              "      <th>ocorrencia_dia</th>\n",
              "      <th>ocorrencia_hora</th>\n",
              "      <th>total_recomendacoes</th>\n",
              "    </tr>\n",
              "  </thead>\n",
              "  <tbody>\n",
              "    <tr>\n",
              "      <th>48</th>\n",
              "      <td>39235</td>\n",
              "      <td>39235</td>\n",
              "      <td>ACIDENTE</td>\n",
              "      <td>ITUMBIARA</td>\n",
              "      <td>GO</td>\n",
              "      <td>&lt;NA&gt;</td>\n",
              "      <td>2010-02-06</td>\n",
              "      <td>17:20:00</td>\n",
              "      <td>3</td>\n",
              "    </tr>\n",
              "    <tr>\n",
              "      <th>53</th>\n",
              "      <td>39405</td>\n",
              "      <td>39405</td>\n",
              "      <td>ACIDENTE</td>\n",
              "      <td>ITIQUIRA</td>\n",
              "      <td>MT</td>\n",
              "      <td>&lt;NA&gt;</td>\n",
              "      <td>2010-02-07</td>\n",
              "      <td>11:30:00</td>\n",
              "      <td>1</td>\n",
              "    </tr>\n",
              "    <tr>\n",
              "      <th>61</th>\n",
              "      <td>41377</td>\n",
              "      <td>41377</td>\n",
              "      <td>ACIDENTE</td>\n",
              "      <td>SERRA NEGRA</td>\n",
              "      <td>SP</td>\n",
              "      <td>&lt;NA&gt;</td>\n",
              "      <td>2010-02-14</td>\n",
              "      <td>17:30:00</td>\n",
              "      <td>0</td>\n",
              "    </tr>\n",
              "    <tr>\n",
              "      <th>68</th>\n",
              "      <td>40318</td>\n",
              "      <td>40318</td>\n",
              "      <td>INCIDENTE</td>\n",
              "      <td>JUIZ DE FORA</td>\n",
              "      <td>MG</td>\n",
              "      <td>&lt;NA&gt;</td>\n",
              "      <td>2010-02-22</td>\n",
              "      <td>13:47:00</td>\n",
              "      <td>0</td>\n",
              "    </tr>\n",
              "    <tr>\n",
              "      <th>187</th>\n",
              "      <td>41574</td>\n",
              "      <td>41574</td>\n",
              "      <td>INCIDENTE</td>\n",
              "      <td>JUIZ DE FORA</td>\n",
              "      <td>MG</td>\n",
              "      <td>&lt;NA&gt;</td>\n",
              "      <td>2010-05-14</td>\n",
              "      <td>23:57:00</td>\n",
              "      <td>0</td>\n",
              "    </tr>\n",
              "    <tr>\n",
              "      <th>...</th>\n",
              "      <td>...</td>\n",
              "      <td>...</td>\n",
              "      <td>...</td>\n",
              "      <td>...</td>\n",
              "      <td>...</td>\n",
              "      <td>...</td>\n",
              "      <td>...</td>\n",
              "      <td>...</td>\n",
              "      <td>...</td>\n",
              "    </tr>\n",
              "    <tr>\n",
              "      <th>5488</th>\n",
              "      <td>79412</td>\n",
              "      <td>79412</td>\n",
              "      <td>INCIDENTE GRAVE</td>\n",
              "      <td>QUADRA</td>\n",
              "      <td>SP</td>\n",
              "      <td>SIVQ</td>\n",
              "      <td>2020-06-20</td>\n",
              "      <td>20:00:00</td>\n",
              "      <td>0</td>\n",
              "    </tr>\n",
              "    <tr>\n",
              "      <th>5628</th>\n",
              "      <td>79595</td>\n",
              "      <td>79595</td>\n",
              "      <td>ACIDENTE</td>\n",
              "      <td>PIRAQUARA</td>\n",
              "      <td>PR</td>\n",
              "      <td>SISY</td>\n",
              "      <td>2020-10-07</td>\n",
              "      <td>14:55:00</td>\n",
              "      <td>0</td>\n",
              "    </tr>\n",
              "    <tr>\n",
              "      <th>5685</th>\n",
              "      <td>79687</td>\n",
              "      <td>79687</td>\n",
              "      <td>INCIDENTE</td>\n",
              "      <td>ALTAMIRA</td>\n",
              "      <td>PA</td>\n",
              "      <td>SBIH</td>\n",
              "      <td>2020-11-19</td>\n",
              "      <td>17:26:00</td>\n",
              "      <td>0</td>\n",
              "    </tr>\n",
              "    <tr>\n",
              "      <th>5722</th>\n",
              "      <td>79738</td>\n",
              "      <td>79738</td>\n",
              "      <td>INCIDENTE</td>\n",
              "      <td>ITUMBIARA</td>\n",
              "      <td>GO</td>\n",
              "      <td>&lt;NA&gt;</td>\n",
              "      <td>2020-12-16</td>\n",
              "      <td>20:30:00</td>\n",
              "      <td>0</td>\n",
              "    </tr>\n",
              "    <tr>\n",
              "      <th>5734</th>\n",
              "      <td>79766</td>\n",
              "      <td>79766</td>\n",
              "      <td>INCIDENTE GRAVE</td>\n",
              "      <td>JUIZ DE FORA</td>\n",
              "      <td>MG</td>\n",
              "      <td>SBJF</td>\n",
              "      <td>2020-12-21</td>\n",
              "      <td>16:20:00</td>\n",
              "      <td>0</td>\n",
              "    </tr>\n",
              "  </tbody>\n",
              "</table>\n",
              "<p>116 rows × 9 columns</p>\n",
              "</div>"
            ],
            "text/plain": [
              "      codigo_ocorrencia  ...  total_recomendacoes\n",
              "48                39235  ...                    3\n",
              "53                39405  ...                    1\n",
              "61                41377  ...                    0\n",
              "68                40318  ...                    0\n",
              "187               41574  ...                    0\n",
              "...                 ...  ...                  ...\n",
              "5488              79412  ...                    0\n",
              "5628              79595  ...                    0\n",
              "5685              79687  ...                    0\n",
              "5722              79738  ...                    0\n",
              "5734              79766  ...                    0\n",
              "\n",
              "[116 rows x 9 columns]"
            ]
          },
          "metadata": {},
          "execution_count": 28
        }
      ]
    },
    {
      "cell_type": "code",
      "metadata": {
        "id": "XmfV4Ynv5O3v",
        "colab": {
          "base_uri": "https://localhost:8080/",
          "height": 459
        },
        "outputId": "316fe8b2-a4af-486d-d1cf-79cb14c00e58"
      },
      "source": [
        "#filtroContem = df['ocorrencia_cidade'].str.contains('RIO | MA')\n",
        "filtroContem = df['ocorrencia_cidade'].str.contains('RIO')\n",
        "df.loc[filtroContem]"
      ],
      "execution_count": 29,
      "outputs": [
        {
          "output_type": "execute_result",
          "data": {
            "text/html": [
              "<div>\n",
              "<style scoped>\n",
              "    .dataframe tbody tr th:only-of-type {\n",
              "        vertical-align: middle;\n",
              "    }\n",
              "\n",
              "    .dataframe tbody tr th {\n",
              "        vertical-align: top;\n",
              "    }\n",
              "\n",
              "    .dataframe thead th {\n",
              "        text-align: right;\n",
              "    }\n",
              "</style>\n",
              "<table border=\"1\" class=\"dataframe\">\n",
              "  <thead>\n",
              "    <tr style=\"text-align: right;\">\n",
              "      <th></th>\n",
              "      <th>codigo_ocorrencia</th>\n",
              "      <th>codigo_ocorrencia2</th>\n",
              "      <th>ocorrencia_classificacao</th>\n",
              "      <th>ocorrencia_cidade</th>\n",
              "      <th>ocorrencia_uf</th>\n",
              "      <th>ocorrencia_aerodromo</th>\n",
              "      <th>ocorrencia_dia</th>\n",
              "      <th>ocorrencia_hora</th>\n",
              "      <th>total_recomendacoes</th>\n",
              "    </tr>\n",
              "  </thead>\n",
              "  <tbody>\n",
              "    <tr>\n",
              "      <th>0</th>\n",
              "      <td>40211</td>\n",
              "      <td>40211</td>\n",
              "      <td>INCIDENTE</td>\n",
              "      <td>RIO DE JANEIRO</td>\n",
              "      <td>RJ</td>\n",
              "      <td>&lt;NA&gt;</td>\n",
              "      <td>2010-01-03</td>\n",
              "      <td>12:00:00</td>\n",
              "      <td>0</td>\n",
              "    </tr>\n",
              "    <tr>\n",
              "      <th>2</th>\n",
              "      <td>40351</td>\n",
              "      <td>40351</td>\n",
              "      <td>INCIDENTE</td>\n",
              "      <td>RIO DE JANEIRO</td>\n",
              "      <td>RJ</td>\n",
              "      <td>SBRJ</td>\n",
              "      <td>2010-01-03</td>\n",
              "      <td>03:00:00</td>\n",
              "      <td>0</td>\n",
              "    </tr>\n",
              "    <tr>\n",
              "      <th>3</th>\n",
              "      <td>39527</td>\n",
              "      <td>39527</td>\n",
              "      <td>ACIDENTE</td>\n",
              "      <td>LUCAS DO RIO VERDE</td>\n",
              "      <td>MT</td>\n",
              "      <td>&lt;NA&gt;</td>\n",
              "      <td>2010-01-04</td>\n",
              "      <td>17:30:00</td>\n",
              "      <td>0</td>\n",
              "    </tr>\n",
              "    <tr>\n",
              "      <th>19</th>\n",
              "      <td>44575</td>\n",
              "      <td>44575</td>\n",
              "      <td>INCIDENTE</td>\n",
              "      <td>RIO DE JANEIRO</td>\n",
              "      <td>RJ</td>\n",
              "      <td>SBGL</td>\n",
              "      <td>2010-01-17</td>\n",
              "      <td>12:27:00</td>\n",
              "      <td>0</td>\n",
              "    </tr>\n",
              "    <tr>\n",
              "      <th>23</th>\n",
              "      <td>40311</td>\n",
              "      <td>40311</td>\n",
              "      <td>INCIDENTE</td>\n",
              "      <td>RIO DE JANEIRO</td>\n",
              "      <td>RJ</td>\n",
              "      <td>&lt;NA&gt;</td>\n",
              "      <td>2010-01-19</td>\n",
              "      <td>13:20:00</td>\n",
              "      <td>0</td>\n",
              "    </tr>\n",
              "    <tr>\n",
              "      <th>...</th>\n",
              "      <td>...</td>\n",
              "      <td>...</td>\n",
              "      <td>...</td>\n",
              "      <td>...</td>\n",
              "      <td>...</td>\n",
              "      <td>...</td>\n",
              "      <td>...</td>\n",
              "      <td>...</td>\n",
              "      <td>...</td>\n",
              "    </tr>\n",
              "    <tr>\n",
              "      <th>5717</th>\n",
              "      <td>79719</td>\n",
              "      <td>79719</td>\n",
              "      <td>ACIDENTE</td>\n",
              "      <td>RIO BRILHANTE</td>\n",
              "      <td>MS</td>\n",
              "      <td>&lt;NA&gt;</td>\n",
              "      <td>2020-12-12</td>\n",
              "      <td>18:00:00</td>\n",
              "      <td>0</td>\n",
              "    </tr>\n",
              "    <tr>\n",
              "      <th>5724</th>\n",
              "      <td>79740</td>\n",
              "      <td>79740</td>\n",
              "      <td>INCIDENTE</td>\n",
              "      <td>RIO LARGO</td>\n",
              "      <td>AL</td>\n",
              "      <td>SBMO</td>\n",
              "      <td>2020-12-17</td>\n",
              "      <td>14:26:00</td>\n",
              "      <td>0</td>\n",
              "    </tr>\n",
              "    <tr>\n",
              "      <th>5743</th>\n",
              "      <td>79824</td>\n",
              "      <td>79824</td>\n",
              "      <td>ACIDENTE</td>\n",
              "      <td>RIO PARANAÍBA</td>\n",
              "      <td>MG</td>\n",
              "      <td>SNRP</td>\n",
              "      <td>2020-12-28</td>\n",
              "      <td>17:00:00</td>\n",
              "      <td>0</td>\n",
              "    </tr>\n",
              "    <tr>\n",
              "      <th>5749</th>\n",
              "      <td>79802</td>\n",
              "      <td>79802</td>\n",
              "      <td>INCIDENTE</td>\n",
              "      <td>RIO DE JANEIRO</td>\n",
              "      <td>RJ</td>\n",
              "      <td>SBGL</td>\n",
              "      <td>2020-12-30</td>\n",
              "      <td>00:54:00</td>\n",
              "      <td>0</td>\n",
              "    </tr>\n",
              "    <tr>\n",
              "      <th>5751</th>\n",
              "      <td>79844</td>\n",
              "      <td>79844</td>\n",
              "      <td>INCIDENTE</td>\n",
              "      <td>RIO DE JANEIRO</td>\n",
              "      <td>RJ</td>\n",
              "      <td>SBJR</td>\n",
              "      <td>2020-12-31</td>\n",
              "      <td>13:24:00</td>\n",
              "      <td>0</td>\n",
              "    </tr>\n",
              "  </tbody>\n",
              "</table>\n",
              "<p>489 rows × 9 columns</p>\n",
              "</div>"
            ],
            "text/plain": [
              "      codigo_ocorrencia  ...  total_recomendacoes\n",
              "0                 40211  ...                    0\n",
              "2                 40351  ...                    0\n",
              "3                 39527  ...                    0\n",
              "19                44575  ...                    0\n",
              "23                40311  ...                    0\n",
              "...                 ...  ...                  ...\n",
              "5717              79719  ...                    0\n",
              "5724              79740  ...                    0\n",
              "5743              79824  ...                    0\n",
              "5749              79802  ...                    0\n",
              "5751              79844  ...                    0\n",
              "\n",
              "[489 rows x 9 columns]"
            ]
          },
          "metadata": {},
          "execution_count": 29
        }
      ]
    },
    {
      "cell_type": "code",
      "metadata": {
        "colab": {
          "base_uri": "https://localhost:8080/"
        },
        "id": "myqB7Vvc7XcC",
        "outputId": "7b49e603-29db-42da-8a69-8221c55be35e"
      },
      "source": [
        "filtroData = df['ocorrencia_dia'].dt.year == 2018\n",
        "df.loc[filtroData & filter5 & filter2].shape"
      ],
      "execution_count": 32,
      "outputs": [
        {
          "output_type": "execute_result",
          "data": {
            "text/plain": [
              "(27, 9)"
            ]
          },
          "metadata": {},
          "execution_count": 32
        }
      ]
    },
    {
      "cell_type": "code",
      "metadata": {
        "id": "LX72ZET-8xs2"
      },
      "source": [
        "filter_ano = df['ocorrencia_dia'].dt.year == 2016\n",
        "filter_mes = df['ocorrencia_dia'].dt.month == 11\n",
        "filter_dia_range = (df['ocorrencia_dia'].dt.day > 2) & (df['ocorrencia_dia'].dt.day < 22)\n",
        "\n",
        "df.loc[filter_ano & filter_mes & filter_dia_range]"
      ],
      "execution_count": null,
      "outputs": []
    },
    {
      "cell_type": "code",
      "metadata": {
        "id": "TQ66RKDEpABH"
      },
      "source": [
        "df['data_hora'] = pd.to_datetime(df['ocorrencia_dia'].astype(str) + ' ' + df['ocorrencia_hora'])"
      ],
      "execution_count": 43,
      "outputs": []
    },
    {
      "cell_type": "code",
      "metadata": {
        "id": "N2bXpKEfsffe"
      },
      "source": [
        "periodo_inicial = df['data_hora'] >= '2018-10-01 00:00:00'\n",
        "periodo_final = df['data_hora'] <= '2018-10-15 23:00:00'"
      ],
      "execution_count": 46,
      "outputs": []
    },
    {
      "cell_type": "code",
      "metadata": {
        "id": "BYAzg44eshI_"
      },
      "source": [
        "df.loc[periodo_inicial & periodo_final]"
      ],
      "execution_count": null,
      "outputs": []
    },
    {
      "cell_type": "markdown",
      "metadata": {
        "id": "al7EUAxE1dEq"
      },
      "source": [
        "**FILTROS PARA LOAD/CARREGAMENTO**"
      ]
    },
    {
      "cell_type": "code",
      "metadata": {
        "id": "USTgiWU4yvNt"
      },
      "source": [
        "filtro_ano = df['ocorrencia_dia'].dt.year == 2012\n",
        "filtro_mes = df['ocorrencia_dia'].dt.month == 3\n",
        "df2012marco = df.loc[filtro_ano & filtro_mes]"
      ],
      "execution_count": 52,
      "outputs": []
    },
    {
      "cell_type": "code",
      "metadata": {
        "colab": {
          "base_uri": "https://localhost:8080/"
        },
        "id": "h7_4RCBBzYPH",
        "outputId": "1418c676-c3a0-4ae3-da5f-7b7c4037c120"
      },
      "source": [
        "df2012marco.count()"
      ],
      "execution_count": 54,
      "outputs": [
        {
          "output_type": "execute_result",
          "data": {
            "text/plain": [
              "codigo_ocorrencia           61\n",
              "codigo_ocorrencia2          61\n",
              "ocorrencia_classificacao    61\n",
              "ocorrencia_cidade           61\n",
              "ocorrencia_uf               61\n",
              "ocorrencia_aerodromo        30\n",
              "ocorrencia_dia              61\n",
              "ocorrencia_hora             61\n",
              "total_recomendacoes         61\n",
              "data_hora                   61\n",
              "dtype: int64"
            ]
          },
          "metadata": {},
          "execution_count": 54
        }
      ]
    },
    {
      "cell_type": "code",
      "metadata": {
        "colab": {
          "base_uri": "https://localhost:8080/"
        },
        "id": "8psZ8lkF6mgo",
        "outputId": "f9a668fa-0716-4162-a846-e4095c903631"
      },
      "source": [
        "df2012marco.groupby(['ocorrencia_classificacao'])['ocorrencia_classificacao'].count()"
      ],
      "execution_count": 58,
      "outputs": [
        {
          "output_type": "execute_result",
          "data": {
            "text/plain": [
              "ocorrencia_classificacao\n",
              "ACIDENTE           14\n",
              "INCIDENTE          43\n",
              "INCIDENTE GRAVE     4\n",
              "Name: ocorrencia_classificacao, dtype: int64"
            ]
          },
          "metadata": {},
          "execution_count": 58
        }
      ]
    },
    {
      "cell_type": "code",
      "metadata": {
        "colab": {
          "base_uri": "https://localhost:8080/"
        },
        "id": "O-eUyot12Vgg",
        "outputId": "b716f67b-068f-4f2f-d3f7-710983c77b40"
      },
      "source": [
        "df2012marco.groupby(['ocorrencia_classificacao']).size()"
      ],
      "execution_count": 56,
      "outputs": [
        {
          "output_type": "execute_result",
          "data": {
            "text/plain": [
              "ocorrencia_classificacao\n",
              "ACIDENTE           14\n",
              "INCIDENTE          43\n",
              "INCIDENTE GRAVE     4\n",
              "dtype: int64"
            ]
          },
          "metadata": {},
          "execution_count": 56
        }
      ]
    },
    {
      "cell_type": "code",
      "metadata": {
        "colab": {
          "base_uri": "https://localhost:8080/"
        },
        "id": "oJKf1NR24R_w",
        "outputId": "cc1d9886-53f0-4bbb-9b51-21a15e0d095b"
      },
      "source": [
        "df2012marco.groupby(['ocorrencia_classificacao']).size().sort_values(ascending=False)"
      ],
      "execution_count": 57,
      "outputs": [
        {
          "output_type": "execute_result",
          "data": {
            "text/plain": [
              "ocorrencia_classificacao\n",
              "INCIDENTE          43\n",
              "ACIDENTE           14\n",
              "INCIDENTE GRAVE     4\n",
              "dtype: int64"
            ]
          },
          "metadata": {},
          "execution_count": 57
        }
      ]
    },
    {
      "cell_type": "code",
      "metadata": {
        "id": "x5daDma-6HtF"
      },
      "source": [
        "ano2011 = df['ocorrencia_dia'].dt.year == 2011\n",
        "estados = df['ocorrencia_uf'].isin(['SP', 'RJ', 'MG', 'ES'])\n",
        "\n",
        "dfsudeste2011 = df.loc[ano2011 & estados]"
      ],
      "execution_count": 59,
      "outputs": []
    },
    {
      "cell_type": "code",
      "metadata": {
        "colab": {
          "base_uri": "https://localhost:8080/"
        },
        "id": "Di_KGOnC-1B9",
        "outputId": "98d39d21-cced-4d40-8c52-ffe1fcfc9ad0"
      },
      "source": [
        "dfsudeste2011.shape"
      ],
      "execution_count": 61,
      "outputs": [
        {
          "output_type": "execute_result",
          "data": {
            "text/plain": [
              "(262, 10)"
            ]
          },
          "metadata": {},
          "execution_count": 61
        }
      ]
    },
    {
      "cell_type": "code",
      "metadata": {
        "colab": {
          "base_uri": "https://localhost:8080/"
        },
        "id": "qEBr78Rz-2TX",
        "outputId": "478a484f-92f7-4303-a846-5bd9de1f203e"
      },
      "source": [
        "dfsudeste2011.groupby(['ocorrencia_classificacao']).size()"
      ],
      "execution_count": 62,
      "outputs": [
        {
          "output_type": "execute_result",
          "data": {
            "text/plain": [
              "ocorrencia_classificacao\n",
              "ACIDENTE            65\n",
              "INCIDENTE          176\n",
              "INCIDENTE GRAVE     21\n",
              "dtype: int64"
            ]
          },
          "metadata": {},
          "execution_count": 62
        }
      ]
    },
    {
      "cell_type": "code",
      "metadata": {
        "id": "GGE6Cnsc_btE"
      },
      "source": [
        "dfsudeste2011.count()"
      ],
      "execution_count": null,
      "outputs": []
    },
    {
      "cell_type": "code",
      "metadata": {
        "colab": {
          "base_uri": "https://localhost:8080/"
        },
        "id": "sADhGvzX_mCL",
        "outputId": "03075d26-cfa5-4e15-e8d6-b5b221269416"
      },
      "source": [
        "dfsudeste2011.groupby(['ocorrencia_classificacao', 'ocorrencia_uf']).size()"
      ],
      "execution_count": 65,
      "outputs": [
        {
          "output_type": "execute_result",
          "data": {
            "text/plain": [
              "ocorrencia_classificacao  ocorrencia_uf\n",
              "ACIDENTE                  ES                1\n",
              "                          MG               12\n",
              "                          RJ                9\n",
              "                          SP               43\n",
              "INCIDENTE                 ES                6\n",
              "                          MG               23\n",
              "                          RJ               63\n",
              "                          SP               84\n",
              "INCIDENTE GRAVE           ES                2\n",
              "                          MG                7\n",
              "                          RJ                5\n",
              "                          SP                7\n",
              "dtype: int64"
            ]
          },
          "metadata": {},
          "execution_count": 65
        }
      ]
    },
    {
      "cell_type": "code",
      "metadata": {
        "colab": {
          "base_uri": "https://localhost:8080/"
        },
        "id": "qsHp6qXz_8gP",
        "outputId": "b4b80137-07da-42c0-b6c1-2da2069335b9"
      },
      "source": [
        "dfsudeste2011.groupby(['ocorrencia_cidade', 'ocorrencia_uf']).size().sort_values(ascending=False)"
      ],
      "execution_count": 68,
      "outputs": [
        {
          "output_type": "execute_result",
          "data": {
            "text/plain": [
              "ocorrencia_cidade  ocorrencia_uf\n",
              "RIO DE JANEIRO     RJ               44\n",
              "GUARULHOS          SP               20\n",
              "SÃO PAULO          SP               20\n",
              "BELO HORIZONTE     MG               14\n",
              "RIBEIRÃO PRETO     SP               14\n",
              "                                    ..\n",
              "MARÍLIA            SP                1\n",
              "VILA VELHA         ES                1\n",
              "MANHUAÇU           MG                1\n",
              "JAÍBA              MG                1\n",
              "AIMORÉS            MG                1\n",
              "Length: 84, dtype: int64"
            ]
          },
          "metadata": {},
          "execution_count": 68
        }
      ]
    },
    {
      "cell_type": "code",
      "metadata": {
        "id": "ozBtMD99ApDH"
      },
      "source": [
        "dfsudeste2011.groupby(['ocorrencia_aerodromo'], dropna=False)['total_recomendacoes'].sum()"
      ],
      "execution_count": null,
      "outputs": []
    },
    {
      "cell_type": "markdown",
      "metadata": {
        "id": "aH3v_FEyFM5I"
      },
      "source": [
        "**CARREGAMENTO PARA CSV**"
      ]
    },
    {
      "cell_type": "code",
      "metadata": {
        "id": "MbOVROnVDVsp"
      },
      "source": [
        "dfsudeste2011.to_csv('/content/drive/MyDrive/Soul_Code_Academy/repositorio_pandas/sudeste2011.csv', sep=';', index=False)"
      ],
      "execution_count": 76,
      "outputs": []
    },
    {
      "cell_type": "code",
      "metadata": {
        "id": "BO3JE6KtF-o9"
      },
      "source": [
        "df2012marco.to_csv('/content/drive/MyDrive/Soul_Code_Academy/repositorio_pandas/marco2012.csv', sep=';', index=False)"
      ],
      "execution_count": 77,
      "outputs": []
    },
    {
      "cell_type": "code",
      "metadata": {
        "id": "lyaRc0x6GjoA"
      },
      "source": [
        "teste = pd.read_csv('/content/drive/MyDrive/Soul_Code_Academy/repositorio_pandas/marco2012.csv', sep=';')"
      ],
      "execution_count": 78,
      "outputs": []
    },
    {
      "cell_type": "code",
      "metadata": {
        "id": "KrPJXY3BGuD2"
      },
      "source": [
        "teste"
      ],
      "execution_count": null,
      "outputs": []
    },
    {
      "cell_type": "code",
      "metadata": {
        "id": "VOTbTZBzGuya"
      },
      "source": [
        ""
      ],
      "execution_count": null,
      "outputs": []
    }
  ]
}